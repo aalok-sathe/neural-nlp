{
 "cells": [
  {
   "cell_type": "code",
   "execution_count": 1,
   "metadata": {},
   "outputs": [],
   "source": [
    "import os\n",
    "import pickle\n",
    "import numpy as np\n",
    "import pandas as pd"
   ]
  },
  {
   "cell_type": "code",
   "execution_count": 2,
   "metadata": {},
   "outputs": [],
   "source": [
    "working_dir = \"/om2/user/ckauf/.result_caching/neural_nlp.models.wrapper.core.ActivationsExtractorHelper._from_sentences_stored\""
   ]
  },
  {
   "cell_type": "markdown",
   "metadata": {},
   "source": [
    "## Example of what the structure looks like"
   ]
  },
  {
   "cell_type": "code",
   "execution_count": 4,
   "metadata": {},
   "outputs": [
    {
     "name": "stdout",
     "output_type": "stream",
     "text": [
      "['projection']\n",
      "projection\n",
      "<xarray.NeuroidAssembly (presentation: 4, neuroid: 300)>\n",
      "array([[ 0.004457,  0.077929, -0.103699, ..., -0.261306, -0.007627,  0.194675],\n",
      "       [-0.101523,  0.061935, -0.132709, ..., -0.363577,  0.166671,  0.197726],\n",
      "       [-0.188426,  0.044563,  0.027355, ..., -0.218456,  0.014926,  0.176471],\n",
      "       [-0.244006,  0.081785,  0.033568, ..., -0.583785,  0.257052,  0.147002]],\n",
      "      dtype=float32)\n",
      "Coordinates:\n",
      "  * presentation       (presentation) MultiIndex\n",
      "  - stimulus_sentence  (presentation) object 'a banana is a long fruit that grows in bunchs with a soft edible inside' ... 'unripe bananas and plantains are staple foods and often cooked like potatoes'\n",
      "  - sentence_num       (presentation) int64 0 1 2 3\n",
      "  * neuroid            (neuroid) MultiIndex\n",
      "  - neuroid_num        (neuroid) int64 0 1 2 3 4 5 6 7 ... 23 24 25 26 27 28 29\n",
      "  - model              (neuroid) object 'glove' 'glove' ... 'glove' 'glove'\n",
      "  - layer              (neuroid) object 'projection' ... 'projection'\n",
      "  - neuroid_id         (neuroid) object 'glove.projection.0' ... 'glove.projection.29'\n"
     ]
    }
   ],
   "source": [
    "file = os.path.join(working_dir, \"identifier=glove,stimuli_identifier=Pereira2018-Original-384sentences7.pkl\")\n",
    "with open(file, 'rb') as f:\n",
    "    result = pickle.load(f)\n",
    "\n",
    "data = result['data']\n",
    "#data\n",
    "\n",
    "layers = np.unique(data.layer)\n",
    "print(layers)\n",
    "last_layer = layers[-1]\n",
    "print(last_layer)\n",
    "data[{\"neuroid\": [layer == last_layer for layer in data[\"layer\"].values]}]\n",
    "print(data)"
   ]
  },
  {
   "cell_type": "code",
   "execution_count": 29,
   "metadata": {},
   "outputs": [
    {
     "data": {
      "text/plain": [
       "(4, 5376)"
      ]
     },
     "execution_count": 29,
     "metadata": {},
     "output_type": "execute_result"
    }
   ],
   "source": [
    "dfile = os.path.join(working_dir, \"identifier=distilgpt2,stimuli_identifier=Pereira2018-Original-384sentences7.pkl\")\n",
    "with open(dfile, 'rb') as f:\n",
    "    dresult = pickle.load(f)\n",
    "\n",
    "ddata = dresult['data']\n",
    "ddata.values.shape"
   ]
  },
  {
   "cell_type": "code",
   "execution_count": 5,
   "metadata": {},
   "outputs": [
    {
     "data": {
      "text/plain": [
       "(4, 300)"
      ]
     },
     "execution_count": 5,
     "metadata": {},
     "output_type": "execute_result"
    }
   ],
   "source": [
    "data.shape\n",
    "# number of sentences in passage * hidden layer activation"
   ]
  },
  {
   "cell_type": "code",
   "execution_count": 6,
   "metadata": {},
   "outputs": [
    {
     "data": {
      "text/plain": [
       "array(['projection'], dtype=object)"
      ]
     },
     "execution_count": 6,
     "metadata": {},
     "output_type": "execute_result"
    }
   ],
   "source": [
    "np.unique(data.layer) "
   ]
  },
  {
   "cell_type": "code",
   "execution_count": null,
   "metadata": {},
   "outputs": [],
   "source": []
  },
  {
   "cell_type": "markdown",
   "metadata": {},
   "source": [
    "## Create dictionary\n",
    "### Structure:\n",
    "\n",
    "For all models one separate dictionary structured as follows:\n",
    "* key = sentenceIdentifier _ conditionIdentifier\n",
    "* value = associated unpickled file (assembly like above)"
   ]
  },
  {
   "cell_type": "code",
   "execution_count": 3,
   "metadata": {},
   "outputs": [
    {
     "name": "stdout",
     "output_type": "stream",
     "text": [
      "0\n",
      "500\n",
      "1000\n",
      "1500\n",
      "2000\n",
      "2500\n",
      "3000\n",
      "3500\n",
      "4000\n",
      "Done\n"
     ]
    }
   ],
   "source": [
    "glove_dic = {}\n",
    "lm1b_dic = {}\n",
    "distilgpt2_dic = {}\n",
    "\n",
    "for ind,filename in enumerate(os.listdir(working_dir)):\n",
    "    if ind%500 == 0:\n",
    "        print(ind)\n",
    "        \n",
    "    if \"identifier=glove\" in filename:\n",
    "        passage = filename.split(\",\")[-1].split(\"-\")[-1].split(\".\")[0]\n",
    "        condition = filename.split(\",\")[-1].split(\"-\")[-2]\n",
    "        #key = passage + \"_\" + condition\n",
    "        file = os.path.join(working_dir,filename)\n",
    "        with open(file, 'rb') as f:\n",
    "            result = pickle.load(f)\n",
    "        #glove_dic[key] = result\n",
    "        if not condition in glove_dic:\n",
    "            glove_dic[condition] = {}\n",
    "        glove_dic[condition][passage] = result\n",
    "        \n",
    "    if \"identifier=lm_1b\" in filename:\n",
    "        passage = filename.split(\",\")[-1].split(\"-\")[-1].split(\".\")[0]\n",
    "        condition = filename.split(\",\")[-1].split(\"-\")[-2]\n",
    "        #key = passage + \"_\" + condition\n",
    "        file = os.path.join(working_dir,filename)\n",
    "        with open(file, 'rb') as f:\n",
    "            result = pickle.load(f)\n",
    "        #lm1b_dic[key] = result\n",
    "        if not condition in lm1b_dic:\n",
    "            lm1b_dic[condition] = {}\n",
    "        lm1b_dic[condition][passage] = result\n",
    "        \n",
    "    if \"identifier=distilgpt2\" in filename:\n",
    "        passage = filename.split(\",\")[-1].split(\"-\")[-1].split(\".\")[0]\n",
    "        condition = filename.split(\",\")[-1].split(\"-\")[-2]\n",
    "        #key = passage + \"_\" + condition\n",
    "        #print(key)\n",
    "        file = os.path.join(working_dir,filename)\n",
    "        with open(file, 'rb') as f:\n",
    "            result = pickle.load(f)\n",
    "        #distilgpt2_dic[key] = result\n",
    "        if not condition in distilgpt2_dic:\n",
    "            distilgpt2_dic[condition] = {}\n",
    "        distilgpt2_dic[condition][passage] = result\n",
    "print(\"Done\")"
   ]
  },
  {
   "cell_type": "code",
   "execution_count": 4,
   "metadata": {},
   "outputs": [
    {
     "name": "stdout",
     "output_type": "stream",
     "text": [
      "dict_keys(['Original', 'Scr1', 'Scr3', 'Scr5', 'Scr7', 'backward', 'lowPMI', 'random'])\n",
      "168\n"
     ]
    }
   ],
   "source": [
    "print(glove_dic.keys())\n",
    "print(len(glove_dic['Original']))"
   ]
  },
  {
   "cell_type": "code",
   "execution_count": 5,
   "metadata": {},
   "outputs": [
    {
     "name": "stdout",
     "output_type": "stream",
     "text": [
      "8\n"
     ]
    }
   ],
   "source": [
    "print(len(glove_dic)) # old, from different iteration // keeping for sanity check"
   ]
  },
  {
   "cell_type": "markdown",
   "metadata": {},
   "source": [
    "## Quick number sanity-check\n",
    "* 8 conditions á 168 passage encodings >> 8 * 168 = 1344\n",
    "* \n",
    "* 168 * 4 = 672 (Do all passages have 4 sentences?)\n",
    "* 243 + 384 = 627 (No, some must have fewer!)"
   ]
  },
  {
   "cell_type": "code",
   "execution_count": 10,
   "metadata": {},
   "outputs": [
    {
     "name": "stdout",
     "output_type": "stream",
     "text": [
      "{'Original': 168, 'Scr1': 168, 'Scr3': 168, 'Scr5': 168, 'Scr7': 168, 'backward': 168, 'lowPMI': 168, 'random': 168}\n"
     ]
    }
   ],
   "source": [
    "cond_dict = {}\n",
    "\n",
    "for ind,filename in enumerate(os.listdir(working_dir)):\n",
    "    if \"identifier=glove\" in filename:\n",
    "        condition = filename.split(\",\")[-1].split(\"-\")[-2]\n",
    "        if not condition in cond_dict:\n",
    "            cond_dict[condition] = 1\n",
    "        else:\n",
    "            cond_dict[condition] += 1\n",
    "print(cond_dict)"
   ]
  },
  {
   "cell_type": "markdown",
   "metadata": {},
   "source": [
    "__________________________________________________________________________________________________________________\n",
    "\n",
    "__________________________________________________________________________________________________________________\n"
   ]
  },
  {
   "cell_type": "markdown",
   "metadata": {},
   "source": [
    "# Get correlations"
   ]
  },
  {
   "cell_type": "markdown",
   "metadata": {},
   "source": [
    "### Questions\n",
    "* size is passage_len * hidden_layer_size >> Should correlation value come from a matrix norm?\n",
    "* alternatively, we could do independent plots for each layer."
   ]
  },
  {
   "cell_type": "markdown",
   "metadata": {},
   "source": [
    "__________________________________________________________________________________________________________________\n",
    "\n",
    "### Quick change: Better dictionary structure: sentence to condition"
   ]
  },
  {
   "cell_type": "code",
   "execution_count": 6,
   "metadata": {},
   "outputs": [
    {
     "name": "stdout",
     "output_type": "stream",
     "text": [
      "0\n",
      "500\n",
      "1000\n",
      "1500\n",
      "2000\n",
      "2500\n",
      "3000\n",
      "3500\n",
      "4000\n",
      "Done\n"
     ]
    }
   ],
   "source": [
    "glove_dic_senttocond = {}\n",
    "lm1b_dic_senttocond = {}\n",
    "distilgpt2_dic_senttocond = {}\n",
    "\n",
    "for ind,filename in enumerate(os.listdir(working_dir)):\n",
    "    if ind%500 == 0:\n",
    "        print(ind)\n",
    "        \n",
    "    if \"identifier=glove\" in filename:\n",
    "        passage = filename.split(\",\")[-1].split(\"-\")[-1].split(\".\")[0]\n",
    "        number = passage.split(\"sentences\")[-1]\n",
    "        if len(number) == 1:\n",
    "            new_name = passage[:-1] + number.zfill(2)\n",
    "        else:\n",
    "            new_name = passage\n",
    "        #print(new_name)\n",
    "        condition = filename.split(\",\")[-1].split(\"-\")[-2]\n",
    "        #key = passage + \"_\" + condition\n",
    "        file = os.path.join(working_dir,filename)\n",
    "        with open(file, 'rb') as f:\n",
    "            result = pickle.load(f)\n",
    "        result = result['data']\n",
    "        layers = np.unique(result.layer)\n",
    "        final_layer = layers[-1]\n",
    "        data = result[{\"neuroid\": [layer == final_layer for layer in result[\"layer\"].values]}]\n",
    "        \n",
    "        if not new_name in glove_dic_senttocond:\n",
    "            glove_dic_senttocond[new_name] = {}\n",
    "        glove_dic_senttocond[new_name][condition] = data\n",
    "        \n",
    "    if \"identifier=lm_1b\" in filename:\n",
    "        passage = filename.split(\",\")[-1].split(\"-\")[-1].split(\".\")[0]\n",
    "        number = passage.split(\"sentences\")[-1]\n",
    "        if len(number) == 1:\n",
    "            new_name = passage[:-1] + number.zfill(2)\n",
    "        else:\n",
    "            new_name = passage\n",
    "        condition = filename.split(\",\")[-1].split(\"-\")[-2]\n",
    "        #key = passage + \"_\" + condition\n",
    "        file = os.path.join(working_dir,filename)\n",
    "        with open(file, 'rb') as f:\n",
    "            result = pickle.load(f)\n",
    "        result = result['data']\n",
    "        layers = np.unique(result.layer)\n",
    "        final_layer = layers[-1]\n",
    "        data = result[{\"neuroid\": [layer == final_layer for layer in result[\"layer\"].values]}]\n",
    "\n",
    "        if not new_name in lm1b_dic_senttocond:\n",
    "            lm1b_dic_senttocond[new_name] = {}\n",
    "        lm1b_dic_senttocond[new_name][condition] = data\n",
    "        \n",
    "    if \"identifier=distilgpt2\" in filename:\n",
    "        passage = filename.split(\",\")[-1].split(\"-\")[-1].split(\".\")[0]\n",
    "        number = passage.split(\"sentences\")[-1]\n",
    "        if len(number) == 1:\n",
    "            new_name = passage[:-1] + number.zfill(2)\n",
    "        else:\n",
    "            new_name = passage\n",
    "        condition = filename.split(\",\")[-1].split(\"-\")[-2]\n",
    "\n",
    "        file = os.path.join(working_dir,filename)\n",
    "        with open(file, 'rb') as f:\n",
    "            result = pickle.load(f)\n",
    "        result = result['data']\n",
    "        layers = np.unique(result.layer)\n",
    "        final_layer = layers[-1]\n",
    "        data = result[{\"neuroid\": [layer == final_layer for layer in result[\"layer\"].values]}]\n",
    "        if not new_name in distilgpt2_dic_senttocond:\n",
    "            distilgpt2_dic_senttocond[new_name] = {}\n",
    "        distilgpt2_dic_senttocond[new_name][condition] = data\n",
    "print(\"Done\")"
   ]
  },
  {
   "cell_type": "code",
   "execution_count": 12,
   "metadata": {},
   "outputs": [],
   "source": [
    "#result\n",
    "#data = result[{\"neuroid\": [layer == \"encoder.h.5\" for layer in result[\"layer\"].values]}]\n",
    "#print(data)"
   ]
  },
  {
   "cell_type": "code",
   "execution_count": 13,
   "metadata": {},
   "outputs": [],
   "source": [
    "# old code\n",
    "#cols = df.corr(method='pearson').nlargest(k,target_col)[target_col].index\n",
    "#cm = df[cols].corr(method='pearson')\n",
    "#plt.figure(figsize=(15,8))\n",
    "#plt.tight_layout()\n",
    "#sns.heatmap(cm, annot=True, cmap = 'viridis')"
   ]
  },
  {
   "cell_type": "code",
   "execution_count": 4,
   "metadata": {},
   "outputs": [
    {
     "data": {
      "text/plain": [
       "(4, 768)"
      ]
     },
     "execution_count": 4,
     "metadata": {},
     "output_type": "execute_result"
    }
   ],
   "source": [
    "distilgpt2_dic_senttocond['384sentences02']['Original'].values.shape"
   ]
  },
  {
   "cell_type": "markdown",
   "metadata": {},
   "source": [
    "# Get correlation heatmap"
   ]
  },
  {
   "cell_type": "code",
   "execution_count": 24,
   "metadata": {},
   "outputs": [],
   "source": [
    "scr1 = []\n",
    "scr3 = []\n",
    "scr5 = []\n",
    "scr7 = []\n",
    "original = []\n",
    "lowpmi = []\n",
    "backward = []\n",
    "random = []\n",
    "\n",
    "sorted_dict = dict(sorted(distilgpt2_dic_senttocond.items()))\n",
    "for key, value in sorted_dict.items(): #key is passage, value is dic from cond to xarray data\n",
    "    original.append(value['Original'].values)\n",
    "    scr1.append(value['Scr1'].values)\n",
    "    scr3.append(value['Scr3'].values)\n",
    "    scr5.append(value['Scr5'].values)\n",
    "    scr7.append(value['Scr7'].values)\n",
    "    lowpmi.append(value['lowPMI'].values)\n",
    "    backward.append(value['backward'].values)\n",
    "    random.append(value['random'].values)\n"
   ]
  },
  {
   "cell_type": "code",
   "execution_count": 8,
   "metadata": {},
   "outputs": [
    {
     "name": "stdout",
     "output_type": "stream",
     "text": [
      "168\n",
      "<class 'numpy.ndarray'>\n",
      "4\n",
      "768\n"
     ]
    }
   ],
   "source": [
    "print(len(original))\n",
    "print(type(original[0]))\n",
    "print(len(original[0]))\n",
    "print(len(original[0][0]))"
   ]
  },
  {
   "cell_type": "code",
   "execution_count": 25,
   "metadata": {},
   "outputs": [],
   "source": [
    "original_flatten = [item for sublist in original for item in sublist]\n",
    "scr1_flatten = [item for sublist in scr1 for item in sublist]\n",
    "scr3_flatten = [item for sublist in scr3 for item in sublist]\n",
    "scr5_flatten = [item for sublist in scr5 for item in sublist]\n",
    "scr7_flatten = [item for sublist in scr7 for item in sublist]\n",
    "lowpmi_flatten = [item for sublist in lowpmi for item in sublist]\n",
    "backward_flatten = [item for sublist in backward for item in sublist]\n",
    "random_flatten = [item for sublist in random for item in sublist]\n"
   ]
  },
  {
   "cell_type": "code",
   "execution_count": 10,
   "metadata": {},
   "outputs": [
    {
     "name": "stdout",
     "output_type": "stream",
     "text": [
      "627\n"
     ]
    }
   ],
   "source": [
    "print(len(scr1_flatten))"
   ]
  },
  {
   "cell_type": "code",
   "execution_count": 12,
   "metadata": {},
   "outputs": [],
   "source": [
    "df = pd.DataFrame(data={'Original':original_flatten, 'Scr1':scr1_flatten, 'Scr3':scr3_flatten})\n",
    "df1 = pd.DataFrame(data={'Original':original_flatten})\n",
    "df2 = pd.DataFrame(data={'Scr1':scr1_flatten})\n",
    "# correlations = np.corrcoef(original_flatten, scr1_flatten)\n",
    "# print(np.shape(correlations))"
   ]
  },
  {
   "cell_type": "markdown",
   "metadata": {},
   "source": [
    "Flatten and merge:"
   ]
  },
  {
   "cell_type": "code",
   "execution_count": 15,
   "metadata": {},
   "outputs": [
    {
     "data": {
      "text/plain": [
       "(627, 768)"
      ]
     },
     "execution_count": 15,
     "metadata": {},
     "output_type": "execute_result"
    }
   ],
   "source": [
    "np.shape(original_flatten)"
   ]
  },
  {
   "cell_type": "code",
   "execution_count": 17,
   "metadata": {},
   "outputs": [],
   "source": [
    "f_orig = np.asarray(original_flatten).flatten()"
   ]
  },
  {
   "cell_type": "code",
   "execution_count": 18,
   "metadata": {},
   "outputs": [
    {
     "data": {
      "text/plain": [
       "(481536,)"
      ]
     },
     "execution_count": 18,
     "metadata": {},
     "output_type": "execute_result"
    }
   ],
   "source": [
    "np.shape(f_orig)"
   ]
  },
  {
   "cell_type": "code",
   "execution_count": 19,
   "metadata": {},
   "outputs": [
    {
     "data": {
      "text/plain": [
       "array([ 7.49077722e-02,  4.33372200e-01, -1.38639534e+00, -2.11150050e-02,\n",
       "        3.08469385e-01, -1.29420757e-01,  6.51243865e-01,  8.09930921e-01,\n",
       "       -3.77923667e-01,  6.24073632e-02,  5.91550827e-01,  3.91740859e-01,\n",
       "        1.36984110e-01, -2.88110524e-01, -2.97650486e-01,  9.77306347e-03,\n",
       "        1.44251063e-01, -6.96098506e-01, -2.35556886e-01,  6.23716176e-01,\n",
       "        6.49232939e-02,  1.24149933e-01, -6.09620512e-01,  1.45460322e-01,\n",
       "       -8.90980884e-02, -2.32270613e-01, -5.62252164e-01,  1.48186892e-01,\n",
       "       -2.59537250e-01,  8.14803466e-02,  5.26099987e-02,  5.14720976e-01,\n",
       "       -2.87236869e-01, -7.97442719e-02, -2.98491210e-01,  7.65093386e-01,\n",
       "        4.61160202e+01, -3.45414802e-02, -1.26111209e-01,  6.65788233e-01,\n",
       "       -3.26651037e-01, -1.51355445e-01, -1.02654621e-01, -5.80754817e-01,\n",
       "       -1.27981555e+00, -7.59070754e-01, -2.09489048e-01, -5.35120070e-01,\n",
       "       -1.82208359e-01, -1.42845139e-01, -2.95242164e-02,  9.65545833e-01,\n",
       "        4.82049763e-01,  2.43261874e-01,  8.15408349e-01,  1.66415477e+00,\n",
       "       -2.04730153e-01,  3.13708447e-02,  2.77687255e-02, -1.29646409e+00,\n",
       "       -4.59732741e-01, -9.19283330e-02, -3.69208008e-02,  2.75642425e-02,\n",
       "       -1.24708164e+00, -2.15434372e-01, -3.94594729e-01,  3.82650256e-01,\n",
       "       -1.31911770e-01,  5.13740301e-01,  2.72368997e-01,  4.24505651e-01,\n",
       "        1.03921577e-01,  2.84082592e-02,  1.04437806e-01, -1.34512448e+00,\n",
       "       -1.94674879e-01, -2.49502227e-01, -4.33937043e-01,  1.62551478e-01,\n",
       "       -6.40816033e-01,  7.42753521e-02,  5.30536532e-01, -6.42722249e-01,\n",
       "       -2.77727216e-01,  4.15588804e-02,  3.68255436e-01, -1.14418542e+00,\n",
       "       -7.89359882e-02,  4.15452987e-01,  1.80577248e-01,  8.87265727e-02,\n",
       "       -7.85901248e-02, -5.33148944e-01,  3.01746815e-01, -2.60514557e-01,\n",
       "       -2.39887089e-03,  4.20867115e-01,  1.78477824e-01,  6.71308696e-01,\n",
       "       -2.93810427e-01,  5.78447521e-01,  8.67606878e-01,  5.01477242e-01,\n",
       "        2.94571131e-01, -6.43818617e-01, -2.40644604e-01, -9.31130111e-01,\n",
       "        3.50396663e-01, -3.33446264e-01,  4.17797148e-01, -3.04276347e-01,\n",
       "       -4.46345687e-01, -6.68881595e-01,  1.05695570e+00, -5.98635301e-02,\n",
       "        4.19025987e-01,  3.96329880e-01, -2.18371488e-03, -2.38859698e-01,\n",
       "        9.77629572e-02,  1.78202644e-01, -2.98821777e-01,  2.27742374e-01,\n",
       "        3.58671665e-01,  5.18157423e-01,  3.05090815e-01, -2.63482630e-02,\n",
       "       -1.13230668e-01,  1.66394319e-02, -2.39699647e-01, -2.03452483e-01,\n",
       "        9.07594144e-01, -4.90530618e-02, -5.31526431e-02,  2.56199628e-01,\n",
       "        1.26040012e-01, -2.80790702e-02,  6.26552641e-01, -4.33683604e-01,\n",
       "        1.03345498e-01, -1.49987057e-01, -6.11723542e-01, -3.03604938e-02,\n",
       "        2.42941529e-01,  3.69845331e-01,  5.64145207e-01,  2.03614146e-01,\n",
       "        3.72935027e-01, -4.99257743e-01, -2.50786334e-01,  8.13028753e-01,\n",
       "        6.74995899e-01, -1.45479739e-01,  1.20424084e-01, -6.91736341e-01,\n",
       "       -5.64267516e-01, -3.49980861e-01, -1.97704118e-02, -5.21096647e-01,\n",
       "        7.69348666e-02,  8.31659138e-02, -3.12216226e-02,  4.63257760e-01,\n",
       "       -6.06036037e-02, -7.39094973e-01, -3.45181584e-01, -1.19548666e+00,\n",
       "       -6.63565874e-01, -2.35191345e-01, -2.25503057e-01,  3.31492901e-01,\n",
       "       -4.37222600e-01,  3.61198723e-01, -2.27180406e-01, -1.07759595e+00,\n",
       "       -2.21546628e-02,  1.50629014e-01,  1.20124020e-01,  3.52690876e-01,\n",
       "       -3.63956422e-01, -2.16917887e-01,  1.55683234e-01, -6.10336177e-02,\n",
       "        1.23667391e-02,  1.33145571e-01,  2.18549043e-01, -3.69042624e-03,\n",
       "        9.12998840e-02,  4.62858900e-02, -3.33669960e-01,  2.15368062e-01,\n",
       "       -4.42585140e-01, -5.62012680e-02,  1.75728276e-01, -1.16492167e-01,\n",
       "       -2.91078955e-01,  3.64292376e-02, -2.48000890e-01, -2.52193958e-01,\n",
       "        3.08849275e-01, -1.07305013e-01, -2.37013530e-02,  4.67803851e-02,\n",
       "       -6.23192154e-02,  3.68086457e-01, -2.97684856e-02, -1.70223311e-01,\n",
       "        4.58439708e-01,  3.15447897e-01,  2.85612553e-01,  5.45908928e-01,\n",
       "       -4.75520790e-01, -4.34678257e-01, -3.46838295e-01,  2.23136202e-01,\n",
       "        3.62507969e-01,  9.01715830e-03, -3.44033927e-01, -2.57978350e-01,\n",
       "        4.17351454e-01,  1.31150708e-01,  3.40456784e-01,  1.28794536e-01,\n",
       "        9.59130943e-01,  1.35772216e+00, -3.67262214e-01,  1.35993078e-01,\n",
       "       -2.70663142e-01, -4.87435013e-01,  2.65114546e-01,  3.39437246e-01,\n",
       "        1.01702964e+00,  3.64426225e-02, -2.28505686e-01, -3.12916666e-01,\n",
       "       -2.42088228e-01, -3.46840173e-02,  1.29114732e-01,  5.17564893e-01,\n",
       "       -1.48810372e-01,  1.80505678e-01, -5.56531660e-02, -3.06022793e-01,\n",
       "       -2.01982901e-01,  1.27718791e-01,  7.22359866e-02, -3.29314888e-01,\n",
       "       -1.93071693e-01,  1.47873431e-01,  4.75880333e-05, -8.28881338e-02,\n",
       "        3.49161655e-01,  1.90459058e-01, -2.45013192e-01,  9.55336154e-01,\n",
       "       -2.04719484e-01,  2.15778202e-01,  1.00862062e+00, -8.68825436e-01,\n",
       "        2.97304302e-01, -4.23095316e-01,  6.27696276e-01,  3.64021957e-01,\n",
       "       -1.42475083e-01,  4.83743735e-02, -1.12253726e+00, -2.75853842e-01,\n",
       "        6.79892525e-02,  5.30059159e-01,  1.91418320e-01,  8.40130985e-01,\n",
       "        3.88648272e-01,  1.59812137e-01, -5.88297069e-01, -1.81361381e-02,\n",
       "       -2.86961377e-01,  3.49373311e-01, -9.93081033e-02, -2.41873443e-01,\n",
       "        7.05475152e-01, -2.86052257e-01, -1.72922760e-01, -4.36234623e-01,\n",
       "        1.75068349e-01,  7.19638586e-01, -3.89613472e-02,  9.29758251e-02,\n",
       "        1.35795105e+00, -4.20326680e-01, -2.59593666e-01, -3.04184228e-01,\n",
       "        4.06610966e-02, -2.59834111e-01,  5.34869015e-01,  1.19735159e-01,\n",
       "       -4.19380546e-01, -9.99817699e-02,  5.46412051e-01,  4.35400367e-01,\n",
       "       -3.94221634e-01, -2.67797746e-02, -7.24926770e-01, -1.93769604e-01,\n",
       "       -1.33801803e-01, -1.16715478e-02,  1.73473924e-01, -2.46609211e-01,\n",
       "        4.92044955e-01, -2.92044282e-01, -4.61858749e-01,  7.05977380e-02,\n",
       "        6.34059966e-01,  3.09458002e-02, -2.26590214e+01, -1.84486255e-01,\n",
       "        1.53586313e-01, -1.26209706e-01,  8.04099381e-01, -2.75838345e-01,\n",
       "       -3.11479568e-02,  3.93184721e-01,  1.41458720e-01, -3.49225588e-02,\n",
       "        3.39436047e-02,  2.28995085e-01,  2.76740998e-01, -4.56890672e-01,\n",
       "       -1.38873085e-02,  1.25941247e-01, -8.88203457e-02, -3.74995589e-01,\n",
       "        2.77734175e-02, -2.24818036e-01, -1.50281355e-01,  8.56520757e-02,\n",
       "        1.67164654e-01,  2.12964833e-01,  1.32817179e-01, -1.28488272e-01,\n",
       "       -1.13874160e-01, -1.78573299e-02, -2.00920284e-01,  3.79481055e-02,\n",
       "       -6.19509995e-01,  7.01282099e-02, -3.11092824e-01, -1.20572038e-01,\n",
       "        4.14473742e-01,  8.30146432e-01,  4.06344265e-01,  7.29477644e-01,\n",
       "       -1.67302921e-01, -2.05516174e-01,  6.57129586e-01, -5.60822338e-02,\n",
       "       -3.98834080e-01, -9.25013050e-02, -2.90398840e-02,  5.12784384e-02,\n",
       "       -1.38682917e-01, -8.50821793e-01, -2.07781121e-01,  4.18533862e-01,\n",
       "       -4.16294068e-01, -1.50469995e+00, -8.14060092e-01, -1.17626982e-02,\n",
       "        4.34842318e-01, -1.55139849e-01,  1.01852842e-01,  1.40068948e-01,\n",
       "       -6.59799695e-01, -1.20619917e+00, -1.48036585e+01,  2.94118136e-01,\n",
       "       -2.95035154e-01,  1.22039688e+00, -4.42160249e-01, -4.37272936e-02,\n",
       "        2.62925237e-01,  6.81837261e-01, -5.99933676e-02,  2.33900726e-01,\n",
       "       -6.73690319e-01, -6.94886327e-01, -6.60946429e-01,  1.87168956e-01,\n",
       "        4.96926963e-01, -7.81444609e-01,  1.75760821e-01, -1.62085146e-01,\n",
       "        2.26865426e-01, -3.88848245e-01, -5.35986543e-01,  3.68696123e-01,\n",
       "        2.08798468e-01,  1.72901675e-01,  8.23686793e-02, -1.73753202e-02,\n",
       "        4.49635275e-02,  3.77721936e-01, -6.26720071e-01, -1.75982639e-01,\n",
       "       -1.89395681e-01, -5.88097759e-02, -2.06126630e-01,  9.05489698e-02,\n",
       "       -3.06628972e-01, -4.67909910e-02, -1.38088271e-01, -2.93339789e-01,\n",
       "       -3.64574641e-01, -4.98718947e-01,  3.95100415e-01,  4.11239684e-01,\n",
       "        9.54246297e-02,  3.90593082e-01,  5.71997583e-01,  3.58031094e-01,\n",
       "       -4.16054070e-01, -2.87913293e-01,  2.06202969e-01,  4.25389111e-01,\n",
       "       -2.14069605e-01,  2.82608747e-01,  2.01371416e-01, -1.25512049e-01,\n",
       "       -6.16253093e-02,  3.29657882e-01,  5.53230019e+01,  1.47229925e-01,\n",
       "        1.75589677e-02,  2.15554714e-01, -3.28300327e-01,  9.51805532e-01,\n",
       "        1.04058482e-01, -2.01672792e-01, -3.82371485e-01,  9.49153304e-02,\n",
       "       -2.45418057e-01,  2.07465336e-01,  6.75367308e+00, -3.25747818e-01,\n",
       "       -4.58399318e-02,  1.17560990e-01, -7.43067503e-01,  1.08093655e+00,\n",
       "       -1.18603811e-01,  5.29523417e-02,  2.17401728e-01, -2.27378622e-01,\n",
       "        1.07206605e-01, -3.14640775e-02, -7.84436613e-02, -1.13982999e+00,\n",
       "       -4.95989352e-01, -3.46559942e-01,  2.64114201e-01,  1.15610480e+00,\n",
       "        6.71567261e-01, -3.17252800e-03,  1.93598926e-01, -3.28380406e-01,\n",
       "       -3.03827673e-01,  1.54320702e-01,  3.45965996e-02,  5.62893488e-02,\n",
       "        3.33204955e-01,  2.35021845e-01,  4.64203544e-02, -2.82968730e-01,\n",
       "       -4.04232770e-01, -1.74918562e-01,  5.35659909e-01, -3.44021022e-01,\n",
       "        3.71554136e-01, -4.21581954e-01,  1.09266989e-01, -4.33368015e+00,\n",
       "       -9.89585876e-01,  1.20951533e+00, -6.14209890e-01, -2.23740727e-01,\n",
       "        1.04444521e-02,  3.36910367e-01,  2.57689148e-01, -7.74431527e-02,\n",
       "        1.57760382e-01, -3.53823870e-01, -9.52961147e-01,  1.58487692e-01,\n",
       "        4.67389636e-02, -2.14298561e-01,  4.52556908e-02,  8.35460842e-01,\n",
       "        1.51524445e+02,  9.13643241e-01,  3.74775916e-01, -2.69259125e-01,\n",
       "       -3.50366682e-01, -2.18708262e-01,  2.94394881e-01, -3.11083198e+00,\n",
       "        4.33105648e-01,  4.03524749e-02,  2.48122796e-01,  7.09748983e-01,\n",
       "        6.11116111e-01, -4.42450643e-02,  2.91014642e-01,  1.23963676e-01,\n",
       "        2.36006901e-01, -2.30821788e-01, -6.48498684e-02, -1.20115675e-01,\n",
       "        6.41653538e-02, -5.20103276e-01, -1.61100566e-01,  2.59866863e-01,\n",
       "        4.23241183e-02, -4.55407023e-01,  2.95794606e-01,  5.35851955e-01,\n",
       "        5.57623446e-01, -4.40375179e-01, -1.09853303e+00, -1.84060693e-01,\n",
       "        4.35965329e-01,  3.35504830e-01, -1.64557949e-01,  7.23041117e-01,\n",
       "       -1.17104270e-01, -1.55317947e-01, -5.09476066e-01,  8.62182751e-02,\n",
       "       -3.25048566e-01,  5.72070062e-01, -1.49589777e-02,  3.89488429e-01,\n",
       "        1.19396120e-01,  2.26304457e-01, -9.41541642e-02, -1.20948708e+00,\n",
       "       -6.55197382e-01, -2.38061622e-01,  1.15023181e-02,  3.76104653e-01,\n",
       "        3.55382800e-01,  5.42059481e-01, -2.08173990e-01,  1.08295190e+00,\n",
       "       -5.29206470e-02,  1.38693452e-01,  2.04691663e-01,  2.37728819e-01,\n",
       "       -4.33703393e-01,  1.30850986e-01,  8.95866007e-02, -4.96885568e-01,\n",
       "        8.24326724e-02,  3.83350581e-01,  2.88086981e-01, -9.34035778e-02,\n",
       "       -1.07753359e-01, -3.10230345e-01,  2.47311145e-01,  6.11818843e-02,\n",
       "       -5.85536897e-01, -2.61792600e-01,  3.82439494e-01, -4.53245133e-01,\n",
       "       -1.55627192e-03,  2.05766246e-01, -4.29840147e-01,  1.72056532e+00,\n",
       "       -9.14355218e-02,  8.67226869e-02,  7.02179015e-01,  2.59976946e-02,\n",
       "       -5.24441779e-01,  2.62037009e-01, -4.10812080e-01, -6.67587817e-02,\n",
       "        5.29325485e-01, -3.19704562e-01,  4.99302715e-01, -2.42229849e-02,\n",
       "       -6.92793906e-01,  1.69694126e-01,  2.15757594e-01, -2.54378527e-01,\n",
       "        1.17675051e-01,  3.63808692e-01,  2.84504324e-01, -2.34987557e-01,\n",
       "        1.28700390e-01,  2.91645920e-05, -1.52028337e-01, -3.06487530e-01,\n",
       "       -1.69098035e-01,  1.11924298e-01,  9.49330628e-02, -6.38726234e-01,\n",
       "        5.93912840e-01, -1.39537916e-01,  8.61339122e-02, -2.80018337e-02,\n",
       "        1.44033015e-01,  2.35971510e-02, -8.19981620e-02,  2.25893319e-01,\n",
       "        2.41863094e-02,  7.40310252e-02,  3.82144302e-01, -6.10784106e-02,\n",
       "       -1.18263878e-01,  2.82248463e-02, -2.42522866e-01,  2.08875075e-01,\n",
       "        2.70720907e-02,  4.56277698e-01,  1.28987491e-01,  1.86409175e-01,\n",
       "       -1.72471866e-01, -1.22592911e-01, -1.03760704e-01, -2.68781972e+00,\n",
       "       -5.96354827e-02, -6.02493286e-01, -2.31847346e-01, -1.21401198e-01,\n",
       "        8.23808312e-02, -6.15460336e-01,  2.57231921e-01, -9.22055781e-01,\n",
       "       -3.38824749e-01,  2.60360092e-01, -4.70857233e-01, -4.35358047e-01,\n",
       "       -6.66094482e-01,  4.73729908e-01,  6.88287914e-01, -5.72618067e-01,\n",
       "        3.41730773e-01, -6.54840171e-01, -2.89265901e-01,  6.09168075e-02,\n",
       "        3.52205753e-01,  1.77792057e-01, -1.20176554e-01,  6.01412177e-01,\n",
       "       -5.19548953e-01, -5.46738744e-01,  4.04327005e-01, -2.06904098e-01,\n",
       "        1.08202979e-01, -8.94579738e-02, -3.62829477e-01,  8.95326734e-02,\n",
       "       -1.77415475e-01,  4.70067188e-02,  3.47233601e-02,  6.40968680e-01,\n",
       "        1.54955015e-01,  4.31250244e-01,  3.40634704e-01, -2.59407014e-01,\n",
       "       -1.85790345e-01,  8.83149579e-02,  1.34157407e+00, -3.27468902e-01,\n",
       "        8.37154463e-02,  4.11309041e-02, -9.04899597e-01, -8.04459989e-01,\n",
       "        9.04709995e-02,  7.08420932e-01, -1.10304572e-01,  1.10514367e+00,\n",
       "       -8.02005649e-01, -4.60247993e-01,  2.60083247e-02, -1.43072441e-01,\n",
       "       -5.95533431e-01,  3.13527375e-01,  5.35405457e-01,  5.94554067e-01,\n",
       "        4.31512684e-01,  6.07846975e-01,  1.05846554e-01,  4.39937487e-02,\n",
       "        2.96336599e-02, -2.73516744e-01, -8.46718788e-01, -3.28561813e-01,\n",
       "       -1.83594450e-01,  1.05577387e-01,  2.19089419e-01, -6.14539862e-01,\n",
       "       -3.06470431e-02, -2.51975507e-01, -1.96684554e-01,  4.27501261e-01,\n",
       "        8.82319063e-02, -1.15421042e-01, -3.25772315e-01,  1.18586719e-01,\n",
       "        1.61853209e-01,  1.19393192e-01, -5.14177144e-01,  6.08011931e-02,\n",
       "        2.31645375e-01,  1.08700387e-01,  1.19114324e-01, -2.69117117e-01,\n",
       "       -2.53128838e-02, -1.21377409e-02, -7.67037123e-02,  2.60837048e-01,\n",
       "        6.95013285e-01,  3.63433987e-01,  5.87305844e-01,  7.59826005e-02,\n",
       "        2.52883887e+00, -2.12087139e-01,  8.34132493e-01,  1.00842612e-02,\n",
       "       -7.76092768e-01,  5.16734660e-01,  1.02150626e-01, -8.15125257e-02,\n",
       "       -1.38200268e-01, -2.26450309e-01,  1.98157042e-01, -3.41039747e-01,\n",
       "        1.83188900e-01,  6.82581544e-01, -1.20812166e+00,  2.79623985e-01,\n",
       "        6.44095600e-01,  1.71002626e-01,  2.52051264e-01,  1.77612007e-01,\n",
       "        1.58046111e-02, -8.78288567e-01, -7.16836154e-01,  5.27384818e-01,\n",
       "       -1.60004257e-03,  1.20597653e-01, -3.12693678e-02,  3.46379220e-01,\n",
       "       -4.38933909e-01,  1.85515813e-03, -3.37628834e-02, -3.92749399e-01,\n",
       "        1.36370862e+00,  4.79765624e-01, -3.16054225e-01,  4.82343554e-01,\n",
       "        7.04691038e-02,  3.71818125e-01,  1.34092343e+00, -3.38531256e-01,\n",
       "       -3.65603089e-01,  2.38512799e-01, -7.43606910e-02,  1.11748718e-01,\n",
       "        9.50109899e-01,  1.03083484e-01, -1.93912780e+00,  4.82755378e-02,\n",
       "       -1.29615754e-01,  5.78848481e-01, -2.08271459e-01,  7.41872847e-01,\n",
       "       -2.65872270e-01, -4.09399807e-01,  5.66578150e-01,  4.47116559e-03,\n",
       "        8.19736496e-02, -4.20904309e-01, -1.85628459e-01,  2.96462514e-02,\n",
       "        2.75633365e-01, -6.70829296e-01, -2.65021503e-01,  1.01851034e+00,\n",
       "        4.97946404e-02, -2.67997593e-01, -1.11048922e-01,  9.24047381e-02,\n",
       "        3.89409244e-01,  1.48394853e-01, -4.55970943e-01,  2.24800512e-01,\n",
       "       -3.64983708e-01,  1.21541722e-02,  1.51371226e-01,  4.80354428e-01],\n",
       "      dtype=float32)"
      ]
     },
     "execution_count": 19,
     "metadata": {},
     "output_type": "execute_result"
    }
   ],
   "source": [
    "f_orig[:800]"
   ]
  },
  {
   "cell_type": "code",
   "execution_count": 21,
   "metadata": {},
   "outputs": [
    {
     "data": {
      "text/plain": [
       "array([ 7.49077722e-02,  4.33372200e-01, -1.38639534e+00, -2.11150050e-02,\n",
       "        3.08469385e-01, -1.29420757e-01,  6.51243865e-01,  8.09930921e-01,\n",
       "       -3.77923667e-01,  6.24073632e-02,  5.91550827e-01,  3.91740859e-01,\n",
       "        1.36984110e-01, -2.88110524e-01, -2.97650486e-01,  9.77306347e-03,\n",
       "        1.44251063e-01, -6.96098506e-01, -2.35556886e-01,  6.23716176e-01,\n",
       "        6.49232939e-02,  1.24149933e-01, -6.09620512e-01,  1.45460322e-01,\n",
       "       -8.90980884e-02, -2.32270613e-01, -5.62252164e-01,  1.48186892e-01,\n",
       "       -2.59537250e-01,  8.14803466e-02,  5.26099987e-02,  5.14720976e-01,\n",
       "       -2.87236869e-01, -7.97442719e-02, -2.98491210e-01,  7.65093386e-01,\n",
       "        4.61160202e+01, -3.45414802e-02, -1.26111209e-01,  6.65788233e-01,\n",
       "       -3.26651037e-01, -1.51355445e-01, -1.02654621e-01, -5.80754817e-01,\n",
       "       -1.27981555e+00, -7.59070754e-01, -2.09489048e-01, -5.35120070e-01,\n",
       "       -1.82208359e-01, -1.42845139e-01, -2.95242164e-02,  9.65545833e-01,\n",
       "        4.82049763e-01,  2.43261874e-01,  8.15408349e-01,  1.66415477e+00,\n",
       "       -2.04730153e-01,  3.13708447e-02,  2.77687255e-02, -1.29646409e+00,\n",
       "       -4.59732741e-01, -9.19283330e-02, -3.69208008e-02,  2.75642425e-02,\n",
       "       -1.24708164e+00, -2.15434372e-01, -3.94594729e-01,  3.82650256e-01,\n",
       "       -1.31911770e-01,  5.13740301e-01,  2.72368997e-01,  4.24505651e-01,\n",
       "        1.03921577e-01,  2.84082592e-02,  1.04437806e-01, -1.34512448e+00,\n",
       "       -1.94674879e-01, -2.49502227e-01, -4.33937043e-01,  1.62551478e-01,\n",
       "       -6.40816033e-01,  7.42753521e-02,  5.30536532e-01, -6.42722249e-01,\n",
       "       -2.77727216e-01,  4.15588804e-02,  3.68255436e-01, -1.14418542e+00,\n",
       "       -7.89359882e-02,  4.15452987e-01,  1.80577248e-01,  8.87265727e-02,\n",
       "       -7.85901248e-02, -5.33148944e-01,  3.01746815e-01, -2.60514557e-01,\n",
       "       -2.39887089e-03,  4.20867115e-01,  1.78477824e-01,  6.71308696e-01,\n",
       "       -2.93810427e-01,  5.78447521e-01,  8.67606878e-01,  5.01477242e-01,\n",
       "        2.94571131e-01, -6.43818617e-01, -2.40644604e-01, -9.31130111e-01,\n",
       "        3.50396663e-01, -3.33446264e-01,  4.17797148e-01, -3.04276347e-01,\n",
       "       -4.46345687e-01, -6.68881595e-01,  1.05695570e+00, -5.98635301e-02,\n",
       "        4.19025987e-01,  3.96329880e-01, -2.18371488e-03, -2.38859698e-01,\n",
       "        9.77629572e-02,  1.78202644e-01, -2.98821777e-01,  2.27742374e-01,\n",
       "        3.58671665e-01,  5.18157423e-01,  3.05090815e-01, -2.63482630e-02,\n",
       "       -1.13230668e-01,  1.66394319e-02, -2.39699647e-01, -2.03452483e-01,\n",
       "        9.07594144e-01, -4.90530618e-02, -5.31526431e-02,  2.56199628e-01,\n",
       "        1.26040012e-01, -2.80790702e-02,  6.26552641e-01, -4.33683604e-01,\n",
       "        1.03345498e-01, -1.49987057e-01, -6.11723542e-01, -3.03604938e-02,\n",
       "        2.42941529e-01,  3.69845331e-01,  5.64145207e-01,  2.03614146e-01,\n",
       "        3.72935027e-01, -4.99257743e-01, -2.50786334e-01,  8.13028753e-01,\n",
       "        6.74995899e-01, -1.45479739e-01,  1.20424084e-01, -6.91736341e-01,\n",
       "       -5.64267516e-01, -3.49980861e-01, -1.97704118e-02, -5.21096647e-01,\n",
       "        7.69348666e-02,  8.31659138e-02, -3.12216226e-02,  4.63257760e-01,\n",
       "       -6.06036037e-02, -7.39094973e-01, -3.45181584e-01, -1.19548666e+00,\n",
       "       -6.63565874e-01, -2.35191345e-01, -2.25503057e-01,  3.31492901e-01,\n",
       "       -4.37222600e-01,  3.61198723e-01, -2.27180406e-01, -1.07759595e+00,\n",
       "       -2.21546628e-02,  1.50629014e-01,  1.20124020e-01,  3.52690876e-01,\n",
       "       -3.63956422e-01, -2.16917887e-01,  1.55683234e-01, -6.10336177e-02,\n",
       "        1.23667391e-02,  1.33145571e-01,  2.18549043e-01, -3.69042624e-03,\n",
       "        9.12998840e-02,  4.62858900e-02, -3.33669960e-01,  2.15368062e-01,\n",
       "       -4.42585140e-01, -5.62012680e-02,  1.75728276e-01, -1.16492167e-01,\n",
       "       -2.91078955e-01,  3.64292376e-02, -2.48000890e-01, -2.52193958e-01,\n",
       "        3.08849275e-01, -1.07305013e-01, -2.37013530e-02,  4.67803851e-02,\n",
       "       -6.23192154e-02,  3.68086457e-01, -2.97684856e-02, -1.70223311e-01,\n",
       "        4.58439708e-01,  3.15447897e-01,  2.85612553e-01,  5.45908928e-01,\n",
       "       -4.75520790e-01, -4.34678257e-01, -3.46838295e-01,  2.23136202e-01,\n",
       "        3.62507969e-01,  9.01715830e-03, -3.44033927e-01, -2.57978350e-01,\n",
       "        4.17351454e-01,  1.31150708e-01,  3.40456784e-01,  1.28794536e-01,\n",
       "        9.59130943e-01,  1.35772216e+00, -3.67262214e-01,  1.35993078e-01,\n",
       "       -2.70663142e-01, -4.87435013e-01,  2.65114546e-01,  3.39437246e-01,\n",
       "        1.01702964e+00,  3.64426225e-02, -2.28505686e-01, -3.12916666e-01,\n",
       "       -2.42088228e-01, -3.46840173e-02,  1.29114732e-01,  5.17564893e-01,\n",
       "       -1.48810372e-01,  1.80505678e-01, -5.56531660e-02, -3.06022793e-01,\n",
       "       -2.01982901e-01,  1.27718791e-01,  7.22359866e-02, -3.29314888e-01,\n",
       "       -1.93071693e-01,  1.47873431e-01,  4.75880333e-05, -8.28881338e-02,\n",
       "        3.49161655e-01,  1.90459058e-01, -2.45013192e-01,  9.55336154e-01,\n",
       "       -2.04719484e-01,  2.15778202e-01,  1.00862062e+00, -8.68825436e-01,\n",
       "        2.97304302e-01, -4.23095316e-01,  6.27696276e-01,  3.64021957e-01,\n",
       "       -1.42475083e-01,  4.83743735e-02, -1.12253726e+00, -2.75853842e-01,\n",
       "        6.79892525e-02,  5.30059159e-01,  1.91418320e-01,  8.40130985e-01,\n",
       "        3.88648272e-01,  1.59812137e-01, -5.88297069e-01, -1.81361381e-02,\n",
       "       -2.86961377e-01,  3.49373311e-01, -9.93081033e-02, -2.41873443e-01,\n",
       "        7.05475152e-01, -2.86052257e-01, -1.72922760e-01, -4.36234623e-01,\n",
       "        1.75068349e-01,  7.19638586e-01, -3.89613472e-02,  9.29758251e-02,\n",
       "        1.35795105e+00, -4.20326680e-01, -2.59593666e-01, -3.04184228e-01,\n",
       "        4.06610966e-02, -2.59834111e-01,  5.34869015e-01,  1.19735159e-01,\n",
       "       -4.19380546e-01, -9.99817699e-02,  5.46412051e-01,  4.35400367e-01,\n",
       "       -3.94221634e-01, -2.67797746e-02, -7.24926770e-01, -1.93769604e-01,\n",
       "       -1.33801803e-01, -1.16715478e-02,  1.73473924e-01, -2.46609211e-01,\n",
       "        4.92044955e-01, -2.92044282e-01, -4.61858749e-01,  7.05977380e-02,\n",
       "        6.34059966e-01,  3.09458002e-02, -2.26590214e+01, -1.84486255e-01,\n",
       "        1.53586313e-01, -1.26209706e-01,  8.04099381e-01, -2.75838345e-01,\n",
       "       -3.11479568e-02,  3.93184721e-01,  1.41458720e-01, -3.49225588e-02,\n",
       "        3.39436047e-02,  2.28995085e-01,  2.76740998e-01, -4.56890672e-01,\n",
       "       -1.38873085e-02,  1.25941247e-01, -8.88203457e-02, -3.74995589e-01,\n",
       "        2.77734175e-02, -2.24818036e-01, -1.50281355e-01,  8.56520757e-02,\n",
       "        1.67164654e-01,  2.12964833e-01,  1.32817179e-01, -1.28488272e-01,\n",
       "       -1.13874160e-01, -1.78573299e-02, -2.00920284e-01,  3.79481055e-02,\n",
       "       -6.19509995e-01,  7.01282099e-02, -3.11092824e-01, -1.20572038e-01,\n",
       "        4.14473742e-01,  8.30146432e-01,  4.06344265e-01,  7.29477644e-01,\n",
       "       -1.67302921e-01, -2.05516174e-01,  6.57129586e-01, -5.60822338e-02,\n",
       "       -3.98834080e-01, -9.25013050e-02, -2.90398840e-02,  5.12784384e-02,\n",
       "       -1.38682917e-01, -8.50821793e-01, -2.07781121e-01,  4.18533862e-01,\n",
       "       -4.16294068e-01, -1.50469995e+00, -8.14060092e-01, -1.17626982e-02,\n",
       "        4.34842318e-01, -1.55139849e-01,  1.01852842e-01,  1.40068948e-01,\n",
       "       -6.59799695e-01, -1.20619917e+00, -1.48036585e+01,  2.94118136e-01,\n",
       "       -2.95035154e-01,  1.22039688e+00, -4.42160249e-01, -4.37272936e-02,\n",
       "        2.62925237e-01,  6.81837261e-01, -5.99933676e-02,  2.33900726e-01,\n",
       "       -6.73690319e-01, -6.94886327e-01, -6.60946429e-01,  1.87168956e-01,\n",
       "        4.96926963e-01, -7.81444609e-01,  1.75760821e-01, -1.62085146e-01,\n",
       "        2.26865426e-01, -3.88848245e-01, -5.35986543e-01,  3.68696123e-01,\n",
       "        2.08798468e-01,  1.72901675e-01,  8.23686793e-02, -1.73753202e-02,\n",
       "        4.49635275e-02,  3.77721936e-01, -6.26720071e-01, -1.75982639e-01,\n",
       "       -1.89395681e-01, -5.88097759e-02, -2.06126630e-01,  9.05489698e-02,\n",
       "       -3.06628972e-01, -4.67909910e-02, -1.38088271e-01, -2.93339789e-01,\n",
       "       -3.64574641e-01, -4.98718947e-01,  3.95100415e-01,  4.11239684e-01,\n",
       "        9.54246297e-02,  3.90593082e-01,  5.71997583e-01,  3.58031094e-01,\n",
       "       -4.16054070e-01, -2.87913293e-01,  2.06202969e-01,  4.25389111e-01,\n",
       "       -2.14069605e-01,  2.82608747e-01,  2.01371416e-01, -1.25512049e-01,\n",
       "       -6.16253093e-02,  3.29657882e-01,  5.53230019e+01,  1.47229925e-01,\n",
       "        1.75589677e-02,  2.15554714e-01, -3.28300327e-01,  9.51805532e-01,\n",
       "        1.04058482e-01, -2.01672792e-01, -3.82371485e-01,  9.49153304e-02,\n",
       "       -2.45418057e-01,  2.07465336e-01,  6.75367308e+00, -3.25747818e-01,\n",
       "       -4.58399318e-02,  1.17560990e-01, -7.43067503e-01,  1.08093655e+00,\n",
       "       -1.18603811e-01,  5.29523417e-02,  2.17401728e-01, -2.27378622e-01,\n",
       "        1.07206605e-01, -3.14640775e-02, -7.84436613e-02, -1.13982999e+00,\n",
       "       -4.95989352e-01, -3.46559942e-01,  2.64114201e-01,  1.15610480e+00,\n",
       "        6.71567261e-01, -3.17252800e-03,  1.93598926e-01, -3.28380406e-01,\n",
       "       -3.03827673e-01,  1.54320702e-01,  3.45965996e-02,  5.62893488e-02,\n",
       "        3.33204955e-01,  2.35021845e-01,  4.64203544e-02, -2.82968730e-01,\n",
       "       -4.04232770e-01, -1.74918562e-01,  5.35659909e-01, -3.44021022e-01,\n",
       "        3.71554136e-01, -4.21581954e-01,  1.09266989e-01, -4.33368015e+00,\n",
       "       -9.89585876e-01,  1.20951533e+00, -6.14209890e-01, -2.23740727e-01,\n",
       "        1.04444521e-02,  3.36910367e-01,  2.57689148e-01, -7.74431527e-02,\n",
       "        1.57760382e-01, -3.53823870e-01, -9.52961147e-01,  1.58487692e-01,\n",
       "        4.67389636e-02, -2.14298561e-01,  4.52556908e-02,  8.35460842e-01,\n",
       "        1.51524445e+02,  9.13643241e-01,  3.74775916e-01, -2.69259125e-01,\n",
       "       -3.50366682e-01, -2.18708262e-01,  2.94394881e-01, -3.11083198e+00,\n",
       "        4.33105648e-01,  4.03524749e-02,  2.48122796e-01,  7.09748983e-01,\n",
       "        6.11116111e-01, -4.42450643e-02,  2.91014642e-01,  1.23963676e-01,\n",
       "        2.36006901e-01, -2.30821788e-01, -6.48498684e-02, -1.20115675e-01,\n",
       "        6.41653538e-02, -5.20103276e-01, -1.61100566e-01,  2.59866863e-01,\n",
       "        4.23241183e-02, -4.55407023e-01,  2.95794606e-01,  5.35851955e-01,\n",
       "        5.57623446e-01, -4.40375179e-01, -1.09853303e+00, -1.84060693e-01,\n",
       "        4.35965329e-01,  3.35504830e-01, -1.64557949e-01,  7.23041117e-01,\n",
       "       -1.17104270e-01, -1.55317947e-01, -5.09476066e-01,  8.62182751e-02,\n",
       "       -3.25048566e-01,  5.72070062e-01, -1.49589777e-02,  3.89488429e-01,\n",
       "        1.19396120e-01,  2.26304457e-01, -9.41541642e-02, -1.20948708e+00,\n",
       "       -6.55197382e-01, -2.38061622e-01,  1.15023181e-02,  3.76104653e-01,\n",
       "        3.55382800e-01,  5.42059481e-01, -2.08173990e-01,  1.08295190e+00,\n",
       "       -5.29206470e-02,  1.38693452e-01,  2.04691663e-01,  2.37728819e-01,\n",
       "       -4.33703393e-01,  1.30850986e-01,  8.95866007e-02, -4.96885568e-01,\n",
       "        8.24326724e-02,  3.83350581e-01,  2.88086981e-01, -9.34035778e-02,\n",
       "       -1.07753359e-01, -3.10230345e-01,  2.47311145e-01,  6.11818843e-02,\n",
       "       -5.85536897e-01, -2.61792600e-01,  3.82439494e-01, -4.53245133e-01,\n",
       "       -1.55627192e-03,  2.05766246e-01, -4.29840147e-01,  1.72056532e+00,\n",
       "       -9.14355218e-02,  8.67226869e-02,  7.02179015e-01,  2.59976946e-02,\n",
       "       -5.24441779e-01,  2.62037009e-01, -4.10812080e-01, -6.67587817e-02,\n",
       "        5.29325485e-01, -3.19704562e-01,  4.99302715e-01, -2.42229849e-02,\n",
       "       -6.92793906e-01,  1.69694126e-01,  2.15757594e-01, -2.54378527e-01,\n",
       "        1.17675051e-01,  3.63808692e-01,  2.84504324e-01, -2.34987557e-01,\n",
       "        1.28700390e-01,  2.91645920e-05, -1.52028337e-01, -3.06487530e-01,\n",
       "       -1.69098035e-01,  1.11924298e-01,  9.49330628e-02, -6.38726234e-01,\n",
       "        5.93912840e-01, -1.39537916e-01,  8.61339122e-02, -2.80018337e-02,\n",
       "        1.44033015e-01,  2.35971510e-02, -8.19981620e-02,  2.25893319e-01,\n",
       "        2.41863094e-02,  7.40310252e-02,  3.82144302e-01, -6.10784106e-02,\n",
       "       -1.18263878e-01,  2.82248463e-02, -2.42522866e-01,  2.08875075e-01,\n",
       "        2.70720907e-02,  4.56277698e-01,  1.28987491e-01,  1.86409175e-01,\n",
       "       -1.72471866e-01, -1.22592911e-01, -1.03760704e-01, -2.68781972e+00,\n",
       "       -5.96354827e-02, -6.02493286e-01, -2.31847346e-01, -1.21401198e-01,\n",
       "        8.23808312e-02, -6.15460336e-01,  2.57231921e-01, -9.22055781e-01,\n",
       "       -3.38824749e-01,  2.60360092e-01, -4.70857233e-01, -4.35358047e-01,\n",
       "       -6.66094482e-01,  4.73729908e-01,  6.88287914e-01, -5.72618067e-01,\n",
       "        3.41730773e-01, -6.54840171e-01, -2.89265901e-01,  6.09168075e-02,\n",
       "        3.52205753e-01,  1.77792057e-01, -1.20176554e-01,  6.01412177e-01,\n",
       "       -5.19548953e-01, -5.46738744e-01,  4.04327005e-01, -2.06904098e-01,\n",
       "        1.08202979e-01, -8.94579738e-02, -3.62829477e-01,  8.95326734e-02,\n",
       "       -1.77415475e-01,  4.70067188e-02,  3.47233601e-02,  6.40968680e-01,\n",
       "        1.54955015e-01,  4.31250244e-01,  3.40634704e-01, -2.59407014e-01,\n",
       "       -1.85790345e-01,  8.83149579e-02,  1.34157407e+00, -3.27468902e-01,\n",
       "        8.37154463e-02,  4.11309041e-02, -9.04899597e-01, -8.04459989e-01,\n",
       "        9.04709995e-02,  7.08420932e-01, -1.10304572e-01,  1.10514367e+00,\n",
       "       -8.02005649e-01, -4.60247993e-01,  2.60083247e-02, -1.43072441e-01,\n",
       "       -5.95533431e-01,  3.13527375e-01,  5.35405457e-01,  5.94554067e-01,\n",
       "        4.31512684e-01,  6.07846975e-01,  1.05846554e-01,  4.39937487e-02,\n",
       "        2.96336599e-02, -2.73516744e-01, -8.46718788e-01, -3.28561813e-01,\n",
       "       -1.83594450e-01,  1.05577387e-01,  2.19089419e-01, -6.14539862e-01,\n",
       "       -3.06470431e-02, -2.51975507e-01, -1.96684554e-01,  4.27501261e-01,\n",
       "        8.82319063e-02, -1.15421042e-01, -3.25772315e-01,  1.18586719e-01,\n",
       "        1.61853209e-01,  1.19393192e-01, -5.14177144e-01,  6.08011931e-02,\n",
       "        2.31645375e-01,  1.08700387e-01,  1.19114324e-01, -2.69117117e-01,\n",
       "       -2.53128838e-02, -1.21377409e-02, -7.67037123e-02,  2.60837048e-01,\n",
       "        6.95013285e-01,  3.63433987e-01,  5.87305844e-01,  7.59826005e-02,\n",
       "        2.52883887e+00, -2.12087139e-01,  8.34132493e-01,  1.00842612e-02,\n",
       "       -7.76092768e-01,  5.16734660e-01,  1.02150626e-01, -8.15125257e-02,\n",
       "       -1.38200268e-01, -2.26450309e-01,  1.98157042e-01, -3.41039747e-01,\n",
       "        1.83188900e-01,  6.82581544e-01, -1.20812166e+00,  2.79623985e-01,\n",
       "        6.44095600e-01,  1.71002626e-01,  2.52051264e-01,  1.77612007e-01,\n",
       "        1.58046111e-02, -8.78288567e-01, -7.16836154e-01,  5.27384818e-01,\n",
       "       -1.60004257e-03,  1.20597653e-01, -3.12693678e-02,  3.46379220e-01,\n",
       "       -4.38933909e-01,  1.85515813e-03, -3.37628834e-02, -3.92749399e-01,\n",
       "        1.36370862e+00,  4.79765624e-01, -3.16054225e-01,  4.82343554e-01,\n",
       "        7.04691038e-02,  3.71818125e-01,  1.34092343e+00, -3.38531256e-01,\n",
       "       -3.65603089e-01,  2.38512799e-01, -7.43606910e-02,  1.11748718e-01],\n",
       "      dtype=float32)"
      ]
     },
     "execution_count": 21,
     "metadata": {},
     "output_type": "execute_result"
    }
   ],
   "source": [
    "original_flatten[0]"
   ]
  },
  {
   "cell_type": "code",
   "execution_count": null,
   "metadata": {},
   "outputs": [],
   "source": []
  },
  {
   "cell_type": "code",
   "execution_count": 26,
   "metadata": {},
   "outputs": [],
   "source": [
    "df_f = pd.DataFrame(data={'Original':np.asarray(original_flatten).flatten(),\n",
    "                          'Scr1':np.asarray(scr1_flatten).flatten(),\n",
    "                          'Scr3':np.asarray(scr3_flatten).flatten(),\n",
    "                          'Scr5':np.asarray(scr5_flatten).flatten(),\n",
    "                          'Scr7':np.asarray(scr7_flatten).flatten(),\n",
    "                          'lowpmi':np.asarray(lowpmi_flatten).flatten(),\n",
    "                          'backward':np.asarray(backward_flatten).flatten(),\n",
    "                          'random':np.asarray(random_flatten).flatten()})\n"
   ]
  },
  {
   "cell_type": "code",
   "execution_count": 29,
   "metadata": {},
   "outputs": [],
   "source": [
    "import seaborn as sns"
   ]
  },
  {
   "cell_type": "code",
   "execution_count": 30,
   "metadata": {},
   "outputs": [
    {
     "data": {
      "text/plain": [
       "<matplotlib.axes._subplots.AxesSubplot at 0x2b1511c4c630>"
      ]
     },
     "execution_count": 30,
     "metadata": {},
     "output_type": "execute_result"
    },
    {
     "data": {
      "image/png": "[encoded data removed]",
      "text/plain": [
       "<Figure size 432x288 with 2 Axes>"
      ]
     },
     "metadata": {
      "needs_background": "light"
     },
     "output_type": "display_data"
    }
   ],
   "source": [
    "sns.heatmap(df_f.corr())"
   ]
  },
  {
   "cell_type": "code",
   "execution_count": 32,
   "metadata": {},
   "outputs": [
    {
     "data": {
      "text/plain": [
       "<matplotlib.axes._subplots.AxesSubplot at 0x2b1511d11940>"
      ]
     },
     "execution_count": 32,
     "metadata": {},
     "output_type": "execute_result"
    },
    {
     "data": {
      "image/png": "[encoded data removed]",
      "text/plain": [
       "<Figure size 432x288 with 2 Axes>"
      ]
     },
     "metadata": {
      "needs_background": "light"
     },
     "output_type": "display_data"
    }
   ],
   "source": [
    "sns.heatmap(df_f.corr(method='spearman'))"
   ]
  },
  {
   "cell_type": "code",
   "execution_count": 34,
   "metadata": {},
   "outputs": [
    {
     "data": {
      "text/plain": [
       "<seaborn.matrix.ClusterGrid at 0x2b1511e21f28>"
      ]
     },
     "execution_count": 34,
     "metadata": {},
     "output_type": "execute_result"
    },
    {
     "data": {
      "image/png": "[encoded data removed]",
      "text/plain": [
       "<Figure size 720x720 with 4 Axes>"
      ]
     },
     "metadata": {
      "needs_background": "light"
     },
     "output_type": "display_data"
    }
   ],
   "source": [
    "sns.clustermap(df_f.corr())"
   ]
  },
  {
   "cell_type": "code",
   "execution_count": null,
   "metadata": {},
   "outputs": [],
   "source": []
  },
  {
   "cell_type": "code",
   "execution_count": null,
   "metadata": {},
   "outputs": [],
   "source": []
  }
 ],
 "metadata": {
  "kernelspec": {
   "display_name": "Python 3",
   "language": "python",
   "name": "python3"
  },
  "language_info": {
   "codemirror_mode": {
    "name": "ipython",
    "version": 3
   },
   "file_extension": ".py",
   "mimetype": "text/x-python",
   "name": "python",
   "nbconvert_exporter": "python",
   "pygments_lexer": "ipython3",
   "version": "3.6.10"
  }
 },
 "nbformat": 4,
 "nbformat_minor": 2
}
