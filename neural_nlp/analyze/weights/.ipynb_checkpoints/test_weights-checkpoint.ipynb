{
 "cells": [
  {
   "cell_type": "code",
   "execution_count": 8,
   "metadata": {},
   "outputs": [],
   "source": [
    "import pickle\n",
    "import numpy as np\n",
    "import scipy.io as sio\n",
    "import matplotlib.pyplot as plt\n",
    "from matplotlib.lines import Line2D\n",
    "import datetime \n",
    "import seaborn as sns\n",
    "from scipy import stats\n",
    "import xarray as xr\n",
    "from importlib import reload \n",
    "import torch\n",
    "from transformers import *\n",
    "from neural_nlp.benchmarks.neural import *\n",
    "from neural_nlp.models import *\n",
    "import neural_nlp\n",
    "from neural_nlp.models.implementations import *\n",
    "from neural_nlp.stimuli import StimulusSet\n",
    "from pathlib import Path\n",
    "import os\n",
    "\n",
    "# Plot specifications\n",
    "sns.set(context='talk')\n",
    "sns.set_style(\"whitegrid\", {'axes.grid': False})\n",
    "plt.rc('axes', edgecolor='black')\n",
    "plt.rc('axes', edgecolor='black')\n",
    "plt.rcParams['axes.spines.right'] = False\n",
    "plt.rcParams['axes.spines.top'] = False\n",
    "\n",
    "score_name1 = '/Users/gt/.result_caching/neural_nlp.score/benchmark=Fedorenko2016v3-encoding-weights,model=distilgpt2,subsample=None,oneweight.pkl'\n",
    "score_name = '/Users/gt/.result_caching/neural_nlp.score/benchmark=Fedorenko2016v3-encoding-weights,model=distilgpt2,subsample=None.pkl'"
   ]
  },
  {
   "cell_type": "code",
   "execution_count": 9,
   "metadata": {},
   "outputs": [],
   "source": [
    "# Load score objects\n",
    "with open(score_name1, 'rb') as f:  \n",
    "    result1 = pickle.load(f)\n",
    "\n",
    "score1 = result1['data']\n",
    "\n",
    "with open(score_name, 'rb') as f:  \n",
    "    result = pickle.load(f)\n",
    "\n",
    "score = result['data']"
   ]
  },
  {
   "cell_type": "code",
   "execution_count": 10,
   "metadata": {},
   "outputs": [
    {
     "data": {
      "text/plain": [
       "<xarray.Score (layer: 7, aggregation: 2)>\n",
       "array([[-0.023974,  0.097927],\n",
       "       [ 0.143942,  0.125787],\n",
       "       [ 0.273343,  0.187895],\n",
       "       [ 0.384026,  0.088253],\n",
       "       [ 0.369323,  0.224276],\n",
       "       [ 0.261079,  0.274317],\n",
       "       [ 0.177751,  0.099441]])\n",
       "Coordinates:\n",
       "  * layer        (layer) object 'drop' 'encoder.h.0' ... 'encoder.h.5'\n",
       "  * aggregation  (aggregation) <U6 'center' 'error'\n",
       "Attributes:\n",
       "    raw:            <xarray.Score (layer: 7, neuroid: 97)>\\narray([[ 0.248347...\n",
       "    description:    per-neuroid ceiling-normalized score\n",
       "    ceiling:        <xarray.Score (aggregation: 3)>\\narray([0.168649, 0.05278...\n",
       "    weights:        <xarray.NeuroidAssembly (neuroid_id: 97, neuroid: 768)>\\n...\n",
       "    model:          distilgpt2\n",
       "    benchmark:      Fedorenko2016v3-encoding-weights\n",
       "    layer_weights:  [<xarray.NeuroidAssembly (neuroid_id: 97, neuroid: 768)>\\..."
      ]
     },
     "execution_count": 10,
     "metadata": {},
     "output_type": "execute_result"
    }
   ],
   "source": [
    "score"
   ]
  },
  {
   "cell_type": "code",
   "execution_count": 11,
   "metadata": {},
   "outputs": [
    {
     "data": {
      "text/plain": [
       "<xarray.Score (layer: 7, aggregation: 2)>\n",
       "array([[-0.023974,  0.097927],\n",
       "       [ 0.143942,  0.125787],\n",
       "       [ 0.273343,  0.187895],\n",
       "       [ 0.384026,  0.088253],\n",
       "       [ 0.369323,  0.224276],\n",
       "       [ 0.261079,  0.274317],\n",
       "       [ 0.177751,  0.099441]])\n",
       "Coordinates:\n",
       "  * layer        (layer) object 'drop' 'encoder.h.0' ... 'encoder.h.5'\n",
       "  * aggregation  (aggregation) <U6 'center' 'error'\n",
       "Attributes:\n",
       "    raw:          <xarray.Score (layer: 7, neuroid: 97)>\\narray([[ 0.248347, ...\n",
       "    description:  per-neuroid ceiling-normalized score\n",
       "    ceiling:      <xarray.Score (aggregation: 3)>\\narray([0.168649, 0.052784,...\n",
       "    weights:      <xarray.NeuroidAssembly (neuroid_id: 97, neuroid: 768)>\\nar...\n",
       "    model:        distilgpt2\n",
       "    benchmark:    Fedorenko2016v3-encoding-weights"
      ]
     },
     "execution_count": 11,
     "metadata": {},
     "output_type": "execute_result"
    }
   ],
   "source": [
    "score1"
   ]
  },
  {
   "cell_type": "code",
   "execution_count": null,
   "metadata": {},
   "outputs": [],
   "source": []
  },
  {
   "cell_type": "code",
   "execution_count": null,
   "metadata": {},
   "outputs": [],
   "source": []
  },
  {
   "cell_type": "code",
   "execution_count": 13,
   "metadata": {},
   "outputs": [
    {
     "data": {
      "text/plain": [
       "[<xarray.NeuroidAssembly (neuroid_id: 97, neuroid: 768)>\n",
       " array([[ 53820.008  ,   4611.564  ,   1355.1372 , ...,  -1664.9479 ,\n",
       "          -1191.4778 ,    781.6066 ],\n",
       "        [-46355.137  ,  -3973.1907 ,  -1168.7916 , ...,   1433.8142 ,\n",
       "           1030.6385 ,   -671.6611 ],\n",
       "        [ 46743.043  ,   4005.611  ,   1176.9724 , ...,  -1446.4127 ,\n",
       "          -1036.7222 ,    678.9757 ],\n",
       "        ...,\n",
       "        [ 79729.86   ,   6832.5425 ,   2009.2396 , ...,  -2466.6238 ,\n",
       "          -1772.9968 ,   1156.3755 ],\n",
       "        [101940.68   ,   8734.581  ,   2567.9712 , ...,  -3153.5269 ,\n",
       "          -2261.819  ,   1479.3164 ],\n",
       "        [ 27030.31   ,   2316.4827 ,    680.953  , ...,   -836.29266,\n",
       "           -601.7634 ,    392.30695]], dtype=float32)\n",
       " Coordinates:\n",
       "   * neuroid     (neuroid) object (0, 'distilgpt2', 'drop', 'distilgpt2.drop.0') ... (767, 'distilgpt2', 'drop', 'distilgpt2.drop.767')\n",
       "   * neuroid_id  (neuroid_id) int64 0 1 2 3 4 5 6 7 8 ... 89 90 91 92 93 94 95 96\n",
       " Attributes:\n",
       "     intercept:  <xarray.NeuroidAssembly (neuroid_id: 97)>\\narray([ 3689.1238 ...,\n",
       " <xarray.NeuroidAssembly (neuroid_id: 97, neuroid: 768)>\n",
       " array([[ 3.684692e+00,  4.099513e+00,  3.588655e-01, ..., -1.248594e+00,\n",
       "         -1.231429e+00, -1.156779e+00],\n",
       "        [-5.532462e+00, -5.721872e+00, -8.411548e-01, ...,  1.491965e+00,\n",
       "          1.765863e+00,  1.647532e+00],\n",
       "        [ 1.024940e+00,  1.346429e+00,  1.757152e-01, ..., -3.944411e-01,\n",
       "         -6.862794e-01, -2.541550e-01],\n",
       "        ...,\n",
       "        [-1.466707e+00, -1.236735e+00, -1.598286e-02, ...,  4.587966e-01,\n",
       "          3.485796e-01,  3.886442e-01],\n",
       "        [-7.537820e-01, -3.383798e-01, -2.521921e-02, ...,  3.927359e-04,\n",
       "          2.695849e-01, -9.433348e-02],\n",
       "        [-4.151484e+00, -4.052804e+00, -3.093494e-01, ...,  9.200317e-01,\n",
       "          1.102442e+00,  9.467930e-01]], dtype=float32)\n",
       " Coordinates:\n",
       "   * neuroid     (neuroid) object (0, 'distilgpt2', 'encoder.h.0', 'distilgpt2.encoder.h.0.0') ... (767, 'distilgpt2', 'encoder.h.0', 'distilgpt2.encoder.h.0.767')\n",
       "   * neuroid_id  (neuroid_id) int64 0 1 2 3 4 5 6 7 8 ... 89 90 91 92 93 94 95 96\n",
       " Attributes:\n",
       "     intercept:  <xarray.NeuroidAssembly (neuroid_id: 97)>\\narray([-235.77563 ...,\n",
       " <xarray.NeuroidAssembly (neuroid_id: 97, neuroid: 768)>\n",
       " array([[ 1.469624e+01,  1.757622e+00,  4.113863e-01, ...,  3.361660e-01,\n",
       "          1.310918e+00,  1.083577e+00],\n",
       "        [-2.383039e+01, -2.855496e+00, -2.838642e-01, ..., -7.355250e-01,\n",
       "         -2.216712e+00, -1.508565e+00],\n",
       "        [ 2.123144e+00,  1.793089e-01,  1.743101e-01, ..., -8.947176e-03,\n",
       "          1.251881e-01,  9.355294e-02],\n",
       "        ...,\n",
       "        [-2.148721e+00, -2.166930e-01, -1.698911e-01, ..., -1.906242e-02,\n",
       "         -1.534351e-01, -9.805006e-02],\n",
       "        [ 2.586441e+00,  3.462773e-01,  3.036825e-02, ...,  1.943903e-01,\n",
       "          2.774172e-01,  3.822420e-01],\n",
       "        [-1.125751e+01, -1.290851e+00,  1.852242e-04, ..., -3.354886e-01,\n",
       "         -1.045272e+00, -5.486931e-01]], dtype=float32)\n",
       " Coordinates:\n",
       "   * neuroid     (neuroid) object (0, 'distilgpt2', 'encoder.h.1', 'distilgpt2.encoder.h.1.0') ... (767, 'distilgpt2', 'encoder.h.1', 'distilgpt2.encoder.h.1.767')\n",
       "   * neuroid_id  (neuroid_id) int64 0 1 2 3 4 5 6 7 8 ... 89 90 91 92 93 94 95 96\n",
       " Attributes:\n",
       "     intercept:  <xarray.NeuroidAssembly (neuroid_id: 97)>\\narray([ 9.668420e+...,\n",
       " <xarray.NeuroidAssembly (neuroid_id: 97, neuroid: 768)>\n",
       " array([[-1.881588e+00, -3.616900e-01, -1.450414e-01, ..., -5.621747e-02,\n",
       "          3.656759e-02,  9.317195e-02],\n",
       "        [-5.040953e-01, -7.976934e-02, -1.609146e-01, ...,  1.604518e-02,\n",
       "         -7.752672e-02,  8.804586e-03],\n",
       "        [-1.884410e+00, -3.755910e-01, -1.623035e-01, ..., -4.954519e-02,\n",
       "          6.713410e-02,  9.355579e-03],\n",
       "        ...,\n",
       "        [-6.950067e-01, -1.542510e-01,  4.745995e-02, ...,  3.267176e-02,\n",
       "          9.051934e-04, -1.833564e-03],\n",
       "        [-8.491208e-02, -8.372051e-03,  1.984834e-01, ...,  2.095982e-02,\n",
       "         -2.107904e-02, -1.404287e-02],\n",
       "        [ 1.446476e+00,  2.801579e-01,  1.316723e-01, ...,  4.289670e-03,\n",
       "          2.847021e-02, -5.936367e-02]], dtype=float32)\n",
       " Coordinates:\n",
       "   * neuroid     (neuroid) object (0, 'distilgpt2', 'encoder.h.2', 'distilgpt2.encoder.h.2.0') ... (767, 'distilgpt2', 'encoder.h.2', 'distilgpt2.encoder.h.2.767')\n",
       "   * neuroid_id  (neuroid_id) int64 0 1 2 3 4 5 6 7 8 ... 89 90 91 92 93 94 95 96\n",
       " Attributes:\n",
       "     intercept:  <xarray.NeuroidAssembly (neuroid_id: 97)>\\narray([-21.927929,...,\n",
       " <xarray.NeuroidAssembly (neuroid_id: 97, neuroid: 768)>\n",
       " array([[-1.085958e+01,  2.380237e+00,  1.389259e+00, ...,  1.081239e+00,\n",
       "          3.431506e-03, -7.709904e-01],\n",
       "        [ 1.783049e+01, -3.995692e+00, -2.289493e+00, ..., -1.745516e+00,\n",
       "         -8.050248e-03,  1.113515e+00],\n",
       "        [-1.812234e+00,  3.161323e-01,  1.945295e-01, ...,  2.716772e-01,\n",
       "         -7.724045e-02, -1.619096e-01],\n",
       "        ...,\n",
       "        [ 1.556510e+00, -3.794182e-01, -1.619664e-01, ..., -1.473235e-01,\n",
       "         -2.074107e-02,  8.798481e-02],\n",
       "        [-1.178451e+00,  1.967609e-01,  1.556309e-01, ...,  1.214455e-01,\n",
       "          1.184746e-02, -1.234173e-01],\n",
       "        [ 9.941337e+00, -2.213759e+00, -1.242857e+00, ..., -9.800205e-01,\n",
       "          8.515322e-02,  6.161059e-01]], dtype=float32)\n",
       " Coordinates:\n",
       "   * neuroid     (neuroid) object (0, 'distilgpt2', 'encoder.h.3', 'distilgpt2.encoder.h.3.0') ... (767, 'distilgpt2', 'encoder.h.3', 'distilgpt2.encoder.h.3.767')\n",
       "   * neuroid_id  (neuroid_id) int64 0 1 2 3 4 5 6 7 8 ... 89 90 91 92 93 94 95 96\n",
       " Attributes:\n",
       "     intercept:  <xarray.NeuroidAssembly (neuroid_id: 97)>\\narray([-116.98999 ...,\n",
       " <xarray.NeuroidAssembly (neuroid_id: 97, neuroid: 768)>\n",
       " array([[ 23.911825,   3.00017 ,   9.337513, ...,   2.694525,   0.877131,\n",
       "           1.212281],\n",
       "        [-34.353672,  -4.313533, -13.407141, ...,  -3.806778,  -1.303845,\n",
       "          -1.73718 ],\n",
       "        [  4.788132,   0.558986,   1.859369, ...,   0.588988,   0.147607,\n",
       "           0.259784],\n",
       "        ...,\n",
       "        [ -2.389032,  -0.364592,  -0.946243, ...,  -0.254672,  -0.121694,\n",
       "          -0.141669],\n",
       "        [  3.071072,   0.315005,   1.193166, ...,   0.360851,   0.116048,\n",
       "           0.136786],\n",
       "        [-18.392979,  -2.354854,  -7.161079, ...,  -2.024248,  -0.656873,\n",
       "          -0.887018]], dtype=float32)\n",
       " Coordinates:\n",
       "   * neuroid     (neuroid) object (0, 'distilgpt2', 'encoder.h.4', 'distilgpt2.encoder.h.4.0') ... (767, 'distilgpt2', 'encoder.h.4', 'distilgpt2.encoder.h.4.767')\n",
       "   * neuroid_id  (neuroid_id) int64 0 1 2 3 4 5 6 7 8 ... 89 90 91 92 93 94 95 96\n",
       " Attributes:\n",
       "     intercept:  <xarray.NeuroidAssembly (neuroid_id: 97)>\\narray([  704.70593...,\n",
       " <xarray.NeuroidAssembly (neuroid_id: 97, neuroid: 768)>\n",
       " array([[-516.02814 ,  -32.954746,  -25.71829 , ...,  -27.29274 ,   41.847992,\n",
       "          -16.529102],\n",
       "        [ 678.4166  ,   43.232765,   33.49083 , ...,   36.32059 ,  -55.562138,\n",
       "           21.166988],\n",
       "        [ -74.500565,   -4.505579,   -3.610722, ...,   -3.742369,    5.546775,\n",
       "           -2.454091],\n",
       "        ...,\n",
       "        [  54.091255,    3.050629,    2.679733, ...,    2.944711,   -4.753502,\n",
       "            1.550281],\n",
       "        [ -96.87034 ,   -6.48741 ,   -4.833493, ...,   -5.1001  ,    7.472761,\n",
       "           -3.344016],\n",
       "        [ 340.97964 ,   21.363941,   16.942305, ...,   18.57168 ,  -27.591982,\n",
       "           10.848014]], dtype=float32)\n",
       " Coordinates:\n",
       "   * neuroid     (neuroid) object (0, 'distilgpt2', 'encoder.h.5', 'distilgpt2.encoder.h.5.0') ... (767, 'distilgpt2', 'encoder.h.5', 'distilgpt2.encoder.h.5.767')\n",
       "   * neuroid_id  (neuroid_id) int64 0 1 2 3 4 5 6 7 8 ... 89 90 91 92 93 94 95 96\n",
       " Attributes:\n",
       "     intercept:  <xarray.NeuroidAssembly (neuroid_id: 97)>\\narray([-433.97617 ...]"
      ]
     },
     "execution_count": 13,
     "metadata": {},
     "output_type": "execute_result"
    }
   ],
   "source": [
    "score.layer_weights"
   ]
  },
  {
   "cell_type": "code",
   "execution_count": 12,
   "metadata": {},
   "outputs": [
    {
     "data": {
      "text/plain": [
       "<xarray.NeuroidAssembly (neuroid_id: 97, neuroid: 768)>\n",
       "array([[-516.02814 ,  -32.954746,  -25.71829 , ...,  -27.29274 ,   41.847992,\n",
       "         -16.529102],\n",
       "       [ 678.4166  ,   43.232765,   33.49083 , ...,   36.32059 ,  -55.562138,\n",
       "          21.166988],\n",
       "       [ -74.500565,   -4.505579,   -3.610722, ...,   -3.742369,    5.546775,\n",
       "          -2.454091],\n",
       "       ...,\n",
       "       [  54.091255,    3.050629,    2.679733, ...,    2.944711,   -4.753502,\n",
       "           1.550281],\n",
       "       [ -96.87034 ,   -6.48741 ,   -4.833493, ...,   -5.1001  ,    7.472761,\n",
       "          -3.344016],\n",
       "       [ 340.97964 ,   21.363941,   16.942305, ...,   18.57168 ,  -27.591982,\n",
       "          10.848014]], dtype=float32)\n",
       "Coordinates:\n",
       "  * neuroid     (neuroid) object (0, 'distilgpt2', 'encoder.h.5', 'distilgpt2.encoder.h.5.0') ... (767, 'distilgpt2', 'encoder.h.5', 'distilgpt2.encoder.h.5.767')\n",
       "  * neuroid_id  (neuroid_id) int64 0 1 2 3 4 5 6 7 8 ... 89 90 91 92 93 94 95 96\n",
       "Attributes:\n",
       "    intercept:  <xarray.NeuroidAssembly (neuroid_id: 97)>\\narray([-433.97617 ..."
      ]
     },
     "execution_count": 12,
     "metadata": {},
     "output_type": "execute_result"
    }
   ],
   "source": [
    "score1.weights"
   ]
  },
  {
   "cell_type": "code",
   "execution_count": 6,
   "metadata": {},
   "outputs": [
    {
     "data": {
      "text/plain": [
       "odict_keys(['raw', 'description', 'ceiling', 'weights', 'model', 'benchmark'])"
      ]
     },
     "execution_count": 6,
     "metadata": {},
     "output_type": "execute_result"
    }
   ],
   "source": [
    "score.attrs.keys()\n"
   ]
  },
  {
   "cell_type": "code",
   "execution_count": null,
   "metadata": {},
   "outputs": [],
   "source": []
  }
 ],
 "metadata": {
  "kernelspec": {
   "display_name": "Python 3",
   "language": "python",
   "name": "python3"
  },
  "language_info": {
   "codemirror_mode": {
    "name": "ipython",
    "version": 3
   },
   "file_extension": ".py",
   "mimetype": "text/x-python",
   "name": "python",
   "nbconvert_exporter": "python",
   "pygments_lexer": "ipython3",
   "version": "3.6.10"
  }
 },
 "nbformat": 4,
 "nbformat_minor": 4
}
