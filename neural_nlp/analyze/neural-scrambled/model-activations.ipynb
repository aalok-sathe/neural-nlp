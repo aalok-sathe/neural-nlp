{
 "cells": [
  {
   "cell_type": "markdown",
   "metadata": {},
   "source": [
    "# 1. Prepare plotting scripts"
   ]
  },
  {
   "cell_type": "code",
   "execution_count": 33,
   "metadata": {},
   "outputs": [],
   "source": [
    "import os\n",
    "import pickle\n",
    "import numpy as np\n",
    "import pandas as pd\n",
    "from tqdm import tqdm\n",
    "import seaborn as sns"
   ]
  },
  {
   "cell_type": "code",
   "execution_count": 34,
   "metadata": {},
   "outputs": [],
   "source": [
    "working_dir = \"/om2/user/ckauf/.result_caching/neural_nlp.models.wrapper.core.ActivationsExtractorHelper._from_sentences_stored\""
   ]
  },
  {
   "cell_type": "code",
   "execution_count": 35,
   "metadata": {},
   "outputs": [],
   "source": [
    "def get_last_layer(model_identifier):\n",
    "    \"\"\"\n",
    "    input: model_identifier of model of which we want to find the last layer\n",
    "    output: last layer identifier\n",
    "    \"\"\"\n",
    "    for ind,filename in enumerate(os.listdir(working_dir)):\n",
    "        model_name = filename.split(\",\")[0]\n",
    "        if \"identifier=\" + model_identifier == model_name:\n",
    "            file = os.path.join(working_dir,filename)\n",
    "            with open(file, 'rb') as f:\n",
    "                result = pickle.load(f)\n",
    "            result = result['data']\n",
    "            layers = np.unique(result.layer)\n",
    "            final_layer = layers[-1]\n",
    "            return final_layer\n",
    "            break"
   ]
  },
  {
   "cell_type": "code",
   "execution_count": 36,
   "metadata": {},
   "outputs": [],
   "source": [
    "def get_all_layers(model_identifier):\n",
    "    \"\"\"\n",
    "    input: model_identifier of model of which we want to find the layers\n",
    "    output: np.array of all unique layer identifiers, ordered by position\n",
    "    \"\"\"\n",
    "    for ind,filename in enumerate(os.listdir(working_dir)):\n",
    "        model_name = filename.split(\",\")[0]\n",
    "        if \"identifier=\" + model_identifier == model_name:\n",
    "            file = os.path.join(working_dir,filename)\n",
    "            with open(file, 'rb') as f:\n",
    "                result = pickle.load(f)\n",
    "            result = result['data']\n",
    "            layers = np.unique(result.layer)\n",
    "            return layers\n",
    "            break"
   ]
  },
  {
   "cell_type": "code",
   "execution_count": 37,
   "metadata": {},
   "outputs": [],
   "source": [
    "def get_passage_identifier(filename):\n",
    "    \"\"\"\n",
    "    get passage identifier to be used as key for the dictionary.\n",
    "    important step: fill the identifier with 0s for single-digit passage numbers\n",
    "    \"\"\"\n",
    "    passage = filename.split(\",\")[-1].split(\"-\")[-1].split(\".\")[0]\n",
    "    number = passage.split(\"sentences\")[-1]\n",
    "    if len(number) == 1:\n",
    "        passage_identifier = passage[:-1] + number.zfill(2)\n",
    "    else:\n",
    "        passage_identifier = passage\n",
    "    return passage_identifier"
   ]
  },
  {
   "cell_type": "code",
   "execution_count": 38,
   "metadata": {},
   "outputs": [],
   "source": [
    "def get_dictionary(model_identifier, layer_identifier=None):\n",
    "    \"\"\"\n",
    "    input: model identifier\n",
    "    output: populated model dictionary with data of just the selected layer\n",
    "    dictionary structure: passage_identifier --> condition identifier --> data\n",
    "    \"\"\"\n",
    "    model_dictionary = model_identifier + \"_dict\"\n",
    "    model_dictionary = {}\n",
    "    \n",
    "    #look at last layer by default\n",
    "    if layer_identifier == None:\n",
    "        layer_identifier = get_last_layer(model_identifier)\n",
    "    else:\n",
    "        layer_identifier = layer_identifier\n",
    "    print(\"This is the layer I'm looking at: \", layer_identifier)\n",
    "    \n",
    "    for filename in tqdm(os.listdir(working_dir)):\n",
    "        model_name = filename.split(\",\")[0]\n",
    "        if \"identifier=\" + model_identifier == model_name:\n",
    "            passage_identifier = get_passage_identifier(filename)\n",
    "            condition = filename.split(\",\")[-1].split(\"-\")[-2]\n",
    "        \n",
    "            file = os.path.join(working_dir,filename)\n",
    "            with open(file, 'rb') as f:\n",
    "                out = pickle.load(f)\n",
    "            result = out['data']\n",
    "            data = result[{\"neuroid\": [layer == layer_identifier for layer in result[\"layer\"].values]}]\n",
    "        \n",
    "            if not passage_identifier in model_dictionary:\n",
    "                model_dictionary[passage_identifier] = {}\n",
    "            model_dictionary[passage_identifier][condition] = data\n",
    "    \n",
    "    return model_dictionary\n",
    "        "
   ]
  },
  {
   "cell_type": "code",
   "execution_count": 39,
   "metadata": {},
   "outputs": [],
   "source": [
    "def get_arrays(dictionary):\n",
    "    #sort dictionary by passage identifier\n",
    "    sorted_dict = dict(sorted(dictionary.items()))\n",
    "    #create empty arrays\n",
    "    original,scr1,scr3,scr5,scr7,lowpmi,backward,random = ([] for i in range(8))\n",
    "    #\n",
    "    for key, value in sorted_dict.items(): #key is passage, value is dic from cond to xarray data\n",
    "        original.append(value['Original'].values)\n",
    "        scr1.append(value['Scr1'].values)\n",
    "        scr3.append(value['Scr3'].values)\n",
    "        scr5.append(value['Scr5'].values)\n",
    "        scr7.append(value['Scr7'].values)\n",
    "        lowpmi.append(value['lowPMI'].values)\n",
    "        backward.append(value['backward'].values)\n",
    "        random.append(value['random'].values)\n",
    "        \n",
    "    #print(np.shape(original))\n",
    "    return original,scr1,scr3,scr5,scr7,lowpmi,backward,random"
   ]
  },
  {
   "cell_type": "code",
   "execution_count": 40,
   "metadata": {},
   "outputs": [],
   "source": [
    "def flatten_array(liste):\n",
    "    liste_flatten = [item for sublist in liste for item in sublist]\n",
    "    return liste_flatten"
   ]
  },
  {
   "cell_type": "code",
   "execution_count": 41,
   "metadata": {},
   "outputs": [],
   "source": [
    "def prepare_dataframe(original,scr1,scr3,scr5,scr7,lowpmi,backward,random,flatten=True):\n",
    "    \n",
    "    if flatten:\n",
    "        df = pd.DataFrame(data={'Original':np.asarray(flatten_array(original)).flatten(),\n",
    "                              'Scr1':np.asarray(flatten_array(scr1)).flatten(),\n",
    "                              'Scr3':np.asarray(flatten_array(scr3)).flatten(),\n",
    "                              'Scr5':np.asarray(flatten_array(scr5)).flatten(),\n",
    "                              'Scr7':np.asarray(flatten_array(scr7)).flatten(),\n",
    "                              'lowpmi':np.asarray(flatten_array(lowpmi)).flatten(),\n",
    "                              'backward':np.asarray(flatten_array(backward)).flatten(),\n",
    "                              'random':np.asarray(flatten_array(random)).flatten()})\n",
    "    if not flatten:\n",
    "        # print(np.shape(np.asarray(flatten_array(random))))\n",
    "        df = {}\n",
    "        df = {'Original':flatten_array(original),\n",
    "              'Scr1':flatten_array(scr1),\n",
    "              'Scr3':flatten_array(scr3),\n",
    "              'Scr5':flatten_array(scr5),\n",
    "              'Scr7':flatten_array(scr7),\n",
    "              'lowpmi':flatten_array(lowpmi),\n",
    "              'backward':flatten_array(backward),\n",
    "              'random':flatten_array(random)}\n",
    "    return df"
   ]
  },
  {
   "cell_type": "code",
   "execution_count": 42,
   "metadata": {},
   "outputs": [],
   "source": [
    "def main_df_for_plotting(model_identifier, layer_identifier=None, flatten=True):\n",
    "    model_dict = get_dictionary(model_identifier, layer_identifier)\n",
    "    df = prepare_dataframe(*get_arrays(model_dict), flatten=flatten) #*flattens the tuple\n",
    "    return df"
   ]
  },
  {
   "cell_type": "markdown",
   "metadata": {},
   "source": [
    "_____________________________________________________\n",
    "_____________________________________________________\n",
    "\n",
    "# Ready to plot!"
   ]
  },
  {
   "cell_type": "markdown",
   "metadata": {},
   "source": [
    "# 1. Plot ClusterGrids for final layer"
   ]
  },
  {
   "cell_type": "code",
   "execution_count": 43,
   "metadata": {},
   "outputs": [
    {
     "name": "stderr",
     "output_type": "stream",
     "text": [
      "  4%|▍         | 174/4368 [00:00<00:02, 1681.53it/s]"
     ]
    },
    {
     "name": "stdout",
     "output_type": "stream",
     "text": [
      "This is the layer I'm looking at:  encoder.h.5\n"
     ]
    },
    {
     "name": "stderr",
     "output_type": "stream",
     "text": [
      "100%|██████████| 4368/4368 [00:18<00:00, 235.55it/s]\n"
     ]
    }
   ],
   "source": [
    "df_distilgpt2 = main_df_for_plotting(\"distilgpt2\")"
   ]
  },
  {
   "cell_type": "code",
   "execution_count": 44,
   "metadata": {},
   "outputs": [
    {
     "data": {
      "text/plain": [
       "<seaborn.matrix.ClusterGrid at 0x2b4fe6b68160>"
      ]
     },
     "execution_count": 44,
     "metadata": {},
     "output_type": "execute_result"
    },
    {
     "data": {
      "image/png": "[encoded data removed]",
      "text/plain": [
       "<Figure size 720x720 with 4 Axes>"
      ]
     },
     "metadata": {
      "needs_background": "light"
     },
     "output_type": "display_data"
    }
   ],
   "source": [
    "#sns.heatmap(df.corr())\n",
    "#sns.heatmap(df.corr(method='spearman'))\n",
    "sns.clustermap(df_distilgpt2.corr())"
   ]
  },
  {
   "cell_type": "code",
   "execution_count": 45,
   "metadata": {},
   "outputs": [
    {
     "name": "stderr",
     "output_type": "stream",
     "text": [
      " 66%|██████▌   | 2865/4368 [00:00<00:00, 27194.14it/s]"
     ]
    },
    {
     "name": "stdout",
     "output_type": "stream",
     "text": [
      "This is the layer I'm looking at:  lstm/lstm_1/control_dependency\n"
     ]
    },
    {
     "name": "stderr",
     "output_type": "stream",
     "text": [
      "100%|██████████| 4368/4368 [00:13<00:00, 313.64it/s]  \n"
     ]
    },
    {
     "data": {
      "text/plain": [
       "<seaborn.matrix.ClusterGrid at 0x2b4fafce0ef0>"
      ]
     },
     "execution_count": 45,
     "metadata": {},
     "output_type": "execute_result"
    },
    {
     "data": {
      "image/png": "[encoded data removed]",
      "text/plain": [
       "<Figure size 720x720 with 4 Axes>"
      ]
     },
     "metadata": {
      "needs_background": "light"
     },
     "output_type": "display_data"
    }
   ],
   "source": [
    "df_lm1b = main_df_for_plotting(\"lm_1b\")\n",
    "sns.clustermap(df_lm1b.corr())"
   ]
  },
  {
   "cell_type": "code",
   "execution_count": 46,
   "metadata": {},
   "outputs": [
    {
     "name": "stderr",
     "output_type": "stream",
     "text": [
      " 35%|███▍      | 1524/4368 [00:00<00:00, 14900.22it/s]"
     ]
    },
    {
     "name": "stdout",
     "output_type": "stream",
     "text": [
      "This is the layer I'm looking at:  projection\n"
     ]
    },
    {
     "name": "stderr",
     "output_type": "stream",
     "text": [
      "100%|██████████| 4368/4368 [00:11<00:00, 390.29it/s]  \n"
     ]
    },
    {
     "data": {
      "text/plain": [
       "<seaborn.matrix.ClusterGrid at 0x2b4fe555e588>"
      ]
     },
     "execution_count": 46,
     "metadata": {},
     "output_type": "execute_result"
    },
    {
     "data": {
      "image/png": "[encoded data removed]",
      "text/plain": [
       "<Figure size 720x720 with 4 Axes>"
      ]
     },
     "metadata": {
      "needs_background": "light"
     },
     "output_type": "display_data"
    }
   ],
   "source": [
    "df_glove = main_df_for_plotting(\"glove\")\n",
    "sns.clustermap(df_glove.corr())"
   ]
  },
  {
   "cell_type": "markdown",
   "metadata": {},
   "source": [
    "# 2. Look at different layers"
   ]
  },
  {
   "cell_type": "code",
   "execution_count": 47,
   "metadata": {},
   "outputs": [
    {
     "name": "stderr",
     "output_type": "stream",
     "text": [
      "  4%|▍         | 176/4368 [00:00<00:02, 1721.50it/s]"
     ]
    },
    {
     "name": "stdout",
     "output_type": "stream",
     "text": [
      "This is the layer I'm looking at:  encoder.h.0\n"
     ]
    },
    {
     "name": "stderr",
     "output_type": "stream",
     "text": [
      "100%|██████████| 4368/4368 [00:16<00:00, 262.06it/s]\n"
     ]
    }
   ],
   "source": [
    "df_lm1b_encoderh0 = main_df_for_plotting(\"distilgpt2\",layer_identifier=\"encoder.h.0\")"
   ]
  },
  {
   "cell_type": "code",
   "execution_count": 48,
   "metadata": {},
   "outputs": [
    {
     "data": {
      "text/plain": [
       "<seaborn.matrix.ClusterGrid at 0x2b4ffa7325f8>"
      ]
     },
     "execution_count": 48,
     "metadata": {},
     "output_type": "execute_result"
    },
    {
     "data": {
      "image/png": "[encoded data removed]",
      "text/plain": [
       "<Figure size 720x720 with 4 Axes>"
      ]
     },
     "metadata": {
      "needs_background": "light"
     },
     "output_type": "display_data"
    }
   ],
   "source": [
    "sns.clustermap(df_lm1b_encoderh0.corr())"
   ]
  },
  {
   "cell_type": "code",
   "execution_count": 49,
   "metadata": {},
   "outputs": [],
   "source": [
    "def get_correlation_dfs_for_all_layers(model_identifier, flatten=True):\n",
    "    layers = get_all_layers(model_identifier)\n",
    "    df_dict = {}\n",
    "    for ind,elm in enumerate(layers):\n",
    "        df_dict[elm] = main_df_for_plotting(model_identifier,layer_identifier=elm,flatten=flatten)\n",
    "    return df_dict"
   ]
  },
  {
   "cell_type": "markdown",
   "metadata": {},
   "source": [
    "# 2.b Try looping through layers and put into subplots\n",
    "\n",
    "### Caveat: Can't do ClusterGrid, as the graph cannot take ax as input. Look into how to do this if we want to"
   ]
  },
  {
   "cell_type": "code",
   "execution_count": 50,
   "metadata": {},
   "outputs": [
    {
     "name": "stderr",
     "output_type": "stream",
     "text": [
      " 35%|███▍      | 1526/4368 [00:00<00:00, 14879.47it/s]"
     ]
    },
    {
     "name": "stdout",
     "output_type": "stream",
     "text": [
      "This is the layer I'm looking at:  projection\n"
     ]
    },
    {
     "name": "stderr",
     "output_type": "stream",
     "text": [
      "100%|██████████| 4368/4368 [00:09<00:00, 461.36it/s]  \n"
     ]
    }
   ],
   "source": [
    "glove_correlation_dict = get_correlation_dfs_for_all_layers(\"glove\")"
   ]
  },
  {
   "cell_type": "code",
   "execution_count": 51,
   "metadata": {},
   "outputs": [
    {
     "name": "stdout",
     "output_type": "stream",
     "text": [
      "1\n"
     ]
    }
   ],
   "source": [
    "print(len(glove_correlation_dict))"
   ]
  },
  {
   "cell_type": "code",
   "execution_count": 52,
   "metadata": {},
   "outputs": [
    {
     "name": "stderr",
     "output_type": "stream",
     "text": [
      " 66%|██████▌   | 2867/4368 [00:00<00:00, 27471.12it/s]"
     ]
    },
    {
     "name": "stdout",
     "output_type": "stream",
     "text": [
      "This is the layer I'm looking at:  lstm/lstm_0/control_dependency\n"
     ]
    },
    {
     "name": "stderr",
     "output_type": "stream",
     "text": [
      "100%|██████████| 4368/4368 [00:11<00:00, 366.32it/s]  \n",
      " 66%|██████▌   | 2868/4368 [00:00<00:00, 26955.07it/s]"
     ]
    },
    {
     "name": "stdout",
     "output_type": "stream",
     "text": [
      "This is the layer I'm looking at:  lstm/lstm_1/control_dependency\n"
     ]
    },
    {
     "name": "stderr",
     "output_type": "stream",
     "text": [
      "100%|██████████| 4368/4368 [00:11<00:00, 377.39it/s]  \n"
     ]
    }
   ],
   "source": [
    "lm1b_correlation_dict = get_correlation_dfs_for_all_layers(\"lm_1b\")"
   ]
  },
  {
   "cell_type": "code",
   "execution_count": 53,
   "metadata": {},
   "outputs": [
    {
     "name": "stdout",
     "output_type": "stream",
     "text": [
      "2\n"
     ]
    }
   ],
   "source": [
    "print(len(lm1b_correlation_dict))"
   ]
  },
  {
   "cell_type": "code",
   "execution_count": 54,
   "metadata": {},
   "outputs": [],
   "source": [
    "import math\n",
    "import matplotlib.pyplot as plt\n",
    "\n",
    "def get_subplots(dictionary,model_name):\n",
    "    number_subplots = len(dictionary)\n",
    "    number_rows = math.ceil(number_subplots/2)\n",
    "    \n",
    "    fig, ax = plt.subplots(number_rows,2, figsize=(15, 7*number_rows))\n",
    "    ax = ax.flatten()\n",
    "    fig.suptitle(model_name, fontsize=26)\n",
    "    \n",
    "    counter = 0\n",
    "    for key, value in dictionary.items():\n",
    "        ax[counter] = sns.heatmap(value.corr(), ax=ax[counter], square=True)\n",
    "        ax[counter].set_title(key, fontsize=16)\n",
    "        bottom, top = ax[counter].get_ylim()\n",
    "        ax[counter].set_ylim(bottom + 0.5, top - 0.5)\n",
    "        counter += 1\n",
    "    if number_subplots%2 == 1:\n",
    "        fig.delaxes(ax[counter])"
   ]
  },
  {
   "cell_type": "code",
   "execution_count": 55,
   "metadata": {},
   "outputs": [
    {
     "data": {
      "image/png": "[encoded data removed]",
      "text/plain": [
       "<Figure size 1080x504 with 4 Axes>"
      ]
     },
     "metadata": {
      "needs_background": "light"
     },
     "output_type": "display_data"
    }
   ],
   "source": [
    "get_subplots(lm1b_correlation_dict, \"LM1B\")"
   ]
  },
  {
   "cell_type": "markdown",
   "metadata": {},
   "source": [
    "# DistilGPT2"
   ]
  },
  {
   "cell_type": "code",
   "execution_count": 56,
   "metadata": {},
   "outputs": [
    {
     "name": "stderr",
     "output_type": "stream",
     "text": [
      "  4%|▍         | 178/4368 [00:00<00:02, 1734.66it/s]"
     ]
    },
    {
     "name": "stdout",
     "output_type": "stream",
     "text": [
      "This is the layer I'm looking at:  drop\n"
     ]
    },
    {
     "name": "stderr",
     "output_type": "stream",
     "text": [
      "100%|██████████| 4368/4368 [00:14<00:00, 304.61it/s]\n",
      "  4%|▍         | 178/4368 [00:00<00:02, 1725.27it/s]"
     ]
    },
    {
     "name": "stdout",
     "output_type": "stream",
     "text": [
      "This is the layer I'm looking at:  encoder.h.0\n"
     ]
    },
    {
     "name": "stderr",
     "output_type": "stream",
     "text": [
      "100%|██████████| 4368/4368 [00:14<00:00, 307.72it/s]\n",
      "  4%|▍         | 178/4368 [00:00<00:02, 1688.26it/s]"
     ]
    },
    {
     "name": "stdout",
     "output_type": "stream",
     "text": [
      "This is the layer I'm looking at:  encoder.h.1\n"
     ]
    },
    {
     "name": "stderr",
     "output_type": "stream",
     "text": [
      "100%|██████████| 4368/4368 [00:14<00:00, 304.67it/s]\n",
      "  4%|▍         | 178/4368 [00:00<00:02, 1759.61it/s]"
     ]
    },
    {
     "name": "stdout",
     "output_type": "stream",
     "text": [
      "This is the layer I'm looking at:  encoder.h.2\n"
     ]
    },
    {
     "name": "stderr",
     "output_type": "stream",
     "text": [
      "100%|██████████| 4368/4368 [00:14<00:00, 304.40it/s]\n",
      "  4%|▍         | 179/4368 [00:00<00:02, 1638.00it/s]"
     ]
    },
    {
     "name": "stdout",
     "output_type": "stream",
     "text": [
      "This is the layer I'm looking at:  encoder.h.3\n"
     ]
    },
    {
     "name": "stderr",
     "output_type": "stream",
     "text": [
      "100%|██████████| 4368/4368 [00:14<00:00, 310.05it/s]\n",
      "  4%|▍         | 178/4368 [00:00<00:02, 1775.65it/s]"
     ]
    },
    {
     "name": "stdout",
     "output_type": "stream",
     "text": [
      "This is the layer I'm looking at:  encoder.h.4\n"
     ]
    },
    {
     "name": "stderr",
     "output_type": "stream",
     "text": [
      "100%|██████████| 4368/4368 [00:14<00:00, 309.33it/s]\n",
      "  4%|▍         | 178/4368 [00:00<00:02, 1693.79it/s]"
     ]
    },
    {
     "name": "stdout",
     "output_type": "stream",
     "text": [
      "This is the layer I'm looking at:  encoder.h.5\n"
     ]
    },
    {
     "name": "stderr",
     "output_type": "stream",
     "text": [
      "100%|██████████| 4368/4368 [00:14<00:00, 296.40it/s]\n"
     ]
    }
   ],
   "source": [
    "distilgpt2_correlation_dict = get_correlation_dfs_for_all_layers(\"distilgpt2\")"
   ]
  },
  {
   "cell_type": "code",
   "execution_count": 57,
   "metadata": {
    "scrolled": false
   },
   "outputs": [
    {
     "data": {
      "image/png": "[encoded data removed]",
      "text/plain": [
       "<Figure size 1080x2016 with 14 Axes>"
      ]
     },
     "metadata": {
      "needs_background": "light"
     },
     "output_type": "display_data"
    }
   ],
   "source": [
    "get_subplots(distilgpt2_correlation_dict, \"DistilGPT2\")"
   ]
  },
  {
   "cell_type": "markdown",
   "metadata": {},
   "source": [
    "### Glove"
   ]
  },
  {
   "cell_type": "code",
   "execution_count": 58,
   "metadata": {},
   "outputs": [
    {
     "name": "stderr",
     "output_type": "stream",
     "text": [
      " 35%|███▍      | 1519/4368 [00:00<00:00, 9970.17it/s]"
     ]
    },
    {
     "name": "stdout",
     "output_type": "stream",
     "text": [
      "This is the layer I'm looking at:  projection\n"
     ]
    },
    {
     "name": "stderr",
     "output_type": "stream",
     "text": [
      "100%|██████████| 4368/4368 [00:09<00:00, 444.89it/s] \n"
     ]
    },
    {
     "data": {
      "image/png": "[encoded data removed]",
      "text/plain": [
       "<Figure size 1080x504 with 2 Axes>"
      ]
     },
     "metadata": {
      "needs_background": "light"
     },
     "output_type": "display_data"
    }
   ],
   "source": [
    "glove_correlation_dict = get_correlation_dfs_for_all_layers(\"glove\")\n",
    "get_subplots(glove_correlation_dict, \"GloVe\")"
   ]
  },
  {
   "cell_type": "markdown",
   "metadata": {},
   "source": [
    "___________________________\n",
    "___________________________\n",
    "# CKA"
   ]
  },
  {
   "cell_type": "code",
   "execution_count": 59,
   "metadata": {},
   "outputs": [],
   "source": [
    "from pathlib import Path"
   ]
  },
  {
   "cell_type": "code",
   "execution_count": 60,
   "metadata": {},
   "outputs": [
    {
     "data": {
      "text/html": [
       "<div>\n",
       "<style scoped>\n",
       "    .dataframe tbody tr th:only-of-type {\n",
       "        vertical-align: middle;\n",
       "    }\n",
       "\n",
       "    .dataframe tbody tr th {\n",
       "        vertical-align: top;\n",
       "    }\n",
       "\n",
       "    .dataframe thead th {\n",
       "        text-align: right;\n",
       "    }\n",
       "</style>\n",
       "<table border=\"1\" class=\"dataframe\">\n",
       "  <thead>\n",
       "    <tr style=\"text-align: right;\">\n",
       "      <th></th>\n",
       "      <th>Original</th>\n",
       "      <th>Scr1</th>\n",
       "      <th>Scr3</th>\n",
       "      <th>Scr5</th>\n",
       "      <th>Scr7</th>\n",
       "      <th>lowpmi</th>\n",
       "      <th>backward</th>\n",
       "      <th>random</th>\n",
       "    </tr>\n",
       "  </thead>\n",
       "  <tbody>\n",
       "    <tr>\n",
       "      <th>0</th>\n",
       "      <td>0.074908</td>\n",
       "      <td>0.086076</td>\n",
       "      <td>-0.098503</td>\n",
       "      <td>0.287310</td>\n",
       "      <td>-0.491648</td>\n",
       "      <td>-0.268378</td>\n",
       "      <td>-0.133161</td>\n",
       "      <td>-0.133560</td>\n",
       "    </tr>\n",
       "    <tr>\n",
       "      <th>1</th>\n",
       "      <td>0.433372</td>\n",
       "      <td>0.372021</td>\n",
       "      <td>0.490790</td>\n",
       "      <td>0.501052</td>\n",
       "      <td>0.179898</td>\n",
       "      <td>0.052124</td>\n",
       "      <td>-0.217764</td>\n",
       "      <td>0.831461</td>\n",
       "    </tr>\n",
       "    <tr>\n",
       "      <th>2</th>\n",
       "      <td>-1.386395</td>\n",
       "      <td>-0.923225</td>\n",
       "      <td>-1.318906</td>\n",
       "      <td>-1.023111</td>\n",
       "      <td>-1.841627</td>\n",
       "      <td>-0.765052</td>\n",
       "      <td>-1.055040</td>\n",
       "      <td>-1.747107</td>\n",
       "    </tr>\n",
       "    <tr>\n",
       "      <th>3</th>\n",
       "      <td>-0.021115</td>\n",
       "      <td>-0.067918</td>\n",
       "      <td>0.020265</td>\n",
       "      <td>0.320247</td>\n",
       "      <td>0.128362</td>\n",
       "      <td>0.136439</td>\n",
       "      <td>-0.139715</td>\n",
       "      <td>-0.122085</td>\n",
       "    </tr>\n",
       "    <tr>\n",
       "      <th>4</th>\n",
       "      <td>0.308469</td>\n",
       "      <td>0.072625</td>\n",
       "      <td>0.104190</td>\n",
       "      <td>-0.000543</td>\n",
       "      <td>-0.236029</td>\n",
       "      <td>-0.456595</td>\n",
       "      <td>0.159667</td>\n",
       "      <td>-0.441237</td>\n",
       "    </tr>\n",
       "    <tr>\n",
       "      <th>...</th>\n",
       "      <td>...</td>\n",
       "      <td>...</td>\n",
       "      <td>...</td>\n",
       "      <td>...</td>\n",
       "      <td>...</td>\n",
       "      <td>...</td>\n",
       "      <td>...</td>\n",
       "      <td>...</td>\n",
       "    </tr>\n",
       "    <tr>\n",
       "      <th>481531</th>\n",
       "      <td>0.419296</td>\n",
       "      <td>0.450490</td>\n",
       "      <td>0.457113</td>\n",
       "      <td>0.323549</td>\n",
       "      <td>0.027656</td>\n",
       "      <td>0.556965</td>\n",
       "      <td>0.155259</td>\n",
       "      <td>0.466709</td>\n",
       "    </tr>\n",
       "    <tr>\n",
       "      <th>481532</th>\n",
       "      <td>0.127783</td>\n",
       "      <td>0.127696</td>\n",
       "      <td>0.186835</td>\n",
       "      <td>0.246898</td>\n",
       "      <td>0.319570</td>\n",
       "      <td>0.208378</td>\n",
       "      <td>0.226282</td>\n",
       "      <td>-0.264907</td>\n",
       "    </tr>\n",
       "    <tr>\n",
       "      <th>481533</th>\n",
       "      <td>0.345713</td>\n",
       "      <td>0.312569</td>\n",
       "      <td>0.200625</td>\n",
       "      <td>0.350046</td>\n",
       "      <td>-0.075820</td>\n",
       "      <td>0.456372</td>\n",
       "      <td>0.202927</td>\n",
       "      <td>0.071377</td>\n",
       "    </tr>\n",
       "    <tr>\n",
       "      <th>481534</th>\n",
       "      <td>-0.232706</td>\n",
       "      <td>-0.095448</td>\n",
       "      <td>0.158781</td>\n",
       "      <td>0.107765</td>\n",
       "      <td>-0.005065</td>\n",
       "      <td>0.058816</td>\n",
       "      <td>-0.066602</td>\n",
       "      <td>-0.081075</td>\n",
       "    </tr>\n",
       "    <tr>\n",
       "      <th>481535</th>\n",
       "      <td>0.063514</td>\n",
       "      <td>0.140378</td>\n",
       "      <td>-0.105221</td>\n",
       "      <td>0.050735</td>\n",
       "      <td>-0.139638</td>\n",
       "      <td>-0.076467</td>\n",
       "      <td>-0.077162</td>\n",
       "      <td>0.052225</td>\n",
       "    </tr>\n",
       "  </tbody>\n",
       "</table>\n",
       "<p>481536 rows × 8 columns</p>\n",
       "</div>"
      ],
      "text/plain": [
       "        Original      Scr1      Scr3      Scr5      Scr7    lowpmi  backward  \\\n",
       "0       0.074908  0.086076 -0.098503  0.287310 -0.491648 -0.268378 -0.133161   \n",
       "1       0.433372  0.372021  0.490790  0.501052  0.179898  0.052124 -0.217764   \n",
       "2      -1.386395 -0.923225 -1.318906 -1.023111 -1.841627 -0.765052 -1.055040   \n",
       "3      -0.021115 -0.067918  0.020265  0.320247  0.128362  0.136439 -0.139715   \n",
       "4       0.308469  0.072625  0.104190 -0.000543 -0.236029 -0.456595  0.159667   \n",
       "...          ...       ...       ...       ...       ...       ...       ...   \n",
       "481531  0.419296  0.450490  0.457113  0.323549  0.027656  0.556965  0.155259   \n",
       "481532  0.127783  0.127696  0.186835  0.246898  0.319570  0.208378  0.226282   \n",
       "481533  0.345713  0.312569  0.200625  0.350046 -0.075820  0.456372  0.202927   \n",
       "481534 -0.232706 -0.095448  0.158781  0.107765 -0.005065  0.058816 -0.066602   \n",
       "481535  0.063514  0.140378 -0.105221  0.050735 -0.139638 -0.076467 -0.077162   \n",
       "\n",
       "          random  \n",
       "0      -0.133560  \n",
       "1       0.831461  \n",
       "2      -1.747107  \n",
       "3      -0.122085  \n",
       "4      -0.441237  \n",
       "...          ...  \n",
       "481531  0.466709  \n",
       "481532 -0.264907  \n",
       "481533  0.071377  \n",
       "481534 -0.081075  \n",
       "481535  0.052225  \n",
       "\n",
       "[481536 rows x 8 columns]"
      ]
     },
     "execution_count": 60,
     "metadata": {},
     "output_type": "execute_result"
    }
   ],
   "source": [
    "df_distilgpt2"
   ]
  },
  {
   "cell_type": "code",
   "execution_count": 61,
   "metadata": {},
   "outputs": [
    {
     "data": {
      "text/plain": [
       "PosixPath('/om/user/gretatu')"
      ]
     },
     "execution_count": 61,
     "metadata": {},
     "output_type": "execute_result"
    }
   ],
   "source": [
    "(Path(os.path.dirname(os.getcwd())))"
   ]
  },
  {
   "cell_type": "code",
   "execution_count": 62,
   "metadata": {},
   "outputs": [],
   "source": [
    "os.chdir('/om/user/gretatu/CKA-Centered-Kernel-Alignment')"
   ]
  },
  {
   "cell_type": "code",
   "execution_count": 63,
   "metadata": {},
   "outputs": [],
   "source": [
    "import cca_core\n",
    "from CKA import linear_CKA, kernel_CKA"
   ]
  },
  {
   "cell_type": "code",
   "execution_count": 64,
   "metadata": {},
   "outputs": [
    {
     "name": "stderr",
     "output_type": "stream",
     "text": [
      "  4%|▍         | 178/4368 [00:00<00:02, 1706.73it/s]"
     ]
    },
    {
     "name": "stdout",
     "output_type": "stream",
     "text": [
      "This is the layer I'm looking at:  encoder.h.5\n"
     ]
    },
    {
     "name": "stderr",
     "output_type": "stream",
     "text": [
      "100%|██████████| 4368/4368 [00:14<00:00, 305.39it/s]\n"
     ]
    }
   ],
   "source": [
    "dfmatrix_distilgpt2 = main_df_for_plotting(\"distilgpt2\", flatten=False)"
   ]
  },
  {
   "cell_type": "code",
   "execution_count": 65,
   "metadata": {},
   "outputs": [
    {
     "data": {
      "text/plain": [
       "(627, 768)"
      ]
     },
     "execution_count": 65,
     "metadata": {},
     "output_type": "execute_result"
    }
   ],
   "source": [
    "np.shape(dfmatrix_distilgpt2['Original'])"
   ]
  },
  {
   "cell_type": "code",
   "execution_count": 66,
   "metadata": {},
   "outputs": [
    {
     "name": "stderr",
     "output_type": "stream",
     "text": [
      "  4%|▍         | 178/4368 [00:00<00:02, 1751.77it/s]"
     ]
    },
    {
     "name": "stdout",
     "output_type": "stream",
     "text": [
      "This is the layer I'm looking at:  encoder.h.0\n"
     ]
    },
    {
     "name": "stderr",
     "output_type": "stream",
     "text": [
      "100%|██████████| 4368/4368 [00:13<00:00, 312.76it/s]\n"
     ]
    }
   ],
   "source": [
    "dfmatrix_distilgpt2_h0 = main_df_for_plotting(\"distilgpt2\", layer_identifier=\"encoder.h.0\", flatten=False)"
   ]
  },
  {
   "cell_type": "code",
   "execution_count": 67,
   "metadata": {},
   "outputs": [],
   "source": [
    "def computeCKA(d, cka_type='linear'):\n",
    "    labels = []\n",
    "    \n",
    "    M = np.zeros((len(d), len(d)))\n",
    "    r = 0\n",
    "    for k,v in d.items():\n",
    "        # print(k)\n",
    "        c = 0\n",
    "        for k2,v2 in d.items():\n",
    "            # print(k2)\n",
    "            if cka_type == 'linear':\n",
    "                M[r,c] = linear_CKA(np.asarray(v).T, np.asarray(v2).T)\n",
    "            c += 1\n",
    "\n",
    "        r += 1\n",
    "        \n",
    "        labels.append(k)\n",
    "        \n",
    "    return M, labels"
   ]
  },
  {
   "cell_type": "code",
   "execution_count": 68,
   "metadata": {},
   "outputs": [
    {
     "name": "stderr",
     "output_type": "stream",
     "text": [
      " 66%|██████▌   | 2868/4368 [00:00<00:00, 27832.57it/s]"
     ]
    },
    {
     "name": "stdout",
     "output_type": "stream",
     "text": [
      "This is the layer I'm looking at:  lstm/lstm_0/control_dependency\n"
     ]
    },
    {
     "name": "stderr",
     "output_type": "stream",
     "text": [
      "100%|██████████| 4368/4368 [00:11<00:00, 373.46it/s]  \n",
      " 66%|██████▌   | 2868/4368 [00:00<00:00, 27070.68it/s]"
     ]
    },
    {
     "name": "stdout",
     "output_type": "stream",
     "text": [
      "This is the layer I'm looking at:  lstm/lstm_1/control_dependency\n"
     ]
    },
    {
     "name": "stderr",
     "output_type": "stream",
     "text": [
      "100%|██████████| 4368/4368 [00:11<00:00, 388.64it/s]  \n"
     ]
    }
   ],
   "source": [
    "lm1b_correlation_dict = get_correlation_dfs_for_all_layers(\"lm_1b\", flatten=False)"
   ]
  },
  {
   "cell_type": "code",
   "execution_count": 69,
   "metadata": {},
   "outputs": [
    {
     "name": "stderr",
     "output_type": "stream",
     "text": [
      "  4%|▍         | 178/4368 [00:00<00:02, 1742.34it/s]"
     ]
    },
    {
     "name": "stdout",
     "output_type": "stream",
     "text": [
      "This is the layer I'm looking at:  drop\n"
     ]
    },
    {
     "name": "stderr",
     "output_type": "stream",
     "text": [
      "100%|██████████| 4368/4368 [00:13<00:00, 312.66it/s]\n",
      "  4%|▍         | 178/4368 [00:00<00:02, 1757.69it/s]"
     ]
    },
    {
     "name": "stdout",
     "output_type": "stream",
     "text": [
      "This is the layer I'm looking at:  encoder.h.0\n"
     ]
    },
    {
     "name": "stderr",
     "output_type": "stream",
     "text": [
      "100%|██████████| 4368/4368 [00:13<00:00, 313.42it/s]\n",
      "  4%|▍         | 178/4368 [00:00<00:02, 1675.55it/s]"
     ]
    },
    {
     "name": "stdout",
     "output_type": "stream",
     "text": [
      "This is the layer I'm looking at:  encoder.h.1\n"
     ]
    },
    {
     "name": "stderr",
     "output_type": "stream",
     "text": [
      "100%|██████████| 4368/4368 [00:14<00:00, 311.92it/s]\n",
      "  4%|▍         | 178/4368 [00:00<00:02, 1670.09it/s]"
     ]
    },
    {
     "name": "stdout",
     "output_type": "stream",
     "text": [
      "This is the layer I'm looking at:  encoder.h.2\n"
     ]
    },
    {
     "name": "stderr",
     "output_type": "stream",
     "text": [
      "100%|██████████| 4368/4368 [00:14<00:00, 303.07it/s]\n",
      "  4%|▍         | 178/4368 [00:00<00:02, 1771.93it/s]"
     ]
    },
    {
     "name": "stdout",
     "output_type": "stream",
     "text": [
      "This is the layer I'm looking at:  encoder.h.3\n"
     ]
    },
    {
     "name": "stderr",
     "output_type": "stream",
     "text": [
      "100%|██████████| 4368/4368 [00:14<00:00, 299.08it/s]\n",
      "  4%|▍         | 179/4368 [00:00<00:02, 1643.85it/s]"
     ]
    },
    {
     "name": "stdout",
     "output_type": "stream",
     "text": [
      "This is the layer I'm looking at:  encoder.h.4\n"
     ]
    },
    {
     "name": "stderr",
     "output_type": "stream",
     "text": [
      "100%|██████████| 4368/4368 [00:13<00:00, 314.85it/s]\n",
      "  4%|▍         | 178/4368 [00:00<00:02, 1706.92it/s]"
     ]
    },
    {
     "name": "stdout",
     "output_type": "stream",
     "text": [
      "This is the layer I'm looking at:  encoder.h.5\n"
     ]
    },
    {
     "name": "stderr",
     "output_type": "stream",
     "text": [
      "100%|██████████| 4368/4368 [00:14<00:00, 307.68it/s]\n"
     ]
    }
   ],
   "source": [
    "distilgpt2_matrix_correlation_dict = get_correlation_dfs_for_all_layers(\"distilgpt2\", flatten=False)"
   ]
  },
  {
   "cell_type": "code",
   "execution_count": 70,
   "metadata": {},
   "outputs": [],
   "source": [
    "def get_CKA_subplots(dictionary,model_name):\n",
    "    number_subplots = len(dictionary)\n",
    "    number_rows = math.ceil(number_subplots/2)\n",
    "    \n",
    "    fig, ax = plt.subplots(number_rows,2, figsize=(15, 7*number_rows))\n",
    "    ax = ax.flatten()\n",
    "    fig.suptitle(model_name, fontsize=26)\n",
    "    \n",
    "    counter = 0\n",
    "    for key, value in dictionary.items():\n",
    "        # Compute CKA for each item\n",
    "#        print(np.shape(value))\n",
    "        cka, labels = computeCKA(value)\n",
    "        print(labels)\n",
    "        labels = labels[:8]\n",
    "        ax[counter] = sns.heatmap(cka, ax=ax[counter], square=True, xticklabels=labels, yticklabels=labels)\n",
    "        ax[counter].set_title(key, fontsize=16)\n",
    "        bottom, top = ax[counter].get_ylim()\n",
    "        ax[counter].set_ylim(bottom + 0.5, top - 0.5)\n",
    "        counter += 1\n",
    "        \n",
    "    if number_subplots%2 == 1:\n",
    "        fig.delaxes(ax[counter])\n"
   ]
  },
  {
   "cell_type": "code",
   "execution_count": 71,
   "metadata": {},
   "outputs": [
    {
     "name": "stdout",
     "output_type": "stream",
     "text": [
      "['Original', 'Scr1', 'Scr3', 'Scr5', 'Scr7', 'lowpmi', 'backward', 'random']\n",
      "['Original', 'Scr1', 'Scr3', 'Scr5', 'Scr7', 'lowpmi', 'backward', 'random']\n"
     ]
    },
    {
     "data": {
      "image/png": "[encoded data removed]",
      "text/plain": [
       "<Figure size 1080x504 with 4 Axes>"
      ]
     },
     "metadata": {
      "needs_background": "light"
     },
     "output_type": "display_data"
    }
   ],
   "source": [
    "v=get_CKA_subplots(lm1b_correlation_dict, 'lm1b :)')"
   ]
  },
  {
   "cell_type": "code",
   "execution_count": 72,
   "metadata": {},
   "outputs": [],
   "source": [
    "v"
   ]
  },
  {
   "cell_type": "code",
   "execution_count": null,
   "metadata": {},
   "outputs": [],
   "source": []
  }
 ],
 "metadata": {
  "kernelspec": {
   "display_name": "Python 3",
   "language": "python",
   "name": "python3"
  },
  "language_info": {
   "codemirror_mode": {
    "name": "ipython",
    "version": 3
   },
   "file_extension": ".py",
   "mimetype": "text/x-python",
   "name": "python",
   "nbconvert_exporter": "python",
   "pygments_lexer": "ipython3",
   "version": "3.6.10"
  }
 },
 "nbformat": 4,
 "nbformat_minor": 2
}
