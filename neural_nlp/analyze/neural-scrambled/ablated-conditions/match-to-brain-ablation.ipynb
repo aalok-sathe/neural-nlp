{
 "cells": [
  {
   "cell_type": "code",
   "execution_count": 1,
   "metadata": {},
   "outputs": [],
   "source": [
    "import os\n",
    "import re\n",
    "import pickle\n",
    "import numpy as np\n",
    "import pandas as pd\n",
    "from tqdm import tqdm\n",
    "import seaborn as sns\n",
    "import matplotlib.pyplot as plt"
   ]
  },
  {
   "cell_type": "code",
   "execution_count": 2,
   "metadata": {},
   "outputs": [],
   "source": [
    "working_dir = \"/om2/user/ckauf/.result_caching/neural_nlp.score\""
   ]
  },
  {
   "cell_type": "code",
   "execution_count": 3,
   "metadata": {},
   "outputs": [],
   "source": [
    "#not used currently\n",
    "def get_max_score(matrix):\n",
    "    \"\"\"\n",
    "    input: result = out['data'].values matrix (e.g. for distilgpt2 a matrix of dimensions 7x2)\n",
    "    output: maximum score and associated error for this matrix.\n",
    "    \"\"\"\n",
    "    max_score, error = 0,0\n",
    "    for i in range(len(matrix)):\n",
    "        if matrix[i][0] > max_score:\n",
    "            max_score = matrix[i][0]\n",
    "            error = matrix[i][1]\n",
    "    return max_score, error"
   ]
  },
  {
   "cell_type": "code",
   "execution_count": 4,
   "metadata": {},
   "outputs": [],
   "source": [
    "#not used currently\n",
    "def get_best_score_dict(model_identifier):\n",
    "    \"\"\"\n",
    "    input: model_identifier\n",
    "    output: dictionary containing the maximum score and associated error per condition.\n",
    "            structure of dictionary: condition --> {score --> max_score, error --> associated error}\n",
    "    \"\"\"\n",
    "    score_dict = {}\n",
    "    for filename in os.listdir(working_dir):\n",
    "        model_name = filename.split(\",\")[1]\n",
    "        if \"model=\" + model_identifier == model_name:\n",
    "            if (\"ablation\" in filename) or (\"encoding-scrambled-original\" in filename):\n",
    "                condition = filename.split(\",\")[0].split(\"Pereira2018-encoding-\")[-1]\n",
    "                print(condition)\n",
    "                if not condition in score_dict:\n",
    "                    score_dict[condition] = {}\n",
    "                file = os.path.join(working_dir,filename)\n",
    "                with open(file, 'rb') as f:\n",
    "                    out = pickle.load(f)\n",
    "                result = out['data'].values\n",
    "                #print(result, '\\n\\n')\n",
    "                max_score, error = get_max_score(result)\n",
    "                score_dict[condition]['score'] = max_score\n",
    "                score_dict[condition]['error'] = error\n",
    "    return score_dict"
   ]
  },
  {
   "cell_type": "code",
   "execution_count": 5,
   "metadata": {},
   "outputs": [],
   "source": [
    "def get_last_scores_df(model_identifier):\n",
    "    \"\"\"\n",
    "    input: model_identifier\n",
    "    output: dictionary containing the last score and associated error per condition.\n",
    "            structure of dictionary: condition --> {score --> max_score, error --> associated error}\n",
    "    \"\"\"\n",
    "    conditions = []\n",
    "    last_scores = []\n",
    "    errors = []\n",
    "    for filename in os.listdir(working_dir):\n",
    "        model_name = filename.split(\",\")[1]\n",
    "        if \"model=\" + model_identifier == model_name:\n",
    "            if (\"ablation\" in filename) or (\"encoding-scrambled-original\" in filename):\n",
    "                condition = filename.split(\",\")[0].split(\"Pereira2018-encoding-\")[-1]\n",
    "                if \"-\" in condition:\n",
    "                    condition = condition.split(\"-\")[1]\n",
    "                file = os.path.join(working_dir,filename)\n",
    "                with open(file, 'rb') as f:\n",
    "                    out = pickle.load(f)\n",
    "                result = out['data'].values\n",
    "                #print(result, '\\n\\n')\n",
    "                last_score, error = last_score, error = result[-1][0], result[-1][1]\n",
    "                conditions.append(condition)\n",
    "                last_scores.append(last_score)\n",
    "                errors.append(error)\n",
    "    import pandas as pd\n",
    "    index = conditions\n",
    "    df = pd.DataFrame({'score': last_scores,\n",
    "    'error': errors, 'condition': conditions})\n",
    "    df['condition'] = pd.Categorical(df['condition'], categories=['original', 'nouns', 'nounsverbs', 'nounsverbsadj', 'functionwords', 'passageshuffle'])\n",
    "    #df['condition'] = pd.Categorical(df['condition'], categories=['original', 'scrambled1', 'scrambled3', 'scrambled5', 'scrambled7', 'lowpmi', 'backward', 'random'])\n",
    "    scores_df = df.sort_values(by='condition')\n",
    "    return scores_df"
   ]
  },
  {
   "cell_type": "code",
   "execution_count": 6,
   "metadata": {},
   "outputs": [],
   "source": [
    "scores_df = get_last_scores_df('distilgpt2')"
   ]
  },
  {
   "cell_type": "markdown",
   "metadata": {},
   "source": [
    "### Quick sanity check"
   ]
  },
  {
   "cell_type": "code",
   "execution_count": 7,
   "metadata": {},
   "outputs": [
    {
     "data": {
      "text/html": [
       "<div>\n",
       "<style scoped>\n",
       "    .dataframe tbody tr th:only-of-type {\n",
       "        vertical-align: middle;\n",
       "    }\n",
       "\n",
       "    .dataframe tbody tr th {\n",
       "        vertical-align: top;\n",
       "    }\n",
       "\n",
       "    .dataframe thead th {\n",
       "        text-align: right;\n",
       "    }\n",
       "</style>\n",
       "<table border=\"1\" class=\"dataframe\">\n",
       "  <thead>\n",
       "    <tr style=\"text-align: right;\">\n",
       "      <th></th>\n",
       "      <th>score</th>\n",
       "      <th>error</th>\n",
       "      <th>condition</th>\n",
       "    </tr>\n",
       "  </thead>\n",
       "  <tbody>\n",
       "    <tr>\n",
       "      <th>5</th>\n",
       "      <td>0.445486</td>\n",
       "      <td>0.141692</td>\n",
       "      <td>original</td>\n",
       "    </tr>\n",
       "    <tr>\n",
       "      <th>1</th>\n",
       "      <td>0.626163</td>\n",
       "      <td>0.161234</td>\n",
       "      <td>nouns</td>\n",
       "    </tr>\n",
       "    <tr>\n",
       "      <th>2</th>\n",
       "      <td>0.536390</td>\n",
       "      <td>0.125478</td>\n",
       "      <td>nounsverbs</td>\n",
       "    </tr>\n",
       "    <tr>\n",
       "      <th>3</th>\n",
       "      <td>0.598142</td>\n",
       "      <td>0.115482</td>\n",
       "      <td>nounsverbsadj</td>\n",
       "    </tr>\n",
       "    <tr>\n",
       "      <th>0</th>\n",
       "      <td>0.572999</td>\n",
       "      <td>0.072939</td>\n",
       "      <td>functionwords</td>\n",
       "    </tr>\n",
       "    <tr>\n",
       "      <th>4</th>\n",
       "      <td>0.773204</td>\n",
       "      <td>0.100471</td>\n",
       "      <td>passageshuffle</td>\n",
       "    </tr>\n",
       "  </tbody>\n",
       "</table>\n",
       "</div>"
      ],
      "text/plain": [
       "      score     error       condition\n",
       "5  0.445486  0.141692        original\n",
       "1  0.626163  0.161234           nouns\n",
       "2  0.536390  0.125478      nounsverbs\n",
       "3  0.598142  0.115482   nounsverbsadj\n",
       "0  0.572999  0.072939   functionwords\n",
       "4  0.773204  0.100471  passageshuffle"
      ]
     },
     "execution_count": 7,
     "metadata": {},
     "output_type": "execute_result"
    }
   ],
   "source": [
    "scores_df"
   ]
  },
  {
   "cell_type": "code",
   "execution_count": 16,
   "metadata": {},
   "outputs": [],
   "source": [
    "def bar_plot(model_identifier,get_last_scores_df):\n",
    "    colors = sns.color_palette(\"rocket\")\n",
    "    x_pos = np.arange(len(get_last_scores_df))\n",
    "    scores = get_last_scores_df['score']\n",
    "    errors = get_last_scores_df['error']\n",
    "    conditions = get_last_scores_df['condition']\n",
    "    fig, ax = plt.subplots()\n",
    "    ax.bar(x_pos, scores,\n",
    "       yerr=errors,\n",
    "       align='center',\n",
    "       alpha=0.8, #color intensity\n",
    "       ecolor='black',\n",
    "       capsize=5, #error bar width\n",
    "       color=colors[1]) #if you put just color=colors, you get the bar plots in different rocket palette colors\n",
    "    ax.set_ylabel('ceiled score',fontsize=12)\n",
    "    ax.set_xticks(x_pos)\n",
    "    ax.set_xticklabels(conditions, rotation=60)\n",
    "    \n",
    "    if len(model_identifier.split(\"-\")) == 1:\n",
    "        model_identifier += \"-lasttoken\"\n",
    "    ax.set_title('{}'.format(model_identifier),fontsize=18)\n",
    "    ax.yaxis.grid(True)\n",
    "    \n",
    "    if not os.path.isdir(\"fig\"):\n",
    "        os.mkdir(\"fig\")\n",
    "    savename = 'fig/match-to-brain-ablation-{}.png'.format(model_identifier)\n",
    "    plt.savefig(savename, bbox_inches='tight', dpi=240)\n",
    "    plt.show()"
   ]
  },
  {
   "cell_type": "code",
   "execution_count": 17,
   "metadata": {},
   "outputs": [],
   "source": [
    "def main_plot(model_identifier):\n",
    "    scores_df = get_last_scores_df(model_identifier)\n",
    "    bar_plot(model_identifier,scores_df)"
   ]
  },
  {
   "cell_type": "markdown",
   "metadata": {},
   "source": [
    "# Ready to plot!"
   ]
  },
  {
   "cell_type": "code",
   "execution_count": 18,
   "metadata": {},
   "outputs": [
    {
     "data": {
      "image/png": "[encoded data removed]",
      "text/plain": [
       "<Figure size 432x288 with 1 Axes>"
      ]
     },
     "metadata": {
      "needs_background": "light"
     },
     "output_type": "display_data"
    }
   ],
   "source": [
    "main_plot('distilgpt2')"
   ]
  },
  {
   "cell_type": "code",
   "execution_count": 19,
   "metadata": {},
   "outputs": [
    {
     "data": {
      "image/png": "[encoded data removed]",
      "text/plain": [
       "<Figure size 432x288 with 1 Axes>"
      ]
     },
     "metadata": {
      "needs_background": "light"
     },
     "output_type": "display_data"
    }
   ],
   "source": [
    "main_plot('distilgpt2-avgtoken')"
   ]
  },
  {
   "cell_type": "markdown",
   "metadata": {},
   "source": [
    "# Loop to create subplots"
   ]
  },
  {
   "cell_type": "code",
   "execution_count": 9,
   "metadata": {},
   "outputs": [],
   "source": [
    "import math\n",
    "from matplotlib.gridspec import GridSpec\n",
    "\n",
    "def get_subplots_loop(model_list):\n",
    "    nsubplots = len(model_list)\n",
    "    nrows = math.ceil(nsubplots/2)\n",
    "    colors = sns.color_palette(\"rocket\")\n",
    "    \n",
    "    fig2 = plt.figure(constrained_layout=True, figsize=(15, 4*nrows))\n",
    "    #fig2.suptitle('Last-layer score across scrambling conditions', fontsize=22, y=1.05)\n",
    "    spec2 = GridSpec(ncols=2, nrows=nrows, figure=fig2)\n",
    "    f2_ax = []\n",
    "    \n",
    "    counter = 0\n",
    "    for i in range(nrows):\n",
    "        for j in range(2):\n",
    "            if counter + 1 > nsubplots:\n",
    "                break\n",
    "            else:\n",
    "                print(model_list[counter])\n",
    "                scores_df = get_last_scores_df(model_list[counter])\n",
    "                x_pos = np.arange(len(scores_df))\n",
    "                scores = scores_df['score']\n",
    "                errors = scores_df['error']\n",
    "                conditions = scores_df['condition']\n",
    "\n",
    "                f2_ax.append(fig2.add_subplot(spec2[i, j]))\n",
    "                f2_ax[-1].bar(x_pos, scores,\n",
    "                       yerr=errors,\n",
    "                       align='center',\n",
    "                       alpha=0.8, #color intensity\n",
    "                       ecolor='black',\n",
    "                       capsize=5, #error-bar width\n",
    "                       color=colors[1]) #if you put just color=colors, you get the bar plots in different rocket palette colors\n",
    "                f2_ax[-1].set_ylabel('ceiled score',fontsize=12)\n",
    "                f2_ax[-1].set_xticks(x_pos)\n",
    "                f2_ax[-1].set_xticklabels(conditions, rotation=60)\n",
    "                f2_ax[-1].set_title('{}'.format(model_list[counter]),fontsize=18)\n",
    "                f2_ax[-1].yaxis.grid(True)\n",
    "                counter += 1\n",
    "    fig2.savefig('fig/match-to-brain.png', bbox_inches='tight', dpi=240)"
   ]
  },
  {
   "cell_type": "code",
   "execution_count": 45,
   "metadata": {},
   "outputs": [],
   "source": [
    "#get_subplots_loop(['glove','lm_1b','skip-thoughts','albert-xxlarge-v2','bert-large-uncased-whole-word-masking', 'xlnet-large-cased', 'distilgpt2', 'gpt2'])#,'distilbert-base-uncased'])"
   ]
  },
  {
   "cell_type": "markdown",
   "metadata": {},
   "source": [
    "_____________________________\n",
    "_____________________________\n",
    "# Lineplot over layers"
   ]
  },
  {
   "cell_type": "code",
   "execution_count": 181,
   "metadata": {},
   "outputs": [],
   "source": [
    "def get_score_dict(model_identifier):\n",
    "    \"\"\"\n",
    "    input: model_identifier\n",
    "    output: dictionary containing the maximum score and associated error per condition.\n",
    "            structure of dictionary: condition --> {score --> list of scores across layers,\n",
    "                                                    error --> list of associated errors}\n",
    "    \"\"\"\n",
    "    score_dict = {}\n",
    "    for filename in os.listdir(working_dir):\n",
    "        model_name = filename.split(\",\")[1]\n",
    "        if \"model=\" + model_identifier == model_name:\n",
    "            condition = filename.split(\",\")[0].split(\"Pereira2018-encoding-ablation\")[-1]\n",
    "            if \"-\" in condition:\n",
    "                condition = condition.split(\"-\")[1]\n",
    "            #print(condition)\n",
    "            if not condition in score_dict:\n",
    "                score_dict[condition] = {}\n",
    "            file = os.path.join(working_dir,filename)\n",
    "            with open(file, 'rb') as f:\n",
    "                out = pickle.load(f)\n",
    "            result = out['data'].values\n",
    "            #print(out['data'].layer) # sanity check which confirms order of layers is correct despite single-digit\n",
    "            #names in e.g.g, gpt2, (i.e.: drop, encoder.h.0, encoder.h.1, ..., encoder.h.10, encoder.h.11)\n",
    "            scores = [result[i][0] for i in range(len(result))]\n",
    "            errors = [result[i][1] for i in range(len(result))]\n",
    "            score_dict[condition]['score'] = scores\n",
    "            score_dict[condition]['error'] = errors\n",
    "    ordered_score_dict = reorder_df(score_dict)\n",
    "    return ordered_score_dict"
   ]
  },
  {
   "cell_type": "code",
   "execution_count": 182,
   "metadata": {},
   "outputs": [],
   "source": [
    "def reorder_df(dictionary):\n",
    "    desired_order_list = ['original', 'scrambled1', 'scrambled3', 'scrambled5', 'scrambled7', 'lowpmi', 'random']#, 'backward', 'random']\n",
    "    reordered_dict = {k: dictionary[k] for k in desired_order_list}\n",
    "    return reordered_dict"
   ]
  },
  {
   "cell_type": "code",
   "execution_count": 183,
   "metadata": {},
   "outputs": [],
   "source": [
    "#distilgpt2_score_dict = get_score_dict('distilgpt2')"
   ]
  },
  {
   "cell_type": "code",
   "execution_count": 184,
   "metadata": {},
   "outputs": [],
   "source": [
    "#print(distilgpt2_score_dict.keys())"
   ]
  },
  {
   "cell_type": "code",
   "execution_count": 185,
   "metadata": {},
   "outputs": [],
   "source": [
    "#print(distilgpt2_score_dict['scrambled7'])"
   ]
  },
  {
   "cell_type": "code",
   "execution_count": 186,
   "metadata": {},
   "outputs": [],
   "source": [
    "working_dir2 = \"/om2/user/ckauf/.result_caching/neural_nlp.models.wrapper.core.ActivationsExtractorHelper._from_sentences_stored\"\n",
    "def get_all_layers(model_identifier):\n",
    "    \"\"\"\n",
    "    input: model_identifier of model of which we want to find the layers\n",
    "    output: np.array of all unique layer identifiers, ordered by position\n",
    "    \"\"\"\n",
    "    for ind,filename in enumerate(os.listdir(working_dir2)):\n",
    "        if \"identifier=\" + model_identifier in filename:\n",
    "            file = os.path.join(working_dir2,filename)\n",
    "            with open(file, 'rb') as f:\n",
    "                result = pickle.load(f)\n",
    "            result = result['data']\n",
    "            layer_list = np.unique(result.layer)\n",
    "            #order double-digit layers at end of list\n",
    "            double_digits = []\n",
    "            if model_identifier in ['gpt2','distilgpt2']:\n",
    "                double_digits = [elm for elm in layer_list if 'encoder.h.' in elm and len(elm.split('.h.')[-1]) > 1]\n",
    "            if model_identifier == 'albert-xxlarge-v2':\n",
    "                double_digits = [elm for elm in layer_list if 'encoder.albert_layer_groups.' in elm and len(elm.split('.albert_layer_groups.')[-1]) > 1]\n",
    "            if model_identifier == 'xlnet-large-cased':\n",
    "                double_digits = [elm for elm in layer_list if 'encoder.layer.' in elm and len(elm.split('.layer.')[-1]) > 1]\n",
    "            if model_identifier == 'bert-large-uncased-whole-word-masking':\n",
    "                shortened_names = ['.'.join(elm.split(\".\")[:-1]) for elm in layer_list if '.layer.' in elm]\n",
    "                layer_list = [layer_list[0]] + shortened_names\n",
    "                double_digits = [elm for elm in layer_list if '.layer.' in elm and len(elm.split('.layer.')[-1]) > 1]\n",
    "            layers = [e for e in layer_list if e not in double_digits] + double_digits\n",
    "            #shorten layer names\n",
    "            if model_identifier == 'lm_1b':\n",
    "                layers = [layer.split('/')[1] for layer in layers]\n",
    "            if 'albert' in model_identifier:\n",
    "                layers = [re.sub('.albert_layer_groups.','.h.', layer) for layer in layers]\n",
    "            return layers\n",
    "            break"
   ]
  },
  {
   "cell_type": "code",
   "execution_count": 187,
   "metadata": {},
   "outputs": [
    {
     "data": {
      "text/plain": [
       "['lstm_0', 'lstm_1']"
      ]
     },
     "execution_count": 187,
     "metadata": {},
     "output_type": "execute_result"
    }
   ],
   "source": [
    "#get_all_layers('lm_1b')"
   ]
  },
  {
   "cell_type": "code",
   "execution_count": 188,
   "metadata": {},
   "outputs": [],
   "source": [
    "def get_layerplot(model_identifier):\n",
    "    #line_colors = sns.color_palette(\"rocket\") + sns.color_palette(\"GnBu_d\")\n",
    "    line_colors = sns.color_palette(\"rocket\") + sns.color_palette(\"GnBu_d\") + [sns.color_palette(\"PRGn\", 10)[2]] + [sns.color_palette(\"PuOr\", 10)[0]]\n",
    "    if model_identifier in ['xlnet-large-cased','bert-large-uncased-whole-word-masking']:\n",
    "        line_colors = sns.color_palette(\"rocket\") + sns.color_palette(\"GnBu_d\") + sns.color_palette(\"PRGn\", 10) + sns.color_palette(\"YlOrBr\", 10)\n",
    "    layers = get_all_layers(model_identifier)\n",
    "    score_dict = get_score_dict(model_identifier)\n",
    "    print(score_dict['original'].keys())\n",
    "        \n",
    "    fig, ax = plt.subplots()\n",
    "    \n",
    "    x = np.array(layers)\n",
    "    counter = 0\n",
    "    for key,value in score_dict.items():\n",
    "        ax.plot(x,np.array(score_dict[key]['score']), '-o',color=line_colors[counter])\n",
    "        counter += 1\n",
    "\n",
    "    conditions = list(score_dict.keys())\n",
    "\n",
    "    ax.set_title('Layer neural score evolution across conditions')\n",
    "    ax.legend(conditions)\n",
    "    ax.yaxis.set_label_text('ceiled score')\n",
    "    plt.xticks(rotation= 90)"
   ]
  },
  {
   "cell_type": "code",
   "execution_count": 189,
   "metadata": {},
   "outputs": [],
   "source": [
    "#get_layerplot('distilgpt2')"
   ]
  },
  {
   "cell_type": "code",
   "execution_count": 190,
   "metadata": {},
   "outputs": [],
   "source": [
    "#print(get_all_layers('gpt2'))"
   ]
  },
  {
   "cell_type": "code",
   "execution_count": 191,
   "metadata": {},
   "outputs": [],
   "source": [
    "#get_layerplot('gpt2')"
   ]
  },
  {
   "cell_type": "code",
   "execution_count": 192,
   "metadata": {},
   "outputs": [],
   "source": [
    "#print(get_all_layers('albert-xxlarge-v2'))"
   ]
  },
  {
   "cell_type": "code",
   "execution_count": 193,
   "metadata": {},
   "outputs": [],
   "source": [
    "#get_layerplot('albert-xxlarge-v2')"
   ]
  },
  {
   "cell_type": "code",
   "execution_count": 194,
   "metadata": {},
   "outputs": [],
   "source": [
    "#print(get_all_layers('distilbert-base-uncased'))"
   ]
  },
  {
   "cell_type": "code",
   "execution_count": 195,
   "metadata": {},
   "outputs": [],
   "source": [
    "#get_layerplot('distilbert-base-uncased')"
   ]
  },
  {
   "cell_type": "code",
   "execution_count": 196,
   "metadata": {},
   "outputs": [],
   "source": [
    "#print(get_all_layers('bert-large-uncased-whole-word-masking'))"
   ]
  },
  {
   "cell_type": "code",
   "execution_count": 197,
   "metadata": {},
   "outputs": [],
   "source": [
    "#get_layerplot('bert-large-uncased-whole-word-masking')"
   ]
  },
  {
   "cell_type": "markdown",
   "metadata": {},
   "source": [
    "## Loop models into subplots"
   ]
  },
  {
   "cell_type": "code",
   "execution_count": 202,
   "metadata": {},
   "outputs": [],
   "source": [
    "import math\n",
    "from matplotlib.gridspec import GridSpec\n",
    "\n",
    "def get_lineplots_loop(model_list,error_shading=False):\n",
    "    nsubplots = len(model_list)\n",
    "    nrows = math.ceil(nsubplots/2)\n",
    "    #line_colors = sns.color_palette(\"rocket\") + [sns.color_palette(\"PRGn\", 10)[2]] + [sns.color_palette(\"PuOr\", 10)[0]]\n",
    "    #line_colors = sns.color_palette(\"rocket\") + sns.color_palette(\"GnBu_d\") + [sns.color_palette(\"PRGn\", 10)[2]] + [sns.color_palette(\"PuOr\", 10)[0]]\n",
    "    #if model_identifier in ['xlnet-large-cased','bert-large-uncased-whole-word-masking']:\n",
    "    line_colors = sns.color_palette(\"rocket\") + sns.color_palette(\"GnBu_d\") + sns.color_palette(\"PRGn\", 10) + sns.color_palette(\"YlOrBr\", 10)\n",
    "        \n",
    "    fig2 = plt.figure(constrained_layout=True, figsize=(15, 5*nrows))\n",
    "    fig2.suptitle('Score evolution of layers over scrambling conditions', fontsize=22, y=1.05)\n",
    "    spec2 = GridSpec(ncols=2, nrows=nrows, figure=fig2)\n",
    "    f2_ax = []\n",
    "    \n",
    "    model_counter = 0\n",
    "    for i in range(nrows):\n",
    "        for j in range(2):\n",
    "            if model_counter + 1 > nsubplots:\n",
    "                break\n",
    "            else:\n",
    "                print(model_list[model_counter])\n",
    "                layers = get_all_layers(model_list[model_counter])\n",
    "                score_dict = get_score_dict(model_list[model_counter])\n",
    "                f2_ax.append(fig2.add_subplot(spec2[i, j]))\n",
    "                \n",
    "                counter = 0\n",
    "                x = np.array(layers)\n",
    "                for key,value in score_dict.items():\n",
    "                    f2_ax[-1].plot(x,np.array(score_dict[key]['score']), '-o',color=line_colors[counter])\n",
    "                    if error_shading==True:\n",
    "                        f2_ax[-1].fill_between(x,np.array(score_dict[key]['score'])-np.array(score_dict[key]['error']), np.array(score_dict[key]['score'])+np.array(score_dict[key]['error']),facecolor=line_colors[counter],alpha=0.05)\n",
    "                    counter += 1\n",
    "\n",
    "                conditions = list(score_dict.keys())\n",
    "\n",
    "                f2_ax[-1].set_title('{}'.format(model_list[model_counter]),fontsize=18)\n",
    "                f2_ax[-1].yaxis.set_label_text('ceiled score')\n",
    "                plt.xticks(rotation= 90)\n",
    "                #if model_counter == 0:\n",
    "                    #f2_ax[-1].legend(conditions, loc='lower right')\n",
    "                model_counter += 1\n",
    "    #fig2.legend(conditions, loc='lower right')\n",
    "    fig2.legend(conditions, bbox_to_anchor=(1.05, 1), loc='upper left')\n",
    "    if error_shading==True:\n",
    "        fig2.savefig('fig/final_match-to-brain-evolution-error-shading.png', bbox_inches='tight')\n",
    "    else:\n",
    "        fig2.savefig('fig/final_match-to-brain-evolution.png', bbox_inches='tight')"
   ]
  },
  {
   "cell_type": "code",
   "execution_count": 46,
   "metadata": {
    "scrolled": false
   },
   "outputs": [],
   "source": [
    "#get_lineplots_loop(['glove','lm_1b','skip-thoughts','albert-xxlarge-v2','bert-large-uncased-whole-word-masking', 'xlnet-large-cased', 'distilgpt2', 'gpt2'])\n",
    "#bert-large-uncased-whole-word-masking lowpmi condition missing"
   ]
  },
  {
   "cell_type": "code",
   "execution_count": 47,
   "metadata": {},
   "outputs": [],
   "source": [
    "#get_lineplots_loop(['glove','lm_1b','skip-thoughts','albert-xxlarge-v2','bert-large-uncased-whole-word-masking', 'xlnet-large-cased', 'distilgpt2', 'gpt2'],error_shading=True)"
   ]
  },
  {
   "cell_type": "code",
   "execution_count": null,
   "metadata": {},
   "outputs": [],
   "source": []
  }
 ],
 "metadata": {
  "kernelspec": {
   "display_name": "Python 3",
   "language": "python",
   "name": "python3"
  },
  "language_info": {
   "codemirror_mode": {
    "name": "ipython",
    "version": 3
   },
   "file_extension": ".py",
   "mimetype": "text/x-python",
   "name": "python",
   "nbconvert_exporter": "python",
   "pygments_lexer": "ipython3",
   "version": "3.6.2"
  }
 },
 "nbformat": 4,
 "nbformat_minor": 2
}
