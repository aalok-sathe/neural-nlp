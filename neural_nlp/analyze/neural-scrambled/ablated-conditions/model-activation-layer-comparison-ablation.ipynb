{
 "cells": [
  {
   "cell_type": "code",
   "execution_count": 13,
   "metadata": {},
   "outputs": [],
   "source": [
    "import os\n",
    "import re\n",
    "import pickle\n",
    "import numpy as np\n",
    "import pandas as pd\n",
    "from tqdm import tqdm\n",
    "import seaborn as sns\n",
    "import matplotlib.pyplot as plt"
   ]
  },
  {
   "cell_type": "code",
   "execution_count": 14,
   "metadata": {},
   "outputs": [],
   "source": [
    "working_dir = \"/om2/user/ckauf/.result_caching/neural_nlp.models.wrapper.core.ActivationsExtractorHelper._from_sentences_stored\""
   ]
  },
  {
   "cell_type": "code",
   "execution_count": 15,
   "metadata": {},
   "outputs": [],
   "source": [
    "def get_last_layer(model_identifier):\n",
    "    \"\"\"\n",
    "    input: model_identifier of model of which we want to find the last layer\n",
    "    output: last layer identifier\n",
    "    \"\"\"\n",
    "    for ind,filename in enumerate(os.listdir(working_dir)):\n",
    "        model_name = filename.split(\",\")[0]\n",
    "        if \"identifier=\" + model_identifier == model_name:\n",
    "            if any(substring in filename for substring in [\"nouns\",\"nounsverbs\",\"nounsverbsadj\",\"functionwords\",\"Original\",\"passageshuffle\"]):\n",
    "                file = os.path.join(working_dir,filename)\n",
    "                with open(file, 'rb') as f:\n",
    "                    result = pickle.load(f)\n",
    "                result = result['data']\n",
    "                layer_list = np.unique(result.layer)\n",
    "                #order double-digit layers at end of list\n",
    "                double_digits = []\n",
    "                if model_identifier in ['distilgpt2','gpt2']:\n",
    "                    double_digits = [elm for elm in layer_list if 'encoder.h.' in elm and len(elm.split('.h.')[-1]) > 1]\n",
    "                if model_identifier == 'albert-xxlarge-v2':\n",
    "                    double_digits = [elm for elm in layer_list if 'encoder.albert_layer_groups.' in elm and len(elm.split('.albert_layer_groups.')[-1]) > 1]\n",
    "                if model_identifier == 'xlnet-large-cased':\n",
    "                    double_digits = [elm for elm in layer_list if 'encoder.layer.' in elm and len(elm.split('.layer.')[-1]) > 1]\n",
    "                layers = [e for e in layer_list if e not in double_digits] + double_digits\n",
    "                final_layer = layers[-1]\n",
    "                return final_layer\n",
    "                break"
   ]
  },
  {
   "cell_type": "code",
   "execution_count": 16,
   "metadata": {},
   "outputs": [],
   "source": [
    "def get_all_layers(model_identifier):\n",
    "    \"\"\"\n",
    "    input: model_identifier of model of which we want to find the layers\n",
    "    output: np.array of all unique layer identifiers, ordered by position\n",
    "    \"\"\"\n",
    "    for ind,filename in enumerate(os.listdir(working_dir)):\n",
    "        if \"identifier=\" + model_identifier in filename:\n",
    "            print(filename)\n",
    "            if any(substring in filename for substring in [\"nouns\",\"nounsverbs\",\"nounsverbsadj\",\"functionwords\",\"Original\", \"passageshuffle\"]):\n",
    "                file = os.path.join(working_dir,filename)\n",
    "                with open(file, 'rb') as f:\n",
    "                    result = pickle.load(f)\n",
    "                result = result['data']\n",
    "                layer_list = np.unique(result.layer)\n",
    "                #order double-digit layers at end of list\n",
    "                double_digits = []\n",
    "                if model_identifier in ['gpt2','distilgpt2']:\n",
    "                    double_digits = [elm for elm in layer_list if 'encoder.h.' in elm and len(elm.split('.h.')[-1]) > 1]\n",
    "                if model_identifier == 'albert-xxlarge-v2':\n",
    "                    double_digits = [elm for elm in layer_list if 'encoder.albert_layer_groups.' in elm and len(elm.split('.albert_layer_groups.')[-1]) > 1]\n",
    "                if model_identifier == 'xlnet-large-cased':\n",
    "                    double_digits = [elm for elm in layer_list if 'encoder.layer.' in elm and len(elm.split('.layer.')[-1]) > 1]\n",
    "                if model_identifier == 'bert-large-uncased-whole-word-masking':\n",
    "                    double_digits = [elm for elm in layer_list if '.layer.' in elm and len(elm.split('.layer.')[-1].split('.')[0]) > 1]\n",
    "                layers = [e for e in layer_list if e not in double_digits] + double_digits\n",
    "                return layers\n",
    "                break"
   ]
  },
  {
   "cell_type": "code",
   "execution_count": 17,
   "metadata": {},
   "outputs": [],
   "source": [
    "def get_passage_identifier(filename):\n",
    "    \"\"\"\n",
    "    get passage identifier to be used as key for the dictionary.\n",
    "    important step: fill the identifier with 0s for single-digit passage numbers\n",
    "    \"\"\"\n",
    "    passage = filename.split(\"-\")[-1].split(\".\")[0]\n",
    "    number = passage.split(\"sentences\")[-1]\n",
    "    if len(number) == 1:\n",
    "        passage_identifier = passage[:-1] + number.zfill(2)\n",
    "    else:\n",
    "        passage_identifier = passage\n",
    "    return passage_identifier"
   ]
  },
  {
   "cell_type": "code",
   "execution_count": 18,
   "metadata": {},
   "outputs": [],
   "source": [
    "def get_dictionary(model_identifier, layer_identifier=None):\n",
    "    \"\"\"\n",
    "    input: model identifier\n",
    "    output: populated model dictionary with data of just the selected layer\n",
    "    dictionary structure: passage_identifier --> condition identifier --> data\n",
    "    \"\"\"\n",
    "    model_dictionary = model_identifier + \"_dict\"\n",
    "    model_dictionary = {}\n",
    "    \n",
    "    #look at last layer by default\n",
    "    if layer_identifier == None:\n",
    "        layer_identifier = get_last_layer(model_identifier)\n",
    "    else:\n",
    "        layer_identifier = layer_identifier\n",
    "    print(\"This is the layer I'm looking at: \", layer_identifier)\n",
    "    \n",
    "    for filename in tqdm(os.listdir(working_dir)):\n",
    "        model_name = filename.split(\",\")[0]\n",
    "        if \"identifier=\" + model_identifier == model_name:\n",
    "            if any(substring in filename for substring in [\"nouns\",\"nounsverbs\",\"nounsverbsadj\",\"functionwords\",\"Original\", \"passageshuffle\"]):\n",
    "                passage_identifier = get_passage_identifier(filename)\n",
    "                if not \"Original\" in filename:\n",
    "                    condition = filename.split(\"-\")[-3]\n",
    "                else:\n",
    "                    condition = filename.split(\"-\")[-2]\n",
    "\n",
    "                file = os.path.join(working_dir,filename)\n",
    "                with open(file, 'rb') as f:\n",
    "                    out = pickle.load(f)\n",
    "                result = out['data']\n",
    "                data = result[{\"neuroid\": [layer == layer_identifier for layer in result[\"layer\"].values]}]\n",
    "\n",
    "                if not passage_identifier in model_dictionary:\n",
    "                    model_dictionary[passage_identifier] = {}\n",
    "            model_dictionary[passage_identifier][condition] = data\n",
    "    \n",
    "    return model_dictionary"
   ]
  },
  {
   "cell_type": "code",
   "execution_count": 19,
   "metadata": {},
   "outputs": [],
   "source": [
    "def get_arrays(dictionary):\n",
    "    #sort dictionary by passage identifier\n",
    "    sorted_dict = dict(sorted(dictionary.items()))\n",
    "    #create empty arrays\n",
    "    #original,scr1,scr3,scr5,scr7,lowpmi,backward,random = ([] for i in range(8))\n",
    "    original,nouns,nounsverbs,nounsverbsadj,functionwords,passageshuffle = ([] for i in range(6))\n",
    "    #\n",
    "    for key, value in sorted_dict.items(): #key is passage, value is dic from cond to xarray data\n",
    "        #print(list(value.keys()))\n",
    "        original.append(value['Original'].values)\n",
    "        nouns.append(value['nouns'].values)\n",
    "        nounsverbs.append(value['nounsverbs'].values)\n",
    "        nounsverbsadj.append(value['nounsverbsadj'].values)\n",
    "        functionwords.append(value['functionwords'].values)\n",
    "        passageshuffle.append(value['passageshuffle'].values)\n",
    "        \n",
    "    #print(np.shape(original))\n",
    "    return original,nouns,nounsverbs,nounsverbsadj,functionwords,passageshuffle #backward,random"
   ]
  },
  {
   "cell_type": "code",
   "execution_count": 20,
   "metadata": {},
   "outputs": [],
   "source": [
    "def flatten_array(liste):\n",
    "    liste_flatten = [item for sublist in liste for item in sublist]\n",
    "    return liste_flatten"
   ]
  },
  {
   "cell_type": "code",
   "execution_count": 21,
   "metadata": {},
   "outputs": [],
   "source": [
    "#def prepare_dataframe(original,scr1,scr3,scr5,scr7,lowpmi,backward,random,flatten=True):\n",
    "def prepare_dataframe(original,nouns,nounsverbs,nounsverbsadj,functionwords,passageshuffle,flatten=True):\n",
    "    \n",
    "    if flatten:\n",
    "        df = pd.DataFrame(data={'Original':np.asarray(flatten_array(original)).flatten(),\n",
    "                             'nouns':np.asarray(flatten_array(nouns)).flatten(),\n",
    "                              'nounsverbs':np.asarray(flatten_array(nounsverbs)).flatten(),\n",
    "                              'nounsverbsadj':np.asarray(flatten_array(nounsverbsadj)).flatten(),\n",
    "                              'functionwords':np.asarray(flatten_array(functionwords)).flatten(),\n",
    "                               'passageshuffle': np.asarray(flatten_array(passageshuffle)).flatten()})\n",
    "    if not flatten:\n",
    "        # print(np.shape(np.asarray(flatten_array(random))))\n",
    "        df = {}\n",
    "        df = {'Original':flatten_array(original),\n",
    "                             'nouns':flatten_array(nouns),\n",
    "                              'nounsverbs':flatten_array(nounsverbs),\n",
    "                              'nounsverbsadj':flatten_array(nounsverbsadj),\n",
    "                              'functionwords':flatten_array(functionwords),\n",
    "                              'passageshuffle':flatten_array(passageshuffle)}\n",
    "    return df"
   ]
  },
  {
   "cell_type": "code",
   "execution_count": 22,
   "metadata": {},
   "outputs": [],
   "source": [
    "def main_df_for_plotting(model_identifier, layer_identifier=None, flatten=True):\n",
    "    model_dict = get_dictionary(model_identifier, layer_identifier)\n",
    "    df = prepare_dataframe(*get_arrays(model_dict), flatten=flatten) #*flattens the tuple\n",
    "    return df"
   ]
  },
  {
   "cell_type": "code",
   "execution_count": 23,
   "metadata": {},
   "outputs": [],
   "source": [
    "def get_activation_dfs_for_all_layers(model_identifier, flatten=True):\n",
    "    \"\"\"\n",
    "    input: model_identifier, whether to flatten (i.e. all sentence reps in one vector or leave 627*hidden size)\n",
    "    output: dictionary: layer --> dataframe (conditions as column names, column values are flattened or unflattened activations)\n",
    "    \"\"\"\n",
    "    layers = get_all_layers(model_identifier)\n",
    "    print(layers)\n",
    "    df_dict = {}\n",
    "    for ind,elm in enumerate(layers):\n",
    "        df_dict[elm] = main_df_for_plotting(model_identifier,layer_identifier=elm,flatten=flatten)\n",
    "    return df_dict"
   ]
  },
  {
   "cell_type": "code",
   "execution_count": 24,
   "metadata": {},
   "outputs": [
    {
     "name": "stderr",
     "output_type": "stream",
     "text": [
      " 29%|██▊       | 4210/14724 [00:00<00:00, 40145.46it/s]"
     ]
    },
    {
     "name": "stdout",
     "output_type": "stream",
     "text": [
      "identifier=distilgpt2,stimuli_identifier=Pereira2018-Original-243sentences1.pkl\n",
      "['drop', 'encoder.h.0', 'encoder.h.1', 'encoder.h.2', 'encoder.h.3', 'encoder.h.4', 'encoder.h.5']\n",
      "This is the layer I'm looking at:  drop\n"
     ]
    },
    {
     "name": "stderr",
     "output_type": "stream",
     "text": [
      "100%|██████████| 14724/14724 [00:11<00:00, 1301.79it/s]\n",
      " 29%|██▊       | 4210/14724 [00:00<00:00, 40798.74it/s]"
     ]
    },
    {
     "name": "stdout",
     "output_type": "stream",
     "text": [
      "This is the layer I'm looking at:  encoder.h.0\n"
     ]
    },
    {
     "name": "stderr",
     "output_type": "stream",
     "text": [
      "100%|██████████| 14724/14724 [00:10<00:00, 1383.49it/s]\n",
      " 29%|██▊       | 4210/14724 [00:00<00:00, 38962.46it/s]"
     ]
    },
    {
     "name": "stdout",
     "output_type": "stream",
     "text": [
      "This is the layer I'm looking at:  encoder.h.1\n"
     ]
    },
    {
     "name": "stderr",
     "output_type": "stream",
     "text": [
      "100%|██████████| 14724/14724 [00:11<00:00, 1335.45it/s]\n",
      " 29%|██▊       | 4211/14724 [00:00<00:00, 37626.81it/s]"
     ]
    },
    {
     "name": "stdout",
     "output_type": "stream",
     "text": [
      "This is the layer I'm looking at:  encoder.h.2\n"
     ]
    },
    {
     "name": "stderr",
     "output_type": "stream",
     "text": [
      "100%|██████████| 14724/14724 [00:10<00:00, 1380.52it/s]\n",
      " 29%|██▊       | 4210/14724 [00:00<00:00, 40708.26it/s]"
     ]
    },
    {
     "name": "stdout",
     "output_type": "stream",
     "text": [
      "This is the layer I'm looking at:  encoder.h.3\n"
     ]
    },
    {
     "name": "stderr",
     "output_type": "stream",
     "text": [
      "100%|██████████| 14724/14724 [00:11<00:00, 1320.28it/s]\n",
      " 29%|██▊       | 4211/14724 [00:00<00:00, 38383.93it/s]"
     ]
    },
    {
     "name": "stdout",
     "output_type": "stream",
     "text": [
      "This is the layer I'm looking at:  encoder.h.4\n"
     ]
    },
    {
     "name": "stderr",
     "output_type": "stream",
     "text": [
      "100%|██████████| 14724/14724 [00:10<00:00, 1400.21it/s]\n",
      " 29%|██▊       | 4210/14724 [00:00<00:00, 38493.78it/s]"
     ]
    },
    {
     "name": "stdout",
     "output_type": "stream",
     "text": [
      "This is the layer I'm looking at:  encoder.h.5\n"
     ]
    },
    {
     "name": "stderr",
     "output_type": "stream",
     "text": [
      "100%|██████████| 14724/14724 [00:11<00:00, 1302.98it/s]\n"
     ]
    }
   ],
   "source": [
    "distilgpt2_correlation_dict = get_activation_dfs_for_all_layers(\"distilgpt2\")"
   ]
  },
  {
   "cell_type": "code",
   "execution_count": 25,
   "metadata": {},
   "outputs": [
    {
     "name": "stdout",
     "output_type": "stream",
     "text": [
      "dict_keys(['drop', 'encoder.h.0', 'encoder.h.1', 'encoder.h.2', 'encoder.h.3', 'encoder.h.4', 'encoder.h.5'])\n"
     ]
    }
   ],
   "source": [
    "print(distilgpt2_correlation_dict.keys())"
   ]
  },
  {
   "cell_type": "code",
   "execution_count": 26,
   "metadata": {},
   "outputs": [
    {
     "name": "stdout",
     "output_type": "stream",
     "text": [
      "(481536, 6)\n"
     ]
    }
   ],
   "source": [
    "print(distilgpt2_correlation_dict['drop'].shape)"
   ]
  },
  {
   "cell_type": "code",
   "execution_count": 27,
   "metadata": {},
   "outputs": [
    {
     "name": "stdout",
     "output_type": "stream",
     "text": [
      "Original 0.9999999999999999\n",
      "nouns 0.838284876029786\n",
      "nounsverbs 0.9053629106455982\n",
      "nounsverbsadj 0.9449278240221978\n",
      "functionwords 0.5464528023507941\n",
      "passageshuffle 0.5820257642722818\n",
      "\n",
      "\n",
      "[0.9999999999999999, 0.838284876029786, 0.9053629106455982, 0.9449278240221978, 0.5464528023507941, 0.5820257642722818]\n"
     ]
    }
   ],
   "source": [
    "orig_column = distilgpt2_correlation_dict['drop']['Original']\n",
    "conditions = list(distilgpt2_correlation_dict['drop'].columns)\n",
    "\n",
    "for elm in conditions:\n",
    "    correlation = orig_column.corr(distilgpt2_correlation_dict['drop'][elm])\n",
    "    print(elm, correlation)\n",
    "\n",
    "print(\"\\n\")\n",
    "correlations = [orig_column.corr(distilgpt2_correlation_dict['drop'][elm]) for elm in conditions]\n",
    "print(correlations)"
   ]
  },
  {
   "cell_type": "code",
   "execution_count": 28,
   "metadata": {},
   "outputs": [
    {
     "name": "stdout",
     "output_type": "stream",
     "text": [
      "identifier=distilgpt2,stimuli_identifier=Pereira2018-Original-243sentences1.pkl\n"
     ]
    },
    {
     "data": {
      "text/plain": [
       "([0, 1, 2, 3, 4, 5], <a list of 6 Text xticklabel objects>)"
      ]
     },
     "execution_count": 28,
     "metadata": {},
     "output_type": "execute_result"
    },
    {
     "data": {
      "image/png": "[encoded data removed]",
      "text/plain": [
       "<Figure size 432x288 with 1 Axes>"
      ]
     },
     "metadata": {
      "needs_background": "light"
     },
     "output_type": "display_data"
    }
   ],
   "source": [
    "import matplotlib.pyplot as plt\n",
    "fig, ax = plt.subplots()\n",
    "layers = get_all_layers(\"distilgpt2\")\n",
    "line_colors = sns.color_palette(\"rocket\") + sns.color_palette(\"GnBu_d\")\n",
    "    \n",
    "x = conditions\n",
    "counter = 0\n",
    "for key,value in distilgpt2_correlation_dict.items():\n",
    "    ax.plot(x,correlations, '-o',color=line_colors[counter])\n",
    "    counter += 1\n",
    "\n",
    "    #conditions = list(distilgpt2_score_dict.keys())\n",
    "\n",
    "ax.set_title('Layer model activation correlation with original across conditions')\n",
    "ax.legend(layers)\n",
    "ax.yaxis.set_label_text('Pearson p')\n",
    "plt.xticks(rotation= 90)"
   ]
  },
  {
   "cell_type": "code",
   "execution_count": 29,
   "metadata": {},
   "outputs": [],
   "source": [
    "def get_correlations_df_dict(model_identifier): #maybe pass activations dict as input so it doesn't have to recompute\n",
    "    layers = get_all_layers(model_identifier)\n",
    "    activations_dict = get_activation_dfs_for_all_layers(model_identifier)\n",
    "    \n",
    "    conditions = list(activations_dict[layers[0]].columns)\n",
    "    \n",
    "    correlations_df_dict = {}\n",
    "    for layer in layers:\n",
    "        orig_column = activations_dict[layer]['Original']\n",
    "        correlations = [orig_column.corr(activations_dict[layer][elm]) for elm in conditions]\n",
    "        correlations_df_dict[layer] = correlations\n",
    "    \n",
    "    return layers, conditions, correlations_df_dict"
   ]
  },
  {
   "cell_type": "code",
   "execution_count": 30,
   "metadata": {
    "scrolled": true
   },
   "outputs": [
    {
     "name": "stderr",
     "output_type": "stream",
     "text": [
      " 29%|██▊       | 4210/14724 [00:00<00:00, 39316.49it/s]"
     ]
    },
    {
     "name": "stdout",
     "output_type": "stream",
     "text": [
      "identifier=distilgpt2,stimuli_identifier=Pereira2018-Original-243sentences1.pkl\n",
      "identifier=distilgpt2,stimuli_identifier=Pereira2018-Original-243sentences1.pkl\n",
      "['drop', 'encoder.h.0', 'encoder.h.1', 'encoder.h.2', 'encoder.h.3', 'encoder.h.4', 'encoder.h.5']\n",
      "This is the layer I'm looking at:  drop\n"
     ]
    },
    {
     "name": "stderr",
     "output_type": "stream",
     "text": [
      "100%|██████████| 14724/14724 [00:10<00:00, 1392.05it/s]\n",
      " 29%|██▊       | 4210/14724 [00:00<00:00, 39909.46it/s]"
     ]
    },
    {
     "name": "stdout",
     "output_type": "stream",
     "text": [
      "This is the layer I'm looking at:  encoder.h.0\n"
     ]
    },
    {
     "name": "stderr",
     "output_type": "stream",
     "text": [
      "100%|██████████| 14724/14724 [00:11<00:00, 1322.33it/s]\n",
      " 29%|██▊       | 4210/14724 [00:00<00:00, 40848.38it/s]"
     ]
    },
    {
     "name": "stdout",
     "output_type": "stream",
     "text": [
      "This is the layer I'm looking at:  encoder.h.1\n"
     ]
    },
    {
     "name": "stderr",
     "output_type": "stream",
     "text": [
      "100%|██████████| 14724/14724 [00:10<00:00, 1352.90it/s]\n",
      " 29%|██▊       | 4210/14724 [00:00<00:00, 40180.54it/s]"
     ]
    },
    {
     "name": "stdout",
     "output_type": "stream",
     "text": [
      "This is the layer I'm looking at:  encoder.h.2\n"
     ]
    },
    {
     "name": "stderr",
     "output_type": "stream",
     "text": [
      "100%|██████████| 14724/14724 [00:11<00:00, 1315.15it/s]\n",
      " 29%|██▊       | 4211/14724 [00:00<00:00, 38850.84it/s]"
     ]
    },
    {
     "name": "stdout",
     "output_type": "stream",
     "text": [
      "This is the layer I'm looking at:  encoder.h.3\n"
     ]
    },
    {
     "name": "stderr",
     "output_type": "stream",
     "text": [
      "100%|██████████| 14724/14724 [00:10<00:00, 1341.61it/s]\n",
      " 29%|██▊       | 4209/14724 [00:00<00:00, 37986.46it/s]"
     ]
    },
    {
     "name": "stdout",
     "output_type": "stream",
     "text": [
      "This is the layer I'm looking at:  encoder.h.4\n"
     ]
    },
    {
     "name": "stderr",
     "output_type": "stream",
     "text": [
      "100%|██████████| 14724/14724 [00:11<00:00, 1283.14it/s]\n",
      " 29%|██▊       | 4210/14724 [00:00<00:00, 41315.94it/s]"
     ]
    },
    {
     "name": "stdout",
     "output_type": "stream",
     "text": [
      "This is the layer I'm looking at:  encoder.h.5\n"
     ]
    },
    {
     "name": "stderr",
     "output_type": "stream",
     "text": [
      "100%|██████████| 14724/14724 [00:10<00:00, 1382.75it/s]\n"
     ]
    }
   ],
   "source": [
    "layers, conditions, distilgpt2_corr_dict = get_correlations_df_dict(\"distilgpt2\")"
   ]
  },
  {
   "cell_type": "code",
   "execution_count": 38,
   "metadata": {},
   "outputs": [],
   "source": [
    "def plot_correlations_lineplot(model_identifier, layers, conditions, correlations_dict):\n",
    "    fig, ax = plt.subplots()\n",
    "    line_colors = sns.color_palette(\"rocket\") + sns.color_palette(\"GnBu_d\") + [sns.color_palette(\"PRGn\", 10)[2]] + [sns.color_palette(\"PuOr\", 10)[0]]\n",
    "    if model_identifier in ['xlnet-large-cased','bert-large-uncased-whole-word-masking']:\n",
    "        line_colors = sns.color_palette(\"rocket\") + sns.color_palette(\"GnBu_d\") + sns.color_palette(\"PRGn\", 10) + sns.color_palette(\"YlOrBr\", 10)\n",
    "    \n",
    "    layers = layers\n",
    "    conditions = conditions\n",
    "    \n",
    "    counter = 0\n",
    "    for key,value in correlations_dict.items():\n",
    "        ax.plot(conditions,value, '-o',color=line_colors[counter])\n",
    "        counter += 1\n",
    "\n",
    "    ax.set_title('Layer model activation correlation with model activations for original sentence across conditions')\n",
    "    if not model_identifier in ['xlnet-large-cased', 'albert-xxlarge-v2', 'bert-large-uncased-whole-word-masking']:\n",
    "        ax.legend(layers)\n",
    "    else:\n",
    "        ax.legend(layers, bbox_to_anchor=(1.05, 1), loc='upper left')\n",
    "    ax.yaxis.set_label_text('Pearson p')\n",
    "    plt.xticks(rotation= 90)\n",
    "    \n",
    "    if not os.path.isdir(\"fig\"):\n",
    "        os.mkdir(\"fig\")\n",
    "    \n",
    "    if len(model_identifier.split(\"-\")) == 1:\n",
    "        model_identifier += \"-lasttoken\"\n",
    "    savename = 'fig/model-activation-correlation-{}.png'.format(model_identifier)\n",
    "    plt.savefig(savename, bbox_inches='tight', dpi=240)"
   ]
  },
  {
   "cell_type": "code",
   "execution_count": 39,
   "metadata": {},
   "outputs": [
    {
     "data": {
      "image/png": "[encoded data removed]",
      "text/plain": [
       "<Figure size 432x288 with 1 Axes>"
      ]
     },
     "metadata": {
      "needs_background": "light"
     },
     "output_type": "display_data"
    }
   ],
   "source": [
    "plot_correlations_lineplot(\"distilgpt2\", layers, conditions, distilgpt2_corr_dict)"
   ]
  },
  {
   "cell_type": "code",
   "execution_count": 33,
   "metadata": {},
   "outputs": [
    {
     "name": "stderr",
     "output_type": "stream",
     "text": [
      " 43%|████▎     | 6393/14724 [00:00<00:00, 61159.84it/s]"
     ]
    },
    {
     "name": "stdout",
     "output_type": "stream",
     "text": [
      "identifier=distilgpt2-avgtoken,stimuli_identifier=Pereira2018-functionwords-avgtoken-243sentences1.pkl\n",
      "identifier=distilgpt2-avgtoken,stimuli_identifier=Pereira2018-functionwords-avgtoken-243sentences1.pkl\n",
      "['drop', 'encoder.h.0', 'encoder.h.1', 'encoder.h.2', 'encoder.h.3', 'encoder.h.4', 'encoder.h.5']\n",
      "This is the layer I'm looking at:  drop\n"
     ]
    },
    {
     "name": "stderr",
     "output_type": "stream",
     "text": [
      "100%|██████████| 14724/14724 [00:11<00:00, 1292.30it/s]\n"
     ]
    },
    {
     "ename": "KeyError",
     "evalue": "'Original'",
     "output_type": "error",
     "traceback": [
      "\u001b[0;31m---------------------------------------------------------------------------\u001b[0m",
      "\u001b[0;31mKeyError\u001b[0m                                  Traceback (most recent call last)",
      "\u001b[0;32m<ipython-input-33-adccd913a75d>\u001b[0m in \u001b[0;36m<module>\u001b[0;34m\u001b[0m\n\u001b[0;32m----> 1\u001b[0;31m \u001b[0mdistilgpt2_avg_layers\u001b[0m\u001b[0;34m,\u001b[0m \u001b[0mdistilgpt2_avg_conditions\u001b[0m\u001b[0;34m,\u001b[0m \u001b[0mdistilgpt2_avg_corr_dict\u001b[0m \u001b[0;34m=\u001b[0m \u001b[0mget_correlations_df_dict\u001b[0m\u001b[0;34m(\u001b[0m\u001b[0;34m\"distilgpt2-avgtoken\"\u001b[0m\u001b[0;34m)\u001b[0m\u001b[0;34m\u001b[0m\u001b[0m\n\u001b[0m\u001b[1;32m      2\u001b[0m \u001b[0mplot_correlations_lineplot\u001b[0m\u001b[0;34m(\u001b[0m\u001b[0;34m\"distilgpt2-avgtoken\"\u001b[0m\u001b[0;34m,\u001b[0m \u001b[0mdistilgpt2_avg_layers\u001b[0m\u001b[0;34m,\u001b[0m \u001b[0mdistilgpt2_avg_conditions\u001b[0m\u001b[0;34m,\u001b[0m \u001b[0mdistilgpt2_avg_corr_dict\u001b[0m\u001b[0;34m)\u001b[0m\u001b[0;34m\u001b[0m\u001b[0m\n",
      "\u001b[0;32m<ipython-input-29-655aafced535>\u001b[0m in \u001b[0;36mget_correlations_df_dict\u001b[0;34m(model_identifier)\u001b[0m\n\u001b[1;32m      1\u001b[0m \u001b[0;32mdef\u001b[0m \u001b[0mget_correlations_df_dict\u001b[0m\u001b[0;34m(\u001b[0m\u001b[0mmodel_identifier\u001b[0m\u001b[0;34m)\u001b[0m\u001b[0;34m:\u001b[0m \u001b[0;31m#maybe pass activations dict as input so it doesn't have to recompute\u001b[0m\u001b[0;34m\u001b[0m\u001b[0m\n\u001b[1;32m      2\u001b[0m     \u001b[0mlayers\u001b[0m \u001b[0;34m=\u001b[0m \u001b[0mget_all_layers\u001b[0m\u001b[0;34m(\u001b[0m\u001b[0mmodel_identifier\u001b[0m\u001b[0;34m)\u001b[0m\u001b[0;34m\u001b[0m\u001b[0m\n\u001b[0;32m----> 3\u001b[0;31m     \u001b[0mactivations_dict\u001b[0m \u001b[0;34m=\u001b[0m \u001b[0mget_activation_dfs_for_all_layers\u001b[0m\u001b[0;34m(\u001b[0m\u001b[0mmodel_identifier\u001b[0m\u001b[0;34m)\u001b[0m\u001b[0;34m\u001b[0m\u001b[0m\n\u001b[0m\u001b[1;32m      4\u001b[0m \u001b[0;34m\u001b[0m\u001b[0m\n\u001b[1;32m      5\u001b[0m     \u001b[0mconditions\u001b[0m \u001b[0;34m=\u001b[0m \u001b[0mlist\u001b[0m\u001b[0;34m(\u001b[0m\u001b[0mactivations_dict\u001b[0m\u001b[0;34m[\u001b[0m\u001b[0mlayers\u001b[0m\u001b[0;34m[\u001b[0m\u001b[0;36m0\u001b[0m\u001b[0;34m]\u001b[0m\u001b[0;34m]\u001b[0m\u001b[0;34m.\u001b[0m\u001b[0mcolumns\u001b[0m\u001b[0;34m)\u001b[0m\u001b[0;34m\u001b[0m\u001b[0m\n",
      "\u001b[0;32m<ipython-input-23-0d63f545b5ae>\u001b[0m in \u001b[0;36mget_activation_dfs_for_all_layers\u001b[0;34m(model_identifier, flatten)\u001b[0m\n\u001b[1;32m      8\u001b[0m     \u001b[0mdf_dict\u001b[0m \u001b[0;34m=\u001b[0m \u001b[0;34m{\u001b[0m\u001b[0;34m}\u001b[0m\u001b[0;34m\u001b[0m\u001b[0m\n\u001b[1;32m      9\u001b[0m     \u001b[0;32mfor\u001b[0m \u001b[0mind\u001b[0m\u001b[0;34m,\u001b[0m\u001b[0melm\u001b[0m \u001b[0;32min\u001b[0m \u001b[0menumerate\u001b[0m\u001b[0;34m(\u001b[0m\u001b[0mlayers\u001b[0m\u001b[0;34m)\u001b[0m\u001b[0;34m:\u001b[0m\u001b[0;34m\u001b[0m\u001b[0m\n\u001b[0;32m---> 10\u001b[0;31m         \u001b[0mdf_dict\u001b[0m\u001b[0;34m[\u001b[0m\u001b[0melm\u001b[0m\u001b[0;34m]\u001b[0m \u001b[0;34m=\u001b[0m \u001b[0mmain_df_for_plotting\u001b[0m\u001b[0;34m(\u001b[0m\u001b[0mmodel_identifier\u001b[0m\u001b[0;34m,\u001b[0m\u001b[0mlayer_identifier\u001b[0m\u001b[0;34m=\u001b[0m\u001b[0melm\u001b[0m\u001b[0;34m,\u001b[0m\u001b[0mflatten\u001b[0m\u001b[0;34m=\u001b[0m\u001b[0mflatten\u001b[0m\u001b[0;34m)\u001b[0m\u001b[0;34m\u001b[0m\u001b[0m\n\u001b[0m\u001b[1;32m     11\u001b[0m     \u001b[0;32mreturn\u001b[0m \u001b[0mdf_dict\u001b[0m\u001b[0;34m\u001b[0m\u001b[0m\n",
      "\u001b[0;32m<ipython-input-22-32dcf68f6254>\u001b[0m in \u001b[0;36mmain_df_for_plotting\u001b[0;34m(model_identifier, layer_identifier, flatten)\u001b[0m\n\u001b[1;32m      1\u001b[0m \u001b[0;32mdef\u001b[0m \u001b[0mmain_df_for_plotting\u001b[0m\u001b[0;34m(\u001b[0m\u001b[0mmodel_identifier\u001b[0m\u001b[0;34m,\u001b[0m \u001b[0mlayer_identifier\u001b[0m\u001b[0;34m=\u001b[0m\u001b[0;32mNone\u001b[0m\u001b[0;34m,\u001b[0m \u001b[0mflatten\u001b[0m\u001b[0;34m=\u001b[0m\u001b[0;32mTrue\u001b[0m\u001b[0;34m)\u001b[0m\u001b[0;34m:\u001b[0m\u001b[0;34m\u001b[0m\u001b[0m\n\u001b[1;32m      2\u001b[0m     \u001b[0mmodel_dict\u001b[0m \u001b[0;34m=\u001b[0m \u001b[0mget_dictionary\u001b[0m\u001b[0;34m(\u001b[0m\u001b[0mmodel_identifier\u001b[0m\u001b[0;34m,\u001b[0m \u001b[0mlayer_identifier\u001b[0m\u001b[0;34m)\u001b[0m\u001b[0;34m\u001b[0m\u001b[0m\n\u001b[0;32m----> 3\u001b[0;31m     \u001b[0mdf\u001b[0m \u001b[0;34m=\u001b[0m \u001b[0mprepare_dataframe\u001b[0m\u001b[0;34m(\u001b[0m\u001b[0;34m*\u001b[0m\u001b[0mget_arrays\u001b[0m\u001b[0;34m(\u001b[0m\u001b[0mmodel_dict\u001b[0m\u001b[0;34m)\u001b[0m\u001b[0;34m,\u001b[0m \u001b[0mflatten\u001b[0m\u001b[0;34m=\u001b[0m\u001b[0mflatten\u001b[0m\u001b[0;34m)\u001b[0m \u001b[0;31m#*flattens the tuple\u001b[0m\u001b[0;34m\u001b[0m\u001b[0m\n\u001b[0m\u001b[1;32m      4\u001b[0m     \u001b[0;32mreturn\u001b[0m \u001b[0mdf\u001b[0m\u001b[0;34m\u001b[0m\u001b[0m\n",
      "\u001b[0;32m<ipython-input-19-f55f898b5262>\u001b[0m in \u001b[0;36mget_arrays\u001b[0;34m(dictionary)\u001b[0m\n\u001b[1;32m      8\u001b[0m     \u001b[0;32mfor\u001b[0m \u001b[0mkey\u001b[0m\u001b[0;34m,\u001b[0m \u001b[0mvalue\u001b[0m \u001b[0;32min\u001b[0m \u001b[0msorted_dict\u001b[0m\u001b[0;34m.\u001b[0m\u001b[0mitems\u001b[0m\u001b[0;34m(\u001b[0m\u001b[0;34m)\u001b[0m\u001b[0;34m:\u001b[0m \u001b[0;31m#key is passage, value is dic from cond to xarray data\u001b[0m\u001b[0;34m\u001b[0m\u001b[0m\n\u001b[1;32m      9\u001b[0m         \u001b[0;31m#print(list(value.keys()))\u001b[0m\u001b[0;34m\u001b[0m\u001b[0;34m\u001b[0m\u001b[0m\n\u001b[0;32m---> 10\u001b[0;31m         \u001b[0moriginal\u001b[0m\u001b[0;34m.\u001b[0m\u001b[0mappend\u001b[0m\u001b[0;34m(\u001b[0m\u001b[0mvalue\u001b[0m\u001b[0;34m[\u001b[0m\u001b[0;34m'Original'\u001b[0m\u001b[0;34m]\u001b[0m\u001b[0;34m.\u001b[0m\u001b[0mvalues\u001b[0m\u001b[0;34m)\u001b[0m\u001b[0;34m\u001b[0m\u001b[0m\n\u001b[0m\u001b[1;32m     11\u001b[0m         \u001b[0mnouns\u001b[0m\u001b[0;34m.\u001b[0m\u001b[0mappend\u001b[0m\u001b[0;34m(\u001b[0m\u001b[0mvalue\u001b[0m\u001b[0;34m[\u001b[0m\u001b[0;34m'nouns'\u001b[0m\u001b[0;34m]\u001b[0m\u001b[0;34m.\u001b[0m\u001b[0mvalues\u001b[0m\u001b[0;34m)\u001b[0m\u001b[0;34m\u001b[0m\u001b[0m\n\u001b[1;32m     12\u001b[0m         \u001b[0mnounsverbs\u001b[0m\u001b[0;34m.\u001b[0m\u001b[0mappend\u001b[0m\u001b[0;34m(\u001b[0m\u001b[0mvalue\u001b[0m\u001b[0;34m[\u001b[0m\u001b[0;34m'nounsverbs'\u001b[0m\u001b[0;34m]\u001b[0m\u001b[0;34m.\u001b[0m\u001b[0mvalues\u001b[0m\u001b[0;34m)\u001b[0m\u001b[0;34m\u001b[0m\u001b[0m\n",
      "\u001b[0;31mKeyError\u001b[0m: 'Original'"
     ]
    }
   ],
   "source": [
    "distilgpt2_avg_layers, distilgpt2_avg_conditions, distilgpt2_avg_corr_dict = get_correlations_df_dict(\"distilgpt2-avgtoken\")\n",
    "plot_correlations_lineplot(\"distilgpt2-avgtoken\", distilgpt2_avg_layers, distilgpt2_avg_conditions, distilgpt2_avg_corr_dict)"
   ]
  },
  {
   "cell_type": "code",
   "execution_count": 116,
   "metadata": {},
   "outputs": [],
   "source": [
    "import math\n",
    "from matplotlib.gridspec import GridSpec\n",
    "\n",
    "def get_corr_lineplots_loop(model_list):\n",
    "    nsubplots = len(model_list)\n",
    "    nrows = math.ceil(nsubplots/2)\n",
    "    #line_colors = sns.color_palette(\"rocket\") + [sns.color_palette(\"PRGn\", 10)[2]] + [sns.color_palette(\"PuOr\", 10)[0]] + sns.color_palette(\"GnBu_d\")\n",
    "    #line_colors = sns.color_palette(\"rocket\") + sns.color_palette(\"GnBu_d\") + [sns.color_palette(\"PRGn\", 10)[2]] + [sns.color_palette(\"PuOr\", 10)[0]]\n",
    "    #if model_identifier in ['xlnet-large-cased','bert-large-uncased-whole-word-masking']:\n",
    "    #    line_colors = sns.color_palette(\"rocket\") + sns.color_palette(\"GnBu_d\") + sns.color_palette(\"PRGn\", 10) + sns.color_palette(\"YlOrBr\", 10)\n",
    "    \n",
    "    \n",
    "    fig2 = plt.figure(constrained_layout=True, figsize=(15, 5*nrows))\n",
    "    fig2.suptitle('Layer model activation correlation with model activations for unscrambled sentence across conditions', fontsize=22, y=1.05)\n",
    "    spec2 = GridSpec(ncols=2, nrows=nrows, figure=fig2)\n",
    "    f2_ax = []\n",
    "    \n",
    "    model_counter = 0\n",
    "    for i in range(nrows):\n",
    "        for j in range(2):\n",
    "            if model_counter + 1 > nsubplots:\n",
    "                break\n",
    "            else:\n",
    "                model_identifier = model_list[model_counter]\n",
    "                line_colors = sns.color_palette(\"rocket\") + sns.color_palette(\"GnBu_d\") + [sns.color_palette(\"PRGn\", 10)[2]] + [sns.color_palette(\"PuOr\", 10)[0]]\n",
    "                if model_identifier in ['xlnet-large-cased','bert-large-uncased-whole-word-masking']:\n",
    "                    line_colors = sns.color_palette(\"rocket\") + sns.color_palette(\"GnBu_d\") + sns.color_palette(\"PRGn\", 10) + sns.color_palette(\"YlOrBr\", 10)\n",
    "                layers, conditions, correlations_df_dict = get_correlations_df_dict(model_identifier)\n",
    "                f2_ax.append(fig2.add_subplot(spec2[i, j]))\n",
    "                \n",
    "                counter = 0\n",
    "                for key,value in correlations_df_dict.items():\n",
    "                    f2_ax[-1].plot(conditions,value, '-o',color=line_colors[counter])\n",
    "                    counter += 1\n",
    "                f2_ax[-1].set_title('{}'.format(model_identifier),fontsize=18)\n",
    "                f2_ax[-1].yaxis.set_label_text('Pearson p')\n",
    "                #shorten names for legend\n",
    "                if model_identifier == 'lm_1b':\n",
    "                    layers = [layer.split('/')[1] for layer in layers]\n",
    "                if 'albert' in model_identifier:\n",
    "                    layers = [re.sub('.albert_layer_groups.','.h.', layer) for layer in layers]\n",
    "                if model_identifier == 'bert-large-uncased-whole-word-masking':\n",
    "                    layers = ['.'.join(layer.split('.')[:-1]) if '.' in layer else layer for layer in layers]\n",
    "                f2_ax[-1].legend(layers, bbox_to_anchor=(1.05, 1), loc='upper left')\n",
    "                plt.xticks(rotation= 90)\n",
    "                model_counter += 1\n",
    "    fig2.savefig('fig/final-activations-layer-comparison.png', bbox_inches='tight')"
   ]
  },
  {
   "cell_type": "code",
   "execution_count": 117,
   "metadata": {
    "scrolled": true
   },
   "outputs": [],
   "source": [
    "#get_corr_lineplots_loop(['glove','lm_1b','skip-thoughts', 'albert-xxlarge-v2','bert-large-uncased-whole-word-masking', 'xlnet-large-cased', 'distilgpt2', 'gpt2']) #'distilbert-base-uncased'"
   ]
  }
 ],
 "metadata": {
  "kernelspec": {
   "display_name": "Python 3",
   "language": "python",
   "name": "python3"
  },
  "language_info": {
   "codemirror_mode": {
    "name": "ipython",
    "version": 3
   },
   "file_extension": ".py",
   "mimetype": "text/x-python",
   "name": "python",
   "nbconvert_exporter": "python",
   "pygments_lexer": "ipython3",
   "version": "3.6.2"
  }
 },
 "nbformat": 4,
 "nbformat_minor": 2
}
