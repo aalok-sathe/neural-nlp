{
 "cells": [
  {
   "cell_type": "code",
   "execution_count": 15,
   "metadata": {},
   "outputs": [
    {
     "name": "stdout",
     "output_type": "stream",
     "text": [
      "/om/user/ckauf/neural-nlp/neural_nlp/analyze/neural-scrambled/metric-validation/model-activations/gpt2\n"
     ]
    }
   ],
   "source": [
    "import os\n",
    "\n",
    "data_dir = os.path.join(os.getcwd(), 'model-activations', 'gpt2')\n",
    "print(data_dir)"
   ]
  },
  {
   "cell_type": "code",
   "execution_count": 16,
   "metadata": {},
   "outputs": [
    {
     "name": "stdout",
     "output_type": "stream",
     "text": [
      "tokens_model=gpt2_Scr7_avg-tok_finalperiod=True_Pereira2018.pkl\n",
      "tokens_model=gpt2_lowPMI_avg-tok_finalperiod=True_Pereira2018.pkl\n",
      "tokens_model=gpt2_random_avg-tok_finalperiod=True_Pereira2018.pkl\n",
      "tokens_model=gpt2_Original_avg-tok_finalperiod=True_Pereira2018.pkl\n",
      "tokens_model=gpt2_Scr5_avg-tok_finalperiod=True_Pereira2018.pkl\n",
      "tokens_model=gpt2_Scr1_avg-tok_finalperiod=True_Pereira2018.pkl\n",
      "tokens_model=gpt2_backward_avg-tok_finalperiod=True_Pereira2018.pkl\n",
      "tokens_model=gpt2_Scr3_avg-tok_finalperiod=True_Pereira2018.pkl\n"
     ]
    }
   ],
   "source": [
    "import pickle\n",
    "pickles = []\n",
    "conditions = []\n",
    "for filename in os.listdir(data_dir):\n",
    "    if filename.startswith('tokens'):\n",
    "        print(filename)\n",
    "        condition = filename.split(\"_\")[2]\n",
    "        conditions.append(condition)\n",
    "        with open(os.path.join(data_dir,filename), 'rb') as f:\n",
    "            x = pickle.load(f)\n",
    "            pickles.append(x)"
   ]
  },
  {
   "cell_type": "code",
   "execution_count": 3,
   "metadata": {},
   "outputs": [],
   "source": [
    "token_lists = []\n",
    "for elm in pickles:\n",
    "    token_lists.append(list(elm.values()))"
   ]
  },
  {
   "cell_type": "code",
   "execution_count": 4,
   "metadata": {},
   "outputs": [
    {
     "name": "stdout",
     "output_type": "stream",
     "text": [
      "8\n",
      "627\n",
      "[[   13   262   286  1957 14903 18656 19934 20697 35308]]\n"
     ]
    }
   ],
   "source": [
    "print(len(token_lists))\n",
    "print(len(token_lists[0]))\n",
    "print(token_lists[0][0])"
   ]
  },
  {
   "cell_type": "code",
   "execution_count": 5,
   "metadata": {},
   "outputs": [],
   "source": [
    "zipped = list(zip(conditions, pickles))"
   ]
  },
  {
   "cell_type": "code",
   "execution_count": 6,
   "metadata": {},
   "outputs": [
    {
     "name": "stdout",
     "output_type": "stream",
     "text": [
      "['Scr7', 'lowPMI', 'random', 'Original', 'Scr5', 'Scr1', 'backward', 'Scr3']\n"
     ]
    }
   ],
   "source": [
    "print(conditions)"
   ]
  },
  {
   "cell_type": "code",
   "execution_count": 7,
   "metadata": {},
   "outputs": [
    {
     "name": "stdout",
     "output_type": "stream",
     "text": [
      "627\n"
     ]
    }
   ],
   "source": [
    "print(len(pickles[0]))"
   ]
  },
  {
   "cell_type": "code",
   "execution_count": 14,
   "metadata": {
    "scrolled": false
   },
   "outputs": [
    {
     "name": "stdout",
     "output_type": "stream",
     "text": [
      "Done\n"
     ]
    }
   ],
   "source": [
    "import numpy as np\n",
    "for i in range(len(pickles[0])): #iterate over sentence indices\n",
    "    for cond1,dic1 in zipped:\n",
    "        for cond2,dic2 in zipped:\n",
    "            try:\n",
    "                assert np.array_equal(list(dic1.values())[i], list(dic2.values())[i])\n",
    "            except:\n",
    "                if cond1 == \"random\" or cond2 == \"random\":\n",
    "                    continue\n",
    "                print(i)\n",
    "                print(cond1, list(dic1.values())[i])\n",
    "                print(cond2, list(dic2.values())[i])\n",
    "                print(\"*\"*30)\n",
    "print(\"Done\")"
   ]
  },
  {
   "cell_type": "markdown",
   "metadata": {},
   "source": [
    "# Another one"
   ]
  },
  {
   "cell_type": "code",
   "execution_count": 22,
   "metadata": {},
   "outputs": [
    {
     "name": "stdout",
     "output_type": "stream",
     "text": [
      "tokens_model=gpt2_backward_last-tok_finalperiod=False_Pereira2018.pkl\n",
      "tokens_model=gpt2_Scr3_last-tok_finalperiod=False_Pereira2018.pkl\n",
      "tokens_model=gpt2_Scr1_last-tok_finalperiod=False_Pereira2018.pkl\n",
      "tokens_model=gpt2_random_last-tok_finalperiod=False_Pereira2018.pkl\n",
      "tokens_model=gpt2_lowPMI_last-tok_finalperiod=False_Pereira2018.pkl\n",
      "tokens_model=gpt2_Scr7_last-tok_finalperiod=False_Pereira2018.pkl\n",
      "tokens_model=gpt2_Scr5_last-tok_finalperiod=False_Pereira2018.pkl\n",
      "tokens_model=gpt2_Original_last-tok_finalperiod=False_Pereira2018.pkl\n",
      "Done\n"
     ]
    }
   ],
   "source": [
    "import pickle\n",
    "pickles = []\n",
    "conditions = []\n",
    "for filename in os.listdir(data_dir):\n",
    "    if filename.startswith('tokens'):\n",
    "        if 'last-tok_finalperiod=False' in filename:\n",
    "            print(filename)\n",
    "            condition = filename.split(\"_\")[2]\n",
    "            conditions.append(condition)\n",
    "            with open(os.path.join(data_dir,filename), 'rb') as f:\n",
    "                x = pickle.load(f)\n",
    "                pickles.append(x)\n",
    "                \n",
    "zipped = list(zip(conditions, pickles))\n",
    "\n",
    "import numpy as np\n",
    "\n",
    "for i in range(len(pickles[0])): #iterate over sentence indices\n",
    "    for cond1,dic1 in zipped:\n",
    "        for cond2,dic2 in zipped:\n",
    "            try:\n",
    "                assert np.array_equal(list(dic1.values())[i], list(dic2.values())[i])\n",
    "            except:\n",
    "                if cond1 == \"random\" or cond2 == \"random\":\n",
    "                    continue\n",
    "                print(i)\n",
    "                print(cond1, list(dic1.values())[i])\n",
    "                print(cond2, list(dic2.values())[i])\n",
    "                print(\"*\"*30)\n",
    "print(\"Done\")"
   ]
  },
  {
   "cell_type": "code",
   "execution_count": null,
   "metadata": {},
   "outputs": [],
   "source": []
  }
 ],
 "metadata": {
  "kernelspec": {
   "display_name": "Python 3",
   "language": "python",
   "name": "python3"
  },
  "language_info": {
   "codemirror_mode": {
    "name": "ipython",
    "version": 3
   },
   "file_extension": ".py",
   "mimetype": "text/x-python",
   "name": "python",
   "nbconvert_exporter": "python",
   "pygments_lexer": "ipython3",
   "version": "3.6.2"
  }
 },
 "nbformat": 4,
 "nbformat_minor": 2
}
